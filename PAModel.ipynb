{
  "cells": [
    {
      "cell_type": "markdown",
      "metadata": {
        "id": "view-in-github",
        "colab_type": "text"
      },
      "source": [
        "<a href=\"https://colab.research.google.com/github/IvanVoinovGitHub/Covid19-Analysis-Modeling/blob/main/PAModel.ipynb\" target=\"_parent\"><img src=\"https://colab.research.google.com/assets/colab-badge.svg\" alt=\"Open In Colab\"/></a>"
      ]
    },
    {
      "cell_type": "markdown",
      "metadata": {
        "id": "F2ptgqZnxkFr"
      },
      "source": [
        "# COVID PA Forecast: SIR model + ML regressions\n",
        "\n",
        "The emergence of the coronavirus disease (COVID-19), which is an infectious disease caused by the SARS-CoV-2 virus, has devastated economies and caused unprecedented challenges to healthcare and food systems around the world. Globally, billions of people have been ordered to stay at home as a result of lockdowns and social distancing measures being put in place. Many will agree that the pandemic has significantly affected how the general population connects to and interacts with others. This loss of connection has been further impaired by the inability to meet with others at central areas of social interaction and support such as restaurants, libraries, sports facilities and both cultural and community centers. In efforts to tackle this pandemic, it is imperative that a model is created to accurately predict the spread of COVID-19. Thus, our research emphasizes creating a model that will accurately predict the spread of COVID-19 using machine learning methods.\n",
        "\n",
        "\n",
        "\n",
        "**TABLE OF CONTENTS**\n",
        "\n",
        "1. [Loading in PA data](#section1)\n",
        "\n",
        "    \n",
        "    \n",
        "2. [SIR model](#section2)\n",
        "\n",
        "    2.1. [Implementing the SIR model](#section21)\n",
        "    \n",
        "    2.2. [Fit SIR parameters to real data](#section22)\n",
        "    \n",
        "3. [Data enrichment](#section3)\n",
        "\n",
        "    3.1. [Join data, filter dates and clean missings](#section31)\n",
        "    \n",
        "    3.2. [Compute lags and trends](#section32)\n",
        "    \n",
        "    3.3. [Add country details](#section33)\n",
        "    \n",
        "4. [Predictions for the early stages of the transmission](#section4)\n",
        "\n",
        "    4.1. [Linear Regression for one country](#section41)\n",
        "    \n",
        "    4.2. [Linear Regression for all countries (method 1)](#section42)\n",
        "    \n",
        "    4.3. [Linear Regression for all countries (method 2)](#section43)\n",
        "    \n",
        "    4.4. [Linear regression with lags](#section44)\n",
        "    \n",
        "5. [Predictions for the late stages of the transmission](#section5)\n",
        "\n",
        "    5.1. [Logistic curve fit](#section51)\n",
        "    \n",
        "    5.2. [Logistic curve fit for all countries](#section52)\n",
        "    \n",
        "    5.3. [ARIMA](#section53)\n",
        "    \n",
        "6. [Statement of the author](#section6)\n",
        "\n",
        "**Disclaimer 1**: this notebook is being updated frequently with the objective of improving predictions by using new models.\n",
        "\n",
        "**Disclaimer 2**: the training dataset is also updated on a daily basis in order to include the most recent cases. In order to be up to date and prevent data leaking and other potential problems, daily updates on \"filtered dates\" will be applied.\n",
        "\n",
        "**Disclaimer 3**: the COVID Global Forecasting competition is updated week by week (with a new competition). I'll move the notebook from previous weeks to the new one, so that it only appears in the most recent competition. "
      ]
    },
    {
      "cell_type": "code",
      "execution_count": null,
      "metadata": {
        "_cell_guid": "b1076dfc-b9ad-4769-8c92-a6c4dae69d19",
        "_uuid": "8f2839f25d086af736a60e9eeb907d3b93b6e0e5",
        "id": "lwpKw5wuxkFu"
      },
      "outputs": [],
      "source": [
        "import numpy as np \n",
        "import pandas as pd \n",
        "import matplotlib.pyplot as plt\n",
        "import seaborn as sns\n",
        "from sklearn import preprocessing\n",
        "#import scipy.stats as stats\n",
        "import time\n",
        "from datetime import datetime\n",
        "from scipy import integrate, optimize\n",
        "import subprocess\n",
        "import warnings\n",
        "warnings.filterwarnings('ignore')\n",
        "\n",
        "# ML libraries\n",
        "import lightgbm as lgb\n",
        "import xgboost as xgb\n",
        "from xgboost import plot_importance, plot_tree\n",
        "from sklearn.model_selection import RandomizedSearchCV, GridSearchCV\n",
        "from sklearn import linear_model\n",
        "from sklearn.metrics import mean_squared_error"
      ]
    },
    {
      "cell_type": "markdown",
      "metadata": {
        "id": "zZTxkdw8xkFv"
      },
      "source": [
        "# 1. Loading in PA Data <a id=\"section1\"></a>\n",
        "\n",
        "In this section the PA data is loaded in and combined to create a dataset that we will use for predicting covid cases.\n"
      ]
    },
    {
      "cell_type": "code",
      "source": [
        "#COVID-19 Aggregate Cases Current Daily County Health\n",
        "url1 = \"https://data.pa.gov/api/views/j72v-r42c/rows.csv?accessType=DOWNLOAD\"\n",
        "data1 = pd.read_csv(url1)\n",
        "\n",
        "#Data Cleaning \n",
        "data11 = data1.drop([\"Latitude\", \"Georeferenced Lat & Long\", \"Longitude\"], axis = 1)\n",
        "data11.rename(columns = {'County FIPS Code':'FIPS'}, inplace = True)\n",
        "data11 = data11.rename(columns = {data11.columns[4] : 'Cum_cases'})\n",
        "data11 = data11.dropna()\n",
        "data11['Date'] = pd.to_datetime(data11['Date'])\n",
        "data11['Date'] = data11['Date'].dt.strftime('%m/%d/%Y')\n",
        "data11['Date'] = pd.to_datetime(data11['Date'])\n",
        "\n",
        "#print(data11.info())\n",
        "data11.head(10)\n"
      ],
      "metadata": {
        "id": "fLRg4QuAuiFx",
        "colab": {
          "base_uri": "https://localhost:8080/",
          "height": 363
        },
        "outputId": "d7ab372a-c273-4f99-ff1c-2e6249b5cc26"
      },
      "execution_count": null,
      "outputs": [
        {
          "output_type": "execute_result",
          "data": {
            "text/plain": [
              "     Jurisdiction       Date  New Cases  7-day Average New Cases  Cum_cases  \\\n",
              "0           Union 2021-10-24         16                     26.1       7417   \n",
              "1  Northumberland 2021-02-24          9                     12.6       8002   \n",
              "2  Northumberland 2021-03-11         19                     16.0       8251   \n",
              "3           Union 2022-01-05         48                     40.4       9222   \n",
              "4  Northumberland 2021-03-19         33                     21.9       8422   \n",
              "5       Armstrong 2021-09-13         73                     50.7       6973   \n",
              "6           Union 2021-10-16         11                     19.7       7224   \n",
              "7    Philadelphia 2020-03-29        161                    133.9       1113   \n",
              "8           Union 2021-10-17         10                     18.4       7234   \n",
              "9       Armstrong 2021-03-21          5                     10.6       5072   \n",
              "\n",
              "   Population (2019)  New Case Rate  7-Day Average New Case Rate  \\\n",
              "0              44923           35.6                         58.2   \n",
              "1              90843            9.9                         13.8   \n",
              "2              90843           20.9                         17.6   \n",
              "3              44923          106.8                         90.0   \n",
              "4              90843           36.3                         24.1   \n",
              "5              64735          112.8                         78.3   \n",
              "6              44923           24.5                         43.9   \n",
              "7            1584064           10.2                          8.5   \n",
              "8              44923           22.3                         41.0   \n",
              "9              64735            7.7                         16.3   \n",
              "\n",
              "   Cumulative Case Rate   FIPS  \n",
              "0               16510.5  42119  \n",
              "1                8808.6  42097  \n",
              "2                9082.7  42097  \n",
              "3               20528.5  42119  \n",
              "4                9270.9  42097  \n",
              "5               10771.6  42005  \n",
              "6               16080.8  42119  \n",
              "7                  70.3  42101  \n",
              "8               16103.1  42119  \n",
              "9                7835.0  42005  "
            ],
            "text/html": [
              "\n",
              "  <div id=\"df-0c68f4c1-be31-4b16-9c42-acdab28b6d97\">\n",
              "    <div class=\"colab-df-container\">\n",
              "      <div>\n",
              "<style scoped>\n",
              "    .dataframe tbody tr th:only-of-type {\n",
              "        vertical-align: middle;\n",
              "    }\n",
              "\n",
              "    .dataframe tbody tr th {\n",
              "        vertical-align: top;\n",
              "    }\n",
              "\n",
              "    .dataframe thead th {\n",
              "        text-align: right;\n",
              "    }\n",
              "</style>\n",
              "<table border=\"1\" class=\"dataframe\">\n",
              "  <thead>\n",
              "    <tr style=\"text-align: right;\">\n",
              "      <th></th>\n",
              "      <th>Jurisdiction</th>\n",
              "      <th>Date</th>\n",
              "      <th>New Cases</th>\n",
              "      <th>7-day Average New Cases</th>\n",
              "      <th>Cum_cases</th>\n",
              "      <th>Population (2019)</th>\n",
              "      <th>New Case Rate</th>\n",
              "      <th>7-Day Average New Case Rate</th>\n",
              "      <th>Cumulative Case Rate</th>\n",
              "      <th>FIPS</th>\n",
              "    </tr>\n",
              "  </thead>\n",
              "  <tbody>\n",
              "    <tr>\n",
              "      <th>0</th>\n",
              "      <td>Union</td>\n",
              "      <td>2021-10-24</td>\n",
              "      <td>16</td>\n",
              "      <td>26.1</td>\n",
              "      <td>7417</td>\n",
              "      <td>44923</td>\n",
              "      <td>35.6</td>\n",
              "      <td>58.2</td>\n",
              "      <td>16510.5</td>\n",
              "      <td>42119</td>\n",
              "    </tr>\n",
              "    <tr>\n",
              "      <th>1</th>\n",
              "      <td>Northumberland</td>\n",
              "      <td>2021-02-24</td>\n",
              "      <td>9</td>\n",
              "      <td>12.6</td>\n",
              "      <td>8002</td>\n",
              "      <td>90843</td>\n",
              "      <td>9.9</td>\n",
              "      <td>13.8</td>\n",
              "      <td>8808.6</td>\n",
              "      <td>42097</td>\n",
              "    </tr>\n",
              "    <tr>\n",
              "      <th>2</th>\n",
              "      <td>Northumberland</td>\n",
              "      <td>2021-03-11</td>\n",
              "      <td>19</td>\n",
              "      <td>16.0</td>\n",
              "      <td>8251</td>\n",
              "      <td>90843</td>\n",
              "      <td>20.9</td>\n",
              "      <td>17.6</td>\n",
              "      <td>9082.7</td>\n",
              "      <td>42097</td>\n",
              "    </tr>\n",
              "    <tr>\n",
              "      <th>3</th>\n",
              "      <td>Union</td>\n",
              "      <td>2022-01-05</td>\n",
              "      <td>48</td>\n",
              "      <td>40.4</td>\n",
              "      <td>9222</td>\n",
              "      <td>44923</td>\n",
              "      <td>106.8</td>\n",
              "      <td>90.0</td>\n",
              "      <td>20528.5</td>\n",
              "      <td>42119</td>\n",
              "    </tr>\n",
              "    <tr>\n",
              "      <th>4</th>\n",
              "      <td>Northumberland</td>\n",
              "      <td>2021-03-19</td>\n",
              "      <td>33</td>\n",
              "      <td>21.9</td>\n",
              "      <td>8422</td>\n",
              "      <td>90843</td>\n",
              "      <td>36.3</td>\n",
              "      <td>24.1</td>\n",
              "      <td>9270.9</td>\n",
              "      <td>42097</td>\n",
              "    </tr>\n",
              "    <tr>\n",
              "      <th>5</th>\n",
              "      <td>Armstrong</td>\n",
              "      <td>2021-09-13</td>\n",
              "      <td>73</td>\n",
              "      <td>50.7</td>\n",
              "      <td>6973</td>\n",
              "      <td>64735</td>\n",
              "      <td>112.8</td>\n",
              "      <td>78.3</td>\n",
              "      <td>10771.6</td>\n",
              "      <td>42005</td>\n",
              "    </tr>\n",
              "    <tr>\n",
              "      <th>6</th>\n",
              "      <td>Union</td>\n",
              "      <td>2021-10-16</td>\n",
              "      <td>11</td>\n",
              "      <td>19.7</td>\n",
              "      <td>7224</td>\n",
              "      <td>44923</td>\n",
              "      <td>24.5</td>\n",
              "      <td>43.9</td>\n",
              "      <td>16080.8</td>\n",
              "      <td>42119</td>\n",
              "    </tr>\n",
              "    <tr>\n",
              "      <th>7</th>\n",
              "      <td>Philadelphia</td>\n",
              "      <td>2020-03-29</td>\n",
              "      <td>161</td>\n",
              "      <td>133.9</td>\n",
              "      <td>1113</td>\n",
              "      <td>1584064</td>\n",
              "      <td>10.2</td>\n",
              "      <td>8.5</td>\n",
              "      <td>70.3</td>\n",
              "      <td>42101</td>\n",
              "    </tr>\n",
              "    <tr>\n",
              "      <th>8</th>\n",
              "      <td>Union</td>\n",
              "      <td>2021-10-17</td>\n",
              "      <td>10</td>\n",
              "      <td>18.4</td>\n",
              "      <td>7234</td>\n",
              "      <td>44923</td>\n",
              "      <td>22.3</td>\n",
              "      <td>41.0</td>\n",
              "      <td>16103.1</td>\n",
              "      <td>42119</td>\n",
              "    </tr>\n",
              "    <tr>\n",
              "      <th>9</th>\n",
              "      <td>Armstrong</td>\n",
              "      <td>2021-03-21</td>\n",
              "      <td>5</td>\n",
              "      <td>10.6</td>\n",
              "      <td>5072</td>\n",
              "      <td>64735</td>\n",
              "      <td>7.7</td>\n",
              "      <td>16.3</td>\n",
              "      <td>7835.0</td>\n",
              "      <td>42005</td>\n",
              "    </tr>\n",
              "  </tbody>\n",
              "</table>\n",
              "</div>\n",
              "      <button class=\"colab-df-convert\" onclick=\"convertToInteractive('df-0c68f4c1-be31-4b16-9c42-acdab28b6d97')\"\n",
              "              title=\"Convert this dataframe to an interactive table.\"\n",
              "              style=\"display:none;\">\n",
              "        \n",
              "  <svg xmlns=\"http://www.w3.org/2000/svg\" height=\"24px\"viewBox=\"0 0 24 24\"\n",
              "       width=\"24px\">\n",
              "    <path d=\"M0 0h24v24H0V0z\" fill=\"none\"/>\n",
              "    <path d=\"M18.56 5.44l.94 2.06.94-2.06 2.06-.94-2.06-.94-.94-2.06-.94 2.06-2.06.94zm-11 1L8.5 8.5l.94-2.06 2.06-.94-2.06-.94L8.5 2.5l-.94 2.06-2.06.94zm10 10l.94 2.06.94-2.06 2.06-.94-2.06-.94-.94-2.06-.94 2.06-2.06.94z\"/><path d=\"M17.41 7.96l-1.37-1.37c-.4-.4-.92-.59-1.43-.59-.52 0-1.04.2-1.43.59L10.3 9.45l-7.72 7.72c-.78.78-.78 2.05 0 2.83L4 21.41c.39.39.9.59 1.41.59.51 0 1.02-.2 1.41-.59l7.78-7.78 2.81-2.81c.8-.78.8-2.07 0-2.86zM5.41 20L4 18.59l7.72-7.72 1.47 1.35L5.41 20z\"/>\n",
              "  </svg>\n",
              "      </button>\n",
              "      \n",
              "  <style>\n",
              "    .colab-df-container {\n",
              "      display:flex;\n",
              "      flex-wrap:wrap;\n",
              "      gap: 12px;\n",
              "    }\n",
              "\n",
              "    .colab-df-convert {\n",
              "      background-color: #E8F0FE;\n",
              "      border: none;\n",
              "      border-radius: 50%;\n",
              "      cursor: pointer;\n",
              "      display: none;\n",
              "      fill: #1967D2;\n",
              "      height: 32px;\n",
              "      padding: 0 0 0 0;\n",
              "      width: 32px;\n",
              "    }\n",
              "\n",
              "    .colab-df-convert:hover {\n",
              "      background-color: #E2EBFA;\n",
              "      box-shadow: 0px 1px 2px rgba(60, 64, 67, 0.3), 0px 1px 3px 1px rgba(60, 64, 67, 0.15);\n",
              "      fill: #174EA6;\n",
              "    }\n",
              "\n",
              "    [theme=dark] .colab-df-convert {\n",
              "      background-color: #3B4455;\n",
              "      fill: #D2E3FC;\n",
              "    }\n",
              "\n",
              "    [theme=dark] .colab-df-convert:hover {\n",
              "      background-color: #434B5C;\n",
              "      box-shadow: 0px 1px 3px 1px rgba(0, 0, 0, 0.15);\n",
              "      filter: drop-shadow(0px 1px 2px rgba(0, 0, 0, 0.3));\n",
              "      fill: #FFFFFF;\n",
              "    }\n",
              "  </style>\n",
              "\n",
              "      <script>\n",
              "        const buttonEl =\n",
              "          document.querySelector('#df-0c68f4c1-be31-4b16-9c42-acdab28b6d97 button.colab-df-convert');\n",
              "        buttonEl.style.display =\n",
              "          google.colab.kernel.accessAllowed ? 'block' : 'none';\n",
              "\n",
              "        async function convertToInteractive(key) {\n",
              "          const element = document.querySelector('#df-0c68f4c1-be31-4b16-9c42-acdab28b6d97');\n",
              "          const dataTable =\n",
              "            await google.colab.kernel.invokeFunction('convertToInteractive',\n",
              "                                                     [key], {});\n",
              "          if (!dataTable) return;\n",
              "\n",
              "          const docLinkHtml = 'Like what you see? Visit the ' +\n",
              "            '<a target=\"_blank\" href=https://colab.research.google.com/notebooks/data_table.ipynb>data table notebook</a>'\n",
              "            + ' to learn more about interactive tables.';\n",
              "          element.innerHTML = '';\n",
              "          dataTable['output_type'] = 'display_data';\n",
              "          await google.colab.output.renderOutput(dataTable, element);\n",
              "          const docLink = document.createElement('div');\n",
              "          docLink.innerHTML = docLinkHtml;\n",
              "          element.appendChild(docLink);\n",
              "        }\n",
              "      </script>\n",
              "    </div>\n",
              "  </div>\n",
              "  "
            ]
          },
          "metadata": {},
          "execution_count": 2
        }
      ]
    },
    {
      "cell_type": "code",
      "source": [
        "#United States COVID-19 County Level of Community Transmission as Originally Posted\n",
        "url2 = \"https://data.cdc.gov/api/views/8396-v7yb/rows.csv?accessType=DOWNLOAD\"\n",
        "\n",
        "data2 = pd.read_csv(url2)\n",
        "\n",
        "#Data Cleaning\n",
        "data22 = data2.query('state_name == \"Pennsylvania\"')\n",
        "data22 = data22.drop([\"cases_per_100K_7_day_count_change\", \"state_name\", \"county_name\"], axis = 1)\n",
        "data22.rename(columns = {'fips_code':'FIPS', 'report_date': 'Date'}, inplace = True)\n",
        "data22 = data22.dropna()\n",
        "data22['Date'] = pd.to_datetime(data22['Date'])\n",
        "data22['Date'] = data22['Date'].dt.strftime('%m/%d/%Y')\n",
        "data22['Date'] = pd.to_datetime(data22['Date'])\n",
        "\n",
        "#Change the transmission levels\n",
        "data22 = data22.replace(['low'], 0)\n",
        "data22 = data22.replace(['moderate'], 1)\n",
        "data22 = data22.replace(['substantial'], 2)\n",
        "data22 = data22.replace(['high'], 3)\n",
        "\n",
        "#data22['community_transmission_level'] = data22['community_transmission_level'].replace(['low','moderate', 'substantial', 'high'], [0,1,2,3])\n",
        "\n",
        "#print(data22.info())\n",
        "data22.head(10)"
      ],
      "metadata": {
        "colab": {
          "base_uri": "https://localhost:8080/",
          "height": 363
        },
        "id": "t9hLoqQ0D6uh",
        "outputId": "d2220eea-02f5-4c3c-fc85-015e8778f017"
      },
      "execution_count": null,
      "outputs": [
        {
          "output_type": "execute_result",
          "data": {
            "text/plain": [
              "      FIPS       Date  percent_test_results_reported_positive_last_7_days  \\\n",
              "6    42039 2021-08-16                                               7.88    \n",
              "11   42025 2021-08-16                                               4.95    \n",
              "45   42035 2021-08-19                                              11.72    \n",
              "88   42085 2021-08-23                                               8.57    \n",
              "129  42017 2021-08-26                                               6.41    \n",
              "133  42117 2021-08-26                                               8.59    \n",
              "145  42099 2021-08-27                                              14.56    \n",
              "173  42071 2021-08-29                                              10.43    \n",
              "286  42013 2021-09-07                                               7.46    \n",
              "297  42089 2021-09-07                                              13.63    \n",
              "\n",
              "     community_transmission_level  \n",
              "6                               2  \n",
              "11                              3  \n",
              "45                              3  \n",
              "88                              3  \n",
              "129                             3  \n",
              "133                             2  \n",
              "145                             3  \n",
              "173                             3  \n",
              "286                             3  \n",
              "297                             3  "
            ],
            "text/html": [
              "\n",
              "  <div id=\"df-dd2c83d3-ec98-4097-b1dc-4b52d569add6\">\n",
              "    <div class=\"colab-df-container\">\n",
              "      <div>\n",
              "<style scoped>\n",
              "    .dataframe tbody tr th:only-of-type {\n",
              "        vertical-align: middle;\n",
              "    }\n",
              "\n",
              "    .dataframe tbody tr th {\n",
              "        vertical-align: top;\n",
              "    }\n",
              "\n",
              "    .dataframe thead th {\n",
              "        text-align: right;\n",
              "    }\n",
              "</style>\n",
              "<table border=\"1\" class=\"dataframe\">\n",
              "  <thead>\n",
              "    <tr style=\"text-align: right;\">\n",
              "      <th></th>\n",
              "      <th>FIPS</th>\n",
              "      <th>Date</th>\n",
              "      <th>percent_test_results_reported_positive_last_7_days</th>\n",
              "      <th>community_transmission_level</th>\n",
              "    </tr>\n",
              "  </thead>\n",
              "  <tbody>\n",
              "    <tr>\n",
              "      <th>6</th>\n",
              "      <td>42039</td>\n",
              "      <td>2021-08-16</td>\n",
              "      <td>7.88</td>\n",
              "      <td>2</td>\n",
              "    </tr>\n",
              "    <tr>\n",
              "      <th>11</th>\n",
              "      <td>42025</td>\n",
              "      <td>2021-08-16</td>\n",
              "      <td>4.95</td>\n",
              "      <td>3</td>\n",
              "    </tr>\n",
              "    <tr>\n",
              "      <th>45</th>\n",
              "      <td>42035</td>\n",
              "      <td>2021-08-19</td>\n",
              "      <td>11.72</td>\n",
              "      <td>3</td>\n",
              "    </tr>\n",
              "    <tr>\n",
              "      <th>88</th>\n",
              "      <td>42085</td>\n",
              "      <td>2021-08-23</td>\n",
              "      <td>8.57</td>\n",
              "      <td>3</td>\n",
              "    </tr>\n",
              "    <tr>\n",
              "      <th>129</th>\n",
              "      <td>42017</td>\n",
              "      <td>2021-08-26</td>\n",
              "      <td>6.41</td>\n",
              "      <td>3</td>\n",
              "    </tr>\n",
              "    <tr>\n",
              "      <th>133</th>\n",
              "      <td>42117</td>\n",
              "      <td>2021-08-26</td>\n",
              "      <td>8.59</td>\n",
              "      <td>2</td>\n",
              "    </tr>\n",
              "    <tr>\n",
              "      <th>145</th>\n",
              "      <td>42099</td>\n",
              "      <td>2021-08-27</td>\n",
              "      <td>14.56</td>\n",
              "      <td>3</td>\n",
              "    </tr>\n",
              "    <tr>\n",
              "      <th>173</th>\n",
              "      <td>42071</td>\n",
              "      <td>2021-08-29</td>\n",
              "      <td>10.43</td>\n",
              "      <td>3</td>\n",
              "    </tr>\n",
              "    <tr>\n",
              "      <th>286</th>\n",
              "      <td>42013</td>\n",
              "      <td>2021-09-07</td>\n",
              "      <td>7.46</td>\n",
              "      <td>3</td>\n",
              "    </tr>\n",
              "    <tr>\n",
              "      <th>297</th>\n",
              "      <td>42089</td>\n",
              "      <td>2021-09-07</td>\n",
              "      <td>13.63</td>\n",
              "      <td>3</td>\n",
              "    </tr>\n",
              "  </tbody>\n",
              "</table>\n",
              "</div>\n",
              "      <button class=\"colab-df-convert\" onclick=\"convertToInteractive('df-dd2c83d3-ec98-4097-b1dc-4b52d569add6')\"\n",
              "              title=\"Convert this dataframe to an interactive table.\"\n",
              "              style=\"display:none;\">\n",
              "        \n",
              "  <svg xmlns=\"http://www.w3.org/2000/svg\" height=\"24px\"viewBox=\"0 0 24 24\"\n",
              "       width=\"24px\">\n",
              "    <path d=\"M0 0h24v24H0V0z\" fill=\"none\"/>\n",
              "    <path d=\"M18.56 5.44l.94 2.06.94-2.06 2.06-.94-2.06-.94-.94-2.06-.94 2.06-2.06.94zm-11 1L8.5 8.5l.94-2.06 2.06-.94-2.06-.94L8.5 2.5l-.94 2.06-2.06.94zm10 10l.94 2.06.94-2.06 2.06-.94-2.06-.94-.94-2.06-.94 2.06-2.06.94z\"/><path d=\"M17.41 7.96l-1.37-1.37c-.4-.4-.92-.59-1.43-.59-.52 0-1.04.2-1.43.59L10.3 9.45l-7.72 7.72c-.78.78-.78 2.05 0 2.83L4 21.41c.39.39.9.59 1.41.59.51 0 1.02-.2 1.41-.59l7.78-7.78 2.81-2.81c.8-.78.8-2.07 0-2.86zM5.41 20L4 18.59l7.72-7.72 1.47 1.35L5.41 20z\"/>\n",
              "  </svg>\n",
              "      </button>\n",
              "      \n",
              "  <style>\n",
              "    .colab-df-container {\n",
              "      display:flex;\n",
              "      flex-wrap:wrap;\n",
              "      gap: 12px;\n",
              "    }\n",
              "\n",
              "    .colab-df-convert {\n",
              "      background-color: #E8F0FE;\n",
              "      border: none;\n",
              "      border-radius: 50%;\n",
              "      cursor: pointer;\n",
              "      display: none;\n",
              "      fill: #1967D2;\n",
              "      height: 32px;\n",
              "      padding: 0 0 0 0;\n",
              "      width: 32px;\n",
              "    }\n",
              "\n",
              "    .colab-df-convert:hover {\n",
              "      background-color: #E2EBFA;\n",
              "      box-shadow: 0px 1px 2px rgba(60, 64, 67, 0.3), 0px 1px 3px 1px rgba(60, 64, 67, 0.15);\n",
              "      fill: #174EA6;\n",
              "    }\n",
              "\n",
              "    [theme=dark] .colab-df-convert {\n",
              "      background-color: #3B4455;\n",
              "      fill: #D2E3FC;\n",
              "    }\n",
              "\n",
              "    [theme=dark] .colab-df-convert:hover {\n",
              "      background-color: #434B5C;\n",
              "      box-shadow: 0px 1px 3px 1px rgba(0, 0, 0, 0.15);\n",
              "      filter: drop-shadow(0px 1px 2px rgba(0, 0, 0, 0.3));\n",
              "      fill: #FFFFFF;\n",
              "    }\n",
              "  </style>\n",
              "\n",
              "      <script>\n",
              "        const buttonEl =\n",
              "          document.querySelector('#df-dd2c83d3-ec98-4097-b1dc-4b52d569add6 button.colab-df-convert');\n",
              "        buttonEl.style.display =\n",
              "          google.colab.kernel.accessAllowed ? 'block' : 'none';\n",
              "\n",
              "        async function convertToInteractive(key) {\n",
              "          const element = document.querySelector('#df-dd2c83d3-ec98-4097-b1dc-4b52d569add6');\n",
              "          const dataTable =\n",
              "            await google.colab.kernel.invokeFunction('convertToInteractive',\n",
              "                                                     [key], {});\n",
              "          if (!dataTable) return;\n",
              "\n",
              "          const docLinkHtml = 'Like what you see? Visit the ' +\n",
              "            '<a target=\"_blank\" href=https://colab.research.google.com/notebooks/data_table.ipynb>data table notebook</a>'\n",
              "            + ' to learn more about interactive tables.';\n",
              "          element.innerHTML = '';\n",
              "          dataTable['output_type'] = 'display_data';\n",
              "          await google.colab.output.renderOutput(dataTable, element);\n",
              "          const docLink = document.createElement('div');\n",
              "          docLink.innerHTML = docLinkHtml;\n",
              "          element.appendChild(docLink);\n",
              "        }\n",
              "      </script>\n",
              "    </div>\n",
              "  </div>\n",
              "  "
            ]
          },
          "metadata": {},
          "execution_count": 3
        }
      ]
    },
    {
      "cell_type": "code",
      "source": [
        "#COVID-19 Vaccinations in the United States,Jurisdiction\n",
        "url3 = \"https://data.cdc.gov/api/views/unsk-b7fc/rows.csv?accessType=DOWNLOAD\"\n",
        "data3 = pd.read_csv(url3)\n",
        "\n",
        "#Data Cleaning \n",
        "data33 = data3.query('Location == \"PA\"')\n",
        "data33 = data33.drop([\"MMWR_week\", \"Distributed_Janssen\", \"Distributed_Moderna\", \"Distributed_Pfizer\", \"Distributed_Unk_Manuf\", \"Dist_Per_100K\", \"Distributed_Per_100k_12Plus\", \"Distributed_Per_100k_18Plus\", \"Distributed_Per_100k_65Plus\", \"Administered_12Plus\", \"Administered_18Plus\", \"Administered_65Plus\", \"Administered_Janssen\", \"Administered_Moderna\", \"Administered_Pfizer\", \"Administered_Unk_Manuf\", \"Admin_Per_100K\", \"Admin_Per_100k_12Plus\", \"Admin_Per_100k_18Plus\", \"Admin_Per_100k_65Plus\", \"Recip_Administered\", \"Administered_Dose1_Recip_12Plus\", \"Administered_Dose1_Recip_12PlusPop_Pct\", \"Administered_Dose1_Recip_18Plus\", \"Administered_Dose1_Recip_18PlusPop_Pct\", \"Administered_Dose1_Recip_65Plus\", \"Administered_Dose1_Recip_65PlusPop_Pct\", \"Series_Complete_12Plus\", \"Series_Complete_12PlusPop_Pct\", \"Series_Complete_18Plus\", \"Series_Complete_18PlusPop_Pct\", \"Series_Complete_65Plus\", \"Series_Complete_65PlusPop_Pct\", \"Series_Complete_Janssen\", \"Series_Complete_Moderna\", \"Series_Complete_Pfizer\", \"Series_Complete_Unk_Manuf\", \"Series_Complete_Janssen_12Plus\", \"Series_Complete_Moderna_12Plus\", \"Series_Complete_Pfizer_12Plus\", \"Series_Complete_Unk_Manuf_12Plus\", \"Series_Complete_Janssen_18Plus\", \"Series_Complete_Moderna_18Plus\", \"Series_Complete_Pfizer_18Plus\", \"Series_Complete_Unk_Manuf_18Plus\", \"Series_Complete_Janssen_65Plus\", \"Series_Complete_Moderna_65Plus\", \"Series_Complete_Pfizer_65Plus\", \"Series_Complete_Unk_Manuf_65Plus\", \"Additional_Doses_12Plus\", \"Additional_Doses_12Plus_Vax_Pct\", \"Additional_Doses_18Plus\", \"Additional_Doses_18Plus_Vax_Pct\", \"Additional_Doses_50Plus\", \"Additional_Doses_50Plus_Vax_Pct\", \"Additional_Doses_65Plus\", \"Additional_Doses_65Plus_Vax_Pct\", \"Additional_Doses_Moderna\", \"Additional_Doses_Pfizer\", \"Additional_Doses_Janssen\", \"Additional_Doses_Unk_Manuf\", \"Administered_Dose1_Recip_5Plus\", \"Administered_Dose1_Recip_5PlusPop_Pct\", \"Series_Complete_5Plus\", \"Series_Complete_5PlusPop_Pct\", \"Administered_5Plus\", \"Admin_Per_100k_5Plus\", \"Series_Complete_Moderna_5Plus\", \"Series_Complete_Pfizer_5Plus\", \"Series_Complete_Janssen_5Plus\", \"Series_Complete_Unk_Manuf_5Plus\"], axis =1)\n",
        "data33['Date'] = pd.to_datetime(data33['Date'])\n",
        "data33['Date'] = data33['Date'].dt.strftime('%m/%d/%Y')\n",
        "data33['Date'] = pd.to_datetime(data33['Date'])\n",
        "data33 = data33.drop('Location', axis =1)\n",
        "\n",
        "#print(data33.info())\n",
        "data33.head(10)"
      ],
      "metadata": {
        "colab": {
          "base_uri": "https://localhost:8080/",
          "height": 601
        },
        "id": "8BfVlI68EKCv",
        "outputId": "d44226d3-3451-4dea-8c25-e190bbf95723"
      },
      "execution_count": null,
      "outputs": [
        {
          "output_type": "execute_result",
          "data": {
            "text/plain": [
              "          Date  Distributed  Administered  Administered_Dose1_Recip  \\\n",
              "30  2022-04-24     30422625      22648630                  10842577   \n",
              "117 2022-04-23     30422425      22639406                  10839775   \n",
              "170 2022-04-22     30386525      22625025                  10834886   \n",
              "216 2022-04-21     30363525      22612059                  10831276   \n",
              "305 2022-04-20     30336025      22599040                  10827453   \n",
              "372 2022-04-19     30280125      22583980                  10823654   \n",
              "411 2022-04-18     30267925      22580916                  10822400   \n",
              "481 2022-04-17     30267925      22574931                  10820580   \n",
              "565 2022-04-16     30267825      22565066                  10817652   \n",
              "626 2022-04-15     30182125      22554033                  10814248   \n",
              "\n",
              "     Administered_Dose1_Pop_Pct  Series_Complete_Yes  Series_Complete_Pop_Pct  \\\n",
              "30                         84.7              8737640                     68.3   \n",
              "117                        84.7              8734730                     68.2   \n",
              "170                        84.6              8730783                     68.2   \n",
              "216                        84.6              8726883                     68.2   \n",
              "305                        84.6              8722938                     68.1   \n",
              "372                        84.5              8719251                     68.1   \n",
              "411                        84.5              8718080                     68.1   \n",
              "481                        84.5              8715975                     68.1   \n",
              "565                        84.5              8712770                     68.1   \n",
              "626                        84.5              8708971                     68.0   \n",
              "\n",
              "     Additional_Doses  Additional_Doses_Vax_Pct  Distributed_Per_100k_5Plus  \n",
              "30          3708716.0                      42.4                    251342.0  \n",
              "117         3705817.0                      42.4                    251341.0  \n",
              "170         3701971.0                      42.4                    251044.0  \n",
              "216         3698298.0                      42.4                    250854.0  \n",
              "305         3694512.0                      42.4                    250627.0  \n",
              "372         3690651.0                      42.3                    250165.0  \n",
              "411         3689551.0                      42.3                    250064.0  \n",
              "481         3687571.0                      42.3                    250064.0  \n",
              "565         3684529.0                      42.3                    250063.0  \n",
              "626         3681199.0                      42.3                    249355.0  "
            ],
            "text/html": [
              "\n",
              "  <div id=\"df-a6380e7b-8fa5-464c-af6b-4c2c4a57c343\">\n",
              "    <div class=\"colab-df-container\">\n",
              "      <div>\n",
              "<style scoped>\n",
              "    .dataframe tbody tr th:only-of-type {\n",
              "        vertical-align: middle;\n",
              "    }\n",
              "\n",
              "    .dataframe tbody tr th {\n",
              "        vertical-align: top;\n",
              "    }\n",
              "\n",
              "    .dataframe thead th {\n",
              "        text-align: right;\n",
              "    }\n",
              "</style>\n",
              "<table border=\"1\" class=\"dataframe\">\n",
              "  <thead>\n",
              "    <tr style=\"text-align: right;\">\n",
              "      <th></th>\n",
              "      <th>Date</th>\n",
              "      <th>Distributed</th>\n",
              "      <th>Administered</th>\n",
              "      <th>Administered_Dose1_Recip</th>\n",
              "      <th>Administered_Dose1_Pop_Pct</th>\n",
              "      <th>Series_Complete_Yes</th>\n",
              "      <th>Series_Complete_Pop_Pct</th>\n",
              "      <th>Additional_Doses</th>\n",
              "      <th>Additional_Doses_Vax_Pct</th>\n",
              "      <th>Distributed_Per_100k_5Plus</th>\n",
              "    </tr>\n",
              "  </thead>\n",
              "  <tbody>\n",
              "    <tr>\n",
              "      <th>30</th>\n",
              "      <td>2022-04-24</td>\n",
              "      <td>30422625</td>\n",
              "      <td>22648630</td>\n",
              "      <td>10842577</td>\n",
              "      <td>84.7</td>\n",
              "      <td>8737640</td>\n",
              "      <td>68.3</td>\n",
              "      <td>3708716.0</td>\n",
              "      <td>42.4</td>\n",
              "      <td>251342.0</td>\n",
              "    </tr>\n",
              "    <tr>\n",
              "      <th>117</th>\n",
              "      <td>2022-04-23</td>\n",
              "      <td>30422425</td>\n",
              "      <td>22639406</td>\n",
              "      <td>10839775</td>\n",
              "      <td>84.7</td>\n",
              "      <td>8734730</td>\n",
              "      <td>68.2</td>\n",
              "      <td>3705817.0</td>\n",
              "      <td>42.4</td>\n",
              "      <td>251341.0</td>\n",
              "    </tr>\n",
              "    <tr>\n",
              "      <th>170</th>\n",
              "      <td>2022-04-22</td>\n",
              "      <td>30386525</td>\n",
              "      <td>22625025</td>\n",
              "      <td>10834886</td>\n",
              "      <td>84.6</td>\n",
              "      <td>8730783</td>\n",
              "      <td>68.2</td>\n",
              "      <td>3701971.0</td>\n",
              "      <td>42.4</td>\n",
              "      <td>251044.0</td>\n",
              "    </tr>\n",
              "    <tr>\n",
              "      <th>216</th>\n",
              "      <td>2022-04-21</td>\n",
              "      <td>30363525</td>\n",
              "      <td>22612059</td>\n",
              "      <td>10831276</td>\n",
              "      <td>84.6</td>\n",
              "      <td>8726883</td>\n",
              "      <td>68.2</td>\n",
              "      <td>3698298.0</td>\n",
              "      <td>42.4</td>\n",
              "      <td>250854.0</td>\n",
              "    </tr>\n",
              "    <tr>\n",
              "      <th>305</th>\n",
              "      <td>2022-04-20</td>\n",
              "      <td>30336025</td>\n",
              "      <td>22599040</td>\n",
              "      <td>10827453</td>\n",
              "      <td>84.6</td>\n",
              "      <td>8722938</td>\n",
              "      <td>68.1</td>\n",
              "      <td>3694512.0</td>\n",
              "      <td>42.4</td>\n",
              "      <td>250627.0</td>\n",
              "    </tr>\n",
              "    <tr>\n",
              "      <th>372</th>\n",
              "      <td>2022-04-19</td>\n",
              "      <td>30280125</td>\n",
              "      <td>22583980</td>\n",
              "      <td>10823654</td>\n",
              "      <td>84.5</td>\n",
              "      <td>8719251</td>\n",
              "      <td>68.1</td>\n",
              "      <td>3690651.0</td>\n",
              "      <td>42.3</td>\n",
              "      <td>250165.0</td>\n",
              "    </tr>\n",
              "    <tr>\n",
              "      <th>411</th>\n",
              "      <td>2022-04-18</td>\n",
              "      <td>30267925</td>\n",
              "      <td>22580916</td>\n",
              "      <td>10822400</td>\n",
              "      <td>84.5</td>\n",
              "      <td>8718080</td>\n",
              "      <td>68.1</td>\n",
              "      <td>3689551.0</td>\n",
              "      <td>42.3</td>\n",
              "      <td>250064.0</td>\n",
              "    </tr>\n",
              "    <tr>\n",
              "      <th>481</th>\n",
              "      <td>2022-04-17</td>\n",
              "      <td>30267925</td>\n",
              "      <td>22574931</td>\n",
              "      <td>10820580</td>\n",
              "      <td>84.5</td>\n",
              "      <td>8715975</td>\n",
              "      <td>68.1</td>\n",
              "      <td>3687571.0</td>\n",
              "      <td>42.3</td>\n",
              "      <td>250064.0</td>\n",
              "    </tr>\n",
              "    <tr>\n",
              "      <th>565</th>\n",
              "      <td>2022-04-16</td>\n",
              "      <td>30267825</td>\n",
              "      <td>22565066</td>\n",
              "      <td>10817652</td>\n",
              "      <td>84.5</td>\n",
              "      <td>8712770</td>\n",
              "      <td>68.1</td>\n",
              "      <td>3684529.0</td>\n",
              "      <td>42.3</td>\n",
              "      <td>250063.0</td>\n",
              "    </tr>\n",
              "    <tr>\n",
              "      <th>626</th>\n",
              "      <td>2022-04-15</td>\n",
              "      <td>30182125</td>\n",
              "      <td>22554033</td>\n",
              "      <td>10814248</td>\n",
              "      <td>84.5</td>\n",
              "      <td>8708971</td>\n",
              "      <td>68.0</td>\n",
              "      <td>3681199.0</td>\n",
              "      <td>42.3</td>\n",
              "      <td>249355.0</td>\n",
              "    </tr>\n",
              "  </tbody>\n",
              "</table>\n",
              "</div>\n",
              "      <button class=\"colab-df-convert\" onclick=\"convertToInteractive('df-a6380e7b-8fa5-464c-af6b-4c2c4a57c343')\"\n",
              "              title=\"Convert this dataframe to an interactive table.\"\n",
              "              style=\"display:none;\">\n",
              "        \n",
              "  <svg xmlns=\"http://www.w3.org/2000/svg\" height=\"24px\"viewBox=\"0 0 24 24\"\n",
              "       width=\"24px\">\n",
              "    <path d=\"M0 0h24v24H0V0z\" fill=\"none\"/>\n",
              "    <path d=\"M18.56 5.44l.94 2.06.94-2.06 2.06-.94-2.06-.94-.94-2.06-.94 2.06-2.06.94zm-11 1L8.5 8.5l.94-2.06 2.06-.94-2.06-.94L8.5 2.5l-.94 2.06-2.06.94zm10 10l.94 2.06.94-2.06 2.06-.94-2.06-.94-.94-2.06-.94 2.06-2.06.94z\"/><path d=\"M17.41 7.96l-1.37-1.37c-.4-.4-.92-.59-1.43-.59-.52 0-1.04.2-1.43.59L10.3 9.45l-7.72 7.72c-.78.78-.78 2.05 0 2.83L4 21.41c.39.39.9.59 1.41.59.51 0 1.02-.2 1.41-.59l7.78-7.78 2.81-2.81c.8-.78.8-2.07 0-2.86zM5.41 20L4 18.59l7.72-7.72 1.47 1.35L5.41 20z\"/>\n",
              "  </svg>\n",
              "      </button>\n",
              "      \n",
              "  <style>\n",
              "    .colab-df-container {\n",
              "      display:flex;\n",
              "      flex-wrap:wrap;\n",
              "      gap: 12px;\n",
              "    }\n",
              "\n",
              "    .colab-df-convert {\n",
              "      background-color: #E8F0FE;\n",
              "      border: none;\n",
              "      border-radius: 50%;\n",
              "      cursor: pointer;\n",
              "      display: none;\n",
              "      fill: #1967D2;\n",
              "      height: 32px;\n",
              "      padding: 0 0 0 0;\n",
              "      width: 32px;\n",
              "    }\n",
              "\n",
              "    .colab-df-convert:hover {\n",
              "      background-color: #E2EBFA;\n",
              "      box-shadow: 0px 1px 2px rgba(60, 64, 67, 0.3), 0px 1px 3px 1px rgba(60, 64, 67, 0.15);\n",
              "      fill: #174EA6;\n",
              "    }\n",
              "\n",
              "    [theme=dark] .colab-df-convert {\n",
              "      background-color: #3B4455;\n",
              "      fill: #D2E3FC;\n",
              "    }\n",
              "\n",
              "    [theme=dark] .colab-df-convert:hover {\n",
              "      background-color: #434B5C;\n",
              "      box-shadow: 0px 1px 3px 1px rgba(0, 0, 0, 0.15);\n",
              "      filter: drop-shadow(0px 1px 2px rgba(0, 0, 0, 0.3));\n",
              "      fill: #FFFFFF;\n",
              "    }\n",
              "  </style>\n",
              "\n",
              "      <script>\n",
              "        const buttonEl =\n",
              "          document.querySelector('#df-a6380e7b-8fa5-464c-af6b-4c2c4a57c343 button.colab-df-convert');\n",
              "        buttonEl.style.display =\n",
              "          google.colab.kernel.accessAllowed ? 'block' : 'none';\n",
              "\n",
              "        async function convertToInteractive(key) {\n",
              "          const element = document.querySelector('#df-a6380e7b-8fa5-464c-af6b-4c2c4a57c343');\n",
              "          const dataTable =\n",
              "            await google.colab.kernel.invokeFunction('convertToInteractive',\n",
              "                                                     [key], {});\n",
              "          if (!dataTable) return;\n",
              "\n",
              "          const docLinkHtml = 'Like what you see? Visit the ' +\n",
              "            '<a target=\"_blank\" href=https://colab.research.google.com/notebooks/data_table.ipynb>data table notebook</a>'\n",
              "            + ' to learn more about interactive tables.';\n",
              "          element.innerHTML = '';\n",
              "          dataTable['output_type'] = 'display_data';\n",
              "          await google.colab.output.renderOutput(dataTable, element);\n",
              "          const docLink = document.createElement('div');\n",
              "          docLink.innerHTML = docLinkHtml;\n",
              "          element.appendChild(docLink);\n",
              "        }\n",
              "      </script>\n",
              "    </div>\n",
              "  </div>\n",
              "  "
            ]
          },
          "metadata": {},
          "execution_count": 4
        }
      ]
    },
    {
      "cell_type": "code",
      "source": [
        "#Merging all of the tables\n",
        "final_data1 = pd.merge(left = data11, right = data22, how = 'outer', on = ['FIPS', 'Date'])\n",
        "final_data1 = final_data1.sort_values(by='Jurisdiction') \n",
        "final_data1 = final_data1.dropna()\n",
        "final_data = pd.merge(left = final_data1, right = data33, how = 'outer', on = 'Date')\n",
        "final_data = final_data.dropna()\n",
        "final_data = final_data.drop(\"Distributed_Per_100k_5Plus\", axis = 1)\n",
        "final_data.sort_values(by=['Jurisdiction', 'Date'])\n",
        "final_data = final_data.drop([\"Jurisdiction\", \"FIPS\"], axis = 1)\n",
        "\n",
        "#Group by Date \n",
        "final_data = final_data.groupby('Date').agg({\n",
        "    'New Cases' : 'sum',\n",
        "    '7-day Average New Cases' : 'sum',\n",
        "    'Cum_cases' : 'sum',\n",
        "    'Population (2019)' : 'sum',\n",
        "    'New Case Rate' : 'sum',\n",
        "    '7-Day Average New Case Rate' : 'sum',\n",
        "    'Cumulative Case Rate' : 'sum',\n",
        "    'percent_test_results_reported_positive_last_7_days' : 'mean',\n",
        "    'community_transmission_level' : 'max',\n",
        "    'Distributed' : 'mean',\n",
        "    'Administered' : 'mean',\n",
        "    'Administered_Dose1_Recip' : 'mean',\n",
        "    'Administered_Dose1_Pop_Pct' : 'mean',\n",
        "    'Series_Complete_Yes' : 'mean',\n",
        "    'Series_Complete_Pop_Pct' : 'mean',\n",
        "    'Additional_Doses' : 'mean',\n",
        "    'Additional_Doses_Vax_Pct' : 'mean'\n",
        "})\n",
        "\n",
        "#print(final_data.info())\n",
        "final_data.tail(10)"
      ],
      "metadata": {
        "id": "ch4vQKgWX2is",
        "colab": {
          "base_uri": "https://localhost:8080/",
          "height": 701
        },
        "outputId": "8f0afa68-4d5b-43aa-a259-603b75810cc6"
      },
      "execution_count": null,
      "outputs": [
        {
          "output_type": "execute_result",
          "data": {
            "text/plain": [
              "            New Cases  7-day Average New Cases  Cum_cases  Population (2019)  \\\n",
              "Date                                                                           \n",
              "2022-04-14     1538.0                   1151.4  2795743.0         12801989.0   \n",
              "2022-04-15     1548.0                   1219.0  2797291.0         12801989.0   \n",
              "2022-04-16      824.0                   1252.3  2798115.0         12801989.0   \n",
              "2022-04-17      727.0                   1268.5  2798842.0         12801989.0   \n",
              "2022-04-18     1446.0                   1330.6  2800288.0         12801989.0   \n",
              "2022-04-19     1517.0                   1344.5  2801805.0         12801989.0   \n",
              "2022-04-20     1764.0                   1338.2  2803569.0         12801989.0   \n",
              "2022-04-21     1848.0                   1382.1  2805417.0         12801989.0   \n",
              "2022-04-22     1753.0                   1411.4  2807170.0         12801989.0   \n",
              "2022-04-23     1001.0                   1436.5  2808171.0         12801989.0   \n",
              "\n",
              "            New Case Rate  7-Day Average New Case Rate  Cumulative Case Rate  \\\n",
              "Date                                                                           \n",
              "2022-04-14          598.8                        463.7             1515033.9   \n",
              "2022-04-15          605.8                        488.3             1515640.0   \n",
              "2022-04-16          285.6                        498.3             1515925.4   \n",
              "2022-04-17          261.7                        496.5             1516186.7   \n",
              "2022-04-18          599.4                        510.9             1516785.9   \n",
              "2022-04-19          620.8                        520.7             1517406.6   \n",
              "2022-04-20          791.7                        537.5             1518197.9   \n",
              "2022-04-21          805.0                        567.2             1519003.1   \n",
              "2022-04-22          710.0                        582.0             1519712.4   \n",
              "2022-04-23          432.3                        602.8             1520144.7   \n",
              "\n",
              "            percent_test_results_reported_positive_last_7_days  \\\n",
              "Date                                                             \n",
              "2022-04-14                                           3.811045    \n",
              "2022-04-15                                           4.081791    \n",
              "2022-04-16                                           4.455075    \n",
              "2022-04-17                                           4.841791    \n",
              "2022-04-18                                           5.000149    \n",
              "2022-04-19                                           5.211791    \n",
              "2022-04-20                                           5.453134    \n",
              "2022-04-21                                           5.565373    \n",
              "2022-04-22                                           5.895522    \n",
              "2022-04-23                                           6.112388    \n",
              "\n",
              "            community_transmission_level  Distributed  Administered  \\\n",
              "Date                                                                  \n",
              "2022-04-14                           3.0   30012325.0    22539547.0   \n",
              "2022-04-15                           3.0   30182125.0    22554033.0   \n",
              "2022-04-16                           3.0   30267825.0    22565066.0   \n",
              "2022-04-17                           3.0   30267925.0    22574931.0   \n",
              "2022-04-18                           3.0   30267925.0    22580916.0   \n",
              "2022-04-19                           3.0   30280125.0    22583980.0   \n",
              "2022-04-20                           3.0   30336025.0    22599040.0   \n",
              "2022-04-21                           3.0   30363525.0    22612059.0   \n",
              "2022-04-22                           3.0   30386525.0    22625025.0   \n",
              "2022-04-23                           3.0   30422425.0    22639406.0   \n",
              "\n",
              "            Administered_Dose1_Recip  Administered_Dose1_Pop_Pct  \\\n",
              "Date                                                               \n",
              "2022-04-14                10810234.0                        84.4   \n",
              "2022-04-15                10814248.0                        84.5   \n",
              "2022-04-16                10817652.0                        84.5   \n",
              "2022-04-17                10820580.0                        84.5   \n",
              "2022-04-18                10822400.0                        84.5   \n",
              "2022-04-19                10823654.0                        84.5   \n",
              "2022-04-20                10827453.0                        84.6   \n",
              "2022-04-21                10831276.0                        84.6   \n",
              "2022-04-22                10834886.0                        84.6   \n",
              "2022-04-23                10839775.0                        84.7   \n",
              "\n",
              "            Series_Complete_Yes  Series_Complete_Pop_Pct  Additional_Doses  \\\n",
              "Date                                                                         \n",
              "2022-04-14            8704752.0                     68.0         3677186.0   \n",
              "2022-04-15            8708971.0                     68.0         3681199.0   \n",
              "2022-04-16            8712770.0                     68.1         3684529.0   \n",
              "2022-04-17            8715975.0                     68.1         3687571.0   \n",
              "2022-04-18            8718080.0                     68.1         3689551.0   \n",
              "2022-04-19            8719251.0                     68.1         3690651.0   \n",
              "2022-04-20            8722938.0                     68.1         3694512.0   \n",
              "2022-04-21            8726883.0                     68.2         3698298.0   \n",
              "2022-04-22            8730783.0                     68.2         3701971.0   \n",
              "2022-04-23            8734730.0                     68.2         3705817.0   \n",
              "\n",
              "            Additional_Doses_Vax_Pct  \n",
              "Date                                  \n",
              "2022-04-14                      42.2  \n",
              "2022-04-15                      42.3  \n",
              "2022-04-16                      42.3  \n",
              "2022-04-17                      42.3  \n",
              "2022-04-18                      42.3  \n",
              "2022-04-19                      42.3  \n",
              "2022-04-20                      42.4  \n",
              "2022-04-21                      42.4  \n",
              "2022-04-22                      42.4  \n",
              "2022-04-23                      42.4  "
            ],
            "text/html": [
              "\n",
              "  <div id=\"df-f27c6a46-17d7-4747-8b81-2d7aa96ea8e1\">\n",
              "    <div class=\"colab-df-container\">\n",
              "      <div>\n",
              "<style scoped>\n",
              "    .dataframe tbody tr th:only-of-type {\n",
              "        vertical-align: middle;\n",
              "    }\n",
              "\n",
              "    .dataframe tbody tr th {\n",
              "        vertical-align: top;\n",
              "    }\n",
              "\n",
              "    .dataframe thead th {\n",
              "        text-align: right;\n",
              "    }\n",
              "</style>\n",
              "<table border=\"1\" class=\"dataframe\">\n",
              "  <thead>\n",
              "    <tr style=\"text-align: right;\">\n",
              "      <th></th>\n",
              "      <th>New Cases</th>\n",
              "      <th>7-day Average New Cases</th>\n",
              "      <th>Cum_cases</th>\n",
              "      <th>Population (2019)</th>\n",
              "      <th>New Case Rate</th>\n",
              "      <th>7-Day Average New Case Rate</th>\n",
              "      <th>Cumulative Case Rate</th>\n",
              "      <th>percent_test_results_reported_positive_last_7_days</th>\n",
              "      <th>community_transmission_level</th>\n",
              "      <th>Distributed</th>\n",
              "      <th>Administered</th>\n",
              "      <th>Administered_Dose1_Recip</th>\n",
              "      <th>Administered_Dose1_Pop_Pct</th>\n",
              "      <th>Series_Complete_Yes</th>\n",
              "      <th>Series_Complete_Pop_Pct</th>\n",
              "      <th>Additional_Doses</th>\n",
              "      <th>Additional_Doses_Vax_Pct</th>\n",
              "    </tr>\n",
              "    <tr>\n",
              "      <th>Date</th>\n",
              "      <th></th>\n",
              "      <th></th>\n",
              "      <th></th>\n",
              "      <th></th>\n",
              "      <th></th>\n",
              "      <th></th>\n",
              "      <th></th>\n",
              "      <th></th>\n",
              "      <th></th>\n",
              "      <th></th>\n",
              "      <th></th>\n",
              "      <th></th>\n",
              "      <th></th>\n",
              "      <th></th>\n",
              "      <th></th>\n",
              "      <th></th>\n",
              "      <th></th>\n",
              "    </tr>\n",
              "  </thead>\n",
              "  <tbody>\n",
              "    <tr>\n",
              "      <th>2022-04-14</th>\n",
              "      <td>1538.0</td>\n",
              "      <td>1151.4</td>\n",
              "      <td>2795743.0</td>\n",
              "      <td>12801989.0</td>\n",
              "      <td>598.8</td>\n",
              "      <td>463.7</td>\n",
              "      <td>1515033.9</td>\n",
              "      <td>3.811045</td>\n",
              "      <td>3.0</td>\n",
              "      <td>30012325.0</td>\n",
              "      <td>22539547.0</td>\n",
              "      <td>10810234.0</td>\n",
              "      <td>84.4</td>\n",
              "      <td>8704752.0</td>\n",
              "      <td>68.0</td>\n",
              "      <td>3677186.0</td>\n",
              "      <td>42.2</td>\n",
              "    </tr>\n",
              "    <tr>\n",
              "      <th>2022-04-15</th>\n",
              "      <td>1548.0</td>\n",
              "      <td>1219.0</td>\n",
              "      <td>2797291.0</td>\n",
              "      <td>12801989.0</td>\n",
              "      <td>605.8</td>\n",
              "      <td>488.3</td>\n",
              "      <td>1515640.0</td>\n",
              "      <td>4.081791</td>\n",
              "      <td>3.0</td>\n",
              "      <td>30182125.0</td>\n",
              "      <td>22554033.0</td>\n",
              "      <td>10814248.0</td>\n",
              "      <td>84.5</td>\n",
              "      <td>8708971.0</td>\n",
              "      <td>68.0</td>\n",
              "      <td>3681199.0</td>\n",
              "      <td>42.3</td>\n",
              "    </tr>\n",
              "    <tr>\n",
              "      <th>2022-04-16</th>\n",
              "      <td>824.0</td>\n",
              "      <td>1252.3</td>\n",
              "      <td>2798115.0</td>\n",
              "      <td>12801989.0</td>\n",
              "      <td>285.6</td>\n",
              "      <td>498.3</td>\n",
              "      <td>1515925.4</td>\n",
              "      <td>4.455075</td>\n",
              "      <td>3.0</td>\n",
              "      <td>30267825.0</td>\n",
              "      <td>22565066.0</td>\n",
              "      <td>10817652.0</td>\n",
              "      <td>84.5</td>\n",
              "      <td>8712770.0</td>\n",
              "      <td>68.1</td>\n",
              "      <td>3684529.0</td>\n",
              "      <td>42.3</td>\n",
              "    </tr>\n",
              "    <tr>\n",
              "      <th>2022-04-17</th>\n",
              "      <td>727.0</td>\n",
              "      <td>1268.5</td>\n",
              "      <td>2798842.0</td>\n",
              "      <td>12801989.0</td>\n",
              "      <td>261.7</td>\n",
              "      <td>496.5</td>\n",
              "      <td>1516186.7</td>\n",
              "      <td>4.841791</td>\n",
              "      <td>3.0</td>\n",
              "      <td>30267925.0</td>\n",
              "      <td>22574931.0</td>\n",
              "      <td>10820580.0</td>\n",
              "      <td>84.5</td>\n",
              "      <td>8715975.0</td>\n",
              "      <td>68.1</td>\n",
              "      <td>3687571.0</td>\n",
              "      <td>42.3</td>\n",
              "    </tr>\n",
              "    <tr>\n",
              "      <th>2022-04-18</th>\n",
              "      <td>1446.0</td>\n",
              "      <td>1330.6</td>\n",
              "      <td>2800288.0</td>\n",
              "      <td>12801989.0</td>\n",
              "      <td>599.4</td>\n",
              "      <td>510.9</td>\n",
              "      <td>1516785.9</td>\n",
              "      <td>5.000149</td>\n",
              "      <td>3.0</td>\n",
              "      <td>30267925.0</td>\n",
              "      <td>22580916.0</td>\n",
              "      <td>10822400.0</td>\n",
              "      <td>84.5</td>\n",
              "      <td>8718080.0</td>\n",
              "      <td>68.1</td>\n",
              "      <td>3689551.0</td>\n",
              "      <td>42.3</td>\n",
              "    </tr>\n",
              "    <tr>\n",
              "      <th>2022-04-19</th>\n",
              "      <td>1517.0</td>\n",
              "      <td>1344.5</td>\n",
              "      <td>2801805.0</td>\n",
              "      <td>12801989.0</td>\n",
              "      <td>620.8</td>\n",
              "      <td>520.7</td>\n",
              "      <td>1517406.6</td>\n",
              "      <td>5.211791</td>\n",
              "      <td>3.0</td>\n",
              "      <td>30280125.0</td>\n",
              "      <td>22583980.0</td>\n",
              "      <td>10823654.0</td>\n",
              "      <td>84.5</td>\n",
              "      <td>8719251.0</td>\n",
              "      <td>68.1</td>\n",
              "      <td>3690651.0</td>\n",
              "      <td>42.3</td>\n",
              "    </tr>\n",
              "    <tr>\n",
              "      <th>2022-04-20</th>\n",
              "      <td>1764.0</td>\n",
              "      <td>1338.2</td>\n",
              "      <td>2803569.0</td>\n",
              "      <td>12801989.0</td>\n",
              "      <td>791.7</td>\n",
              "      <td>537.5</td>\n",
              "      <td>1518197.9</td>\n",
              "      <td>5.453134</td>\n",
              "      <td>3.0</td>\n",
              "      <td>30336025.0</td>\n",
              "      <td>22599040.0</td>\n",
              "      <td>10827453.0</td>\n",
              "      <td>84.6</td>\n",
              "      <td>8722938.0</td>\n",
              "      <td>68.1</td>\n",
              "      <td>3694512.0</td>\n",
              "      <td>42.4</td>\n",
              "    </tr>\n",
              "    <tr>\n",
              "      <th>2022-04-21</th>\n",
              "      <td>1848.0</td>\n",
              "      <td>1382.1</td>\n",
              "      <td>2805417.0</td>\n",
              "      <td>12801989.0</td>\n",
              "      <td>805.0</td>\n",
              "      <td>567.2</td>\n",
              "      <td>1519003.1</td>\n",
              "      <td>5.565373</td>\n",
              "      <td>3.0</td>\n",
              "      <td>30363525.0</td>\n",
              "      <td>22612059.0</td>\n",
              "      <td>10831276.0</td>\n",
              "      <td>84.6</td>\n",
              "      <td>8726883.0</td>\n",
              "      <td>68.2</td>\n",
              "      <td>3698298.0</td>\n",
              "      <td>42.4</td>\n",
              "    </tr>\n",
              "    <tr>\n",
              "      <th>2022-04-22</th>\n",
              "      <td>1753.0</td>\n",
              "      <td>1411.4</td>\n",
              "      <td>2807170.0</td>\n",
              "      <td>12801989.0</td>\n",
              "      <td>710.0</td>\n",
              "      <td>582.0</td>\n",
              "      <td>1519712.4</td>\n",
              "      <td>5.895522</td>\n",
              "      <td>3.0</td>\n",
              "      <td>30386525.0</td>\n",
              "      <td>22625025.0</td>\n",
              "      <td>10834886.0</td>\n",
              "      <td>84.6</td>\n",
              "      <td>8730783.0</td>\n",
              "      <td>68.2</td>\n",
              "      <td>3701971.0</td>\n",
              "      <td>42.4</td>\n",
              "    </tr>\n",
              "    <tr>\n",
              "      <th>2022-04-23</th>\n",
              "      <td>1001.0</td>\n",
              "      <td>1436.5</td>\n",
              "      <td>2808171.0</td>\n",
              "      <td>12801989.0</td>\n",
              "      <td>432.3</td>\n",
              "      <td>602.8</td>\n",
              "      <td>1520144.7</td>\n",
              "      <td>6.112388</td>\n",
              "      <td>3.0</td>\n",
              "      <td>30422425.0</td>\n",
              "      <td>22639406.0</td>\n",
              "      <td>10839775.0</td>\n",
              "      <td>84.7</td>\n",
              "      <td>8734730.0</td>\n",
              "      <td>68.2</td>\n",
              "      <td>3705817.0</td>\n",
              "      <td>42.4</td>\n",
              "    </tr>\n",
              "  </tbody>\n",
              "</table>\n",
              "</div>\n",
              "      <button class=\"colab-df-convert\" onclick=\"convertToInteractive('df-f27c6a46-17d7-4747-8b81-2d7aa96ea8e1')\"\n",
              "              title=\"Convert this dataframe to an interactive table.\"\n",
              "              style=\"display:none;\">\n",
              "        \n",
              "  <svg xmlns=\"http://www.w3.org/2000/svg\" height=\"24px\"viewBox=\"0 0 24 24\"\n",
              "       width=\"24px\">\n",
              "    <path d=\"M0 0h24v24H0V0z\" fill=\"none\"/>\n",
              "    <path d=\"M18.56 5.44l.94 2.06.94-2.06 2.06-.94-2.06-.94-.94-2.06-.94 2.06-2.06.94zm-11 1L8.5 8.5l.94-2.06 2.06-.94-2.06-.94L8.5 2.5l-.94 2.06-2.06.94zm10 10l.94 2.06.94-2.06 2.06-.94-2.06-.94-.94-2.06-.94 2.06-2.06.94z\"/><path d=\"M17.41 7.96l-1.37-1.37c-.4-.4-.92-.59-1.43-.59-.52 0-1.04.2-1.43.59L10.3 9.45l-7.72 7.72c-.78.78-.78 2.05 0 2.83L4 21.41c.39.39.9.59 1.41.59.51 0 1.02-.2 1.41-.59l7.78-7.78 2.81-2.81c.8-.78.8-2.07 0-2.86zM5.41 20L4 18.59l7.72-7.72 1.47 1.35L5.41 20z\"/>\n",
              "  </svg>\n",
              "      </button>\n",
              "      \n",
              "  <style>\n",
              "    .colab-df-container {\n",
              "      display:flex;\n",
              "      flex-wrap:wrap;\n",
              "      gap: 12px;\n",
              "    }\n",
              "\n",
              "    .colab-df-convert {\n",
              "      background-color: #E8F0FE;\n",
              "      border: none;\n",
              "      border-radius: 50%;\n",
              "      cursor: pointer;\n",
              "      display: none;\n",
              "      fill: #1967D2;\n",
              "      height: 32px;\n",
              "      padding: 0 0 0 0;\n",
              "      width: 32px;\n",
              "    }\n",
              "\n",
              "    .colab-df-convert:hover {\n",
              "      background-color: #E2EBFA;\n",
              "      box-shadow: 0px 1px 2px rgba(60, 64, 67, 0.3), 0px 1px 3px 1px rgba(60, 64, 67, 0.15);\n",
              "      fill: #174EA6;\n",
              "    }\n",
              "\n",
              "    [theme=dark] .colab-df-convert {\n",
              "      background-color: #3B4455;\n",
              "      fill: #D2E3FC;\n",
              "    }\n",
              "\n",
              "    [theme=dark] .colab-df-convert:hover {\n",
              "      background-color: #434B5C;\n",
              "      box-shadow: 0px 1px 3px 1px rgba(0, 0, 0, 0.15);\n",
              "      filter: drop-shadow(0px 1px 2px rgba(0, 0, 0, 0.3));\n",
              "      fill: #FFFFFF;\n",
              "    }\n",
              "  </style>\n",
              "\n",
              "      <script>\n",
              "        const buttonEl =\n",
              "          document.querySelector('#df-f27c6a46-17d7-4747-8b81-2d7aa96ea8e1 button.colab-df-convert');\n",
              "        buttonEl.style.display =\n",
              "          google.colab.kernel.accessAllowed ? 'block' : 'none';\n",
              "\n",
              "        async function convertToInteractive(key) {\n",
              "          const element = document.querySelector('#df-f27c6a46-17d7-4747-8b81-2d7aa96ea8e1');\n",
              "          const dataTable =\n",
              "            await google.colab.kernel.invokeFunction('convertToInteractive',\n",
              "                                                     [key], {});\n",
              "          if (!dataTable) return;\n",
              "\n",
              "          const docLinkHtml = 'Like what you see? Visit the ' +\n",
              "            '<a target=\"_blank\" href=https://colab.research.google.com/notebooks/data_table.ipynb>data table notebook</a>'\n",
              "            + ' to learn more about interactive tables.';\n",
              "          element.innerHTML = '';\n",
              "          dataTable['output_type'] = 'display_data';\n",
              "          await google.colab.output.renderOutput(dataTable, element);\n",
              "          const docLink = document.createElement('div');\n",
              "          docLink.innerHTML = docLinkHtml;\n",
              "          element.appendChild(docLink);\n",
              "        }\n",
              "      </script>\n",
              "    </div>\n",
              "  </div>\n",
              "  "
            ]
          },
          "metadata": {},
          "execution_count": 5
        }
      ]
    },
    {
      "cell_type": "code",
      "source": [
        "# upload the deaths data for PA\n",
        "url4 = \"https://github.com/IvanVoinovGitHub/Covid19-Analysis-Modeling/raw/main/Data/COVID-19_Aggregate_Death_Data_Current_Daily_County_Health.csv\"\n",
        "data4 = pd.read_csv(url4)"
      ],
      "metadata": {
        "id": "rQHL4xfEjB8D"
      },
      "execution_count": null,
      "outputs": []
    },
    {
      "cell_type": "code",
      "source": [
        "data4 = data4.rename(columns = {data4.columns[2] : 'Cum_deaths'})\n",
        "data4['Date'] = pd.to_datetime(data4['Date of Death'])\n",
        "data4['Date'] = data4['Date'].dt.strftime('%m/%d/%Y')"
      ],
      "metadata": {
        "id": "Rt-5-UeJoEQa"
      },
      "execution_count": null,
      "outputs": []
    },
    {
      "cell_type": "code",
      "source": [
        "#drop irrelavant columns \n",
        "drop_cols = ['Georeferenced Latitude & Longitude', 'Latitude', 'Longitude', 'County FIPS Code', 'Date of Death']\n",
        "data4 = data4.drop(drop_cols, axis = 1)"
      ],
      "metadata": {
        "id": "lAmwFJcpmo6L"
      },
      "execution_count": null,
      "outputs": []
    },
    {
      "cell_type": "code",
      "source": [
        "#Group by Date \n",
        "final_deaths_data = data4.groupby('Date').agg({\n",
        "    'Cum_deaths' : 'sum',\n",
        "    '7-day Average New Deaths' : 'sum',\n",
        "    'Cum_deaths' : 'sum',\n",
        "    '2019 Population ' : 'sum',\n",
        "    'New Deaths Rate' : 'sum',\n",
        "    '7-day Average New Death Rate' : 'sum',\n",
        "    'Total Death Rate' : 'sum'\n",
        "}).reset_index()\n",
        "final_deaths_data.head(5)"
      ],
      "metadata": {
        "colab": {
          "base_uri": "https://localhost:8080/",
          "height": 206
        },
        "id": "BadxoSYYpy-K",
        "outputId": "3bc44fe8-ce7a-49e9-ea55-7760b33fdc28"
      },
      "execution_count": null,
      "outputs": [
        {
          "output_type": "execute_result",
          "data": {
            "text/plain": [
              "         Date  Cum_deaths  7-day Average New Deaths  2019 Population   \\\n",
              "0  01/01/2021         388                     426.8          25603978   \n",
              "1  01/01/2022         268                     225.0          25603978   \n",
              "2  01/02/2021         372                     421.6          25603978   \n",
              "3  01/02/2022         230                     225.2          25603978   \n",
              "4  01/03/2021         352                     411.9          25603978   \n",
              "\n",
              "   New Deaths Rate  7-day Average New Death Rate  Total Death Rate  \n",
              "0           122.58                        154.40           9306.47  \n",
              "1            81.99                         86.44          23791.81  \n",
              "2           126.34                        151.59           9432.78  \n",
              "3            59.94                         79.70          23851.80  \n",
              "4           129.85                        145.23           9562.64  "
            ],
            "text/html": [
              "\n",
              "  <div id=\"df-8d067bee-1188-43e9-95e7-6f2af3cfe1f6\">\n",
              "    <div class=\"colab-df-container\">\n",
              "      <div>\n",
              "<style scoped>\n",
              "    .dataframe tbody tr th:only-of-type {\n",
              "        vertical-align: middle;\n",
              "    }\n",
              "\n",
              "    .dataframe tbody tr th {\n",
              "        vertical-align: top;\n",
              "    }\n",
              "\n",
              "    .dataframe thead th {\n",
              "        text-align: right;\n",
              "    }\n",
              "</style>\n",
              "<table border=\"1\" class=\"dataframe\">\n",
              "  <thead>\n",
              "    <tr style=\"text-align: right;\">\n",
              "      <th></th>\n",
              "      <th>Date</th>\n",
              "      <th>Cum_deaths</th>\n",
              "      <th>7-day Average New Deaths</th>\n",
              "      <th>2019 Population</th>\n",
              "      <th>New Deaths Rate</th>\n",
              "      <th>7-day Average New Death Rate</th>\n",
              "      <th>Total Death Rate</th>\n",
              "    </tr>\n",
              "  </thead>\n",
              "  <tbody>\n",
              "    <tr>\n",
              "      <th>0</th>\n",
              "      <td>01/01/2021</td>\n",
              "      <td>388</td>\n",
              "      <td>426.8</td>\n",
              "      <td>25603978</td>\n",
              "      <td>122.58</td>\n",
              "      <td>154.40</td>\n",
              "      <td>9306.47</td>\n",
              "    </tr>\n",
              "    <tr>\n",
              "      <th>1</th>\n",
              "      <td>01/01/2022</td>\n",
              "      <td>268</td>\n",
              "      <td>225.0</td>\n",
              "      <td>25603978</td>\n",
              "      <td>81.99</td>\n",
              "      <td>86.44</td>\n",
              "      <td>23791.81</td>\n",
              "    </tr>\n",
              "    <tr>\n",
              "      <th>2</th>\n",
              "      <td>01/02/2021</td>\n",
              "      <td>372</td>\n",
              "      <td>421.6</td>\n",
              "      <td>25603978</td>\n",
              "      <td>126.34</td>\n",
              "      <td>151.59</td>\n",
              "      <td>9432.78</td>\n",
              "    </tr>\n",
              "    <tr>\n",
              "      <th>3</th>\n",
              "      <td>01/02/2022</td>\n",
              "      <td>230</td>\n",
              "      <td>225.2</td>\n",
              "      <td>25603978</td>\n",
              "      <td>59.94</td>\n",
              "      <td>79.70</td>\n",
              "      <td>23851.80</td>\n",
              "    </tr>\n",
              "    <tr>\n",
              "      <th>4</th>\n",
              "      <td>01/03/2021</td>\n",
              "      <td>352</td>\n",
              "      <td>411.9</td>\n",
              "      <td>25603978</td>\n",
              "      <td>129.85</td>\n",
              "      <td>145.23</td>\n",
              "      <td>9562.64</td>\n",
              "    </tr>\n",
              "  </tbody>\n",
              "</table>\n",
              "</div>\n",
              "      <button class=\"colab-df-convert\" onclick=\"convertToInteractive('df-8d067bee-1188-43e9-95e7-6f2af3cfe1f6')\"\n",
              "              title=\"Convert this dataframe to an interactive table.\"\n",
              "              style=\"display:none;\">\n",
              "        \n",
              "  <svg xmlns=\"http://www.w3.org/2000/svg\" height=\"24px\"viewBox=\"0 0 24 24\"\n",
              "       width=\"24px\">\n",
              "    <path d=\"M0 0h24v24H0V0z\" fill=\"none\"/>\n",
              "    <path d=\"M18.56 5.44l.94 2.06.94-2.06 2.06-.94-2.06-.94-.94-2.06-.94 2.06-2.06.94zm-11 1L8.5 8.5l.94-2.06 2.06-.94-2.06-.94L8.5 2.5l-.94 2.06-2.06.94zm10 10l.94 2.06.94-2.06 2.06-.94-2.06-.94-.94-2.06-.94 2.06-2.06.94z\"/><path d=\"M17.41 7.96l-1.37-1.37c-.4-.4-.92-.59-1.43-.59-.52 0-1.04.2-1.43.59L10.3 9.45l-7.72 7.72c-.78.78-.78 2.05 0 2.83L4 21.41c.39.39.9.59 1.41.59.51 0 1.02-.2 1.41-.59l7.78-7.78 2.81-2.81c.8-.78.8-2.07 0-2.86zM5.41 20L4 18.59l7.72-7.72 1.47 1.35L5.41 20z\"/>\n",
              "  </svg>\n",
              "      </button>\n",
              "      \n",
              "  <style>\n",
              "    .colab-df-container {\n",
              "      display:flex;\n",
              "      flex-wrap:wrap;\n",
              "      gap: 12px;\n",
              "    }\n",
              "\n",
              "    .colab-df-convert {\n",
              "      background-color: #E8F0FE;\n",
              "      border: none;\n",
              "      border-radius: 50%;\n",
              "      cursor: pointer;\n",
              "      display: none;\n",
              "      fill: #1967D2;\n",
              "      height: 32px;\n",
              "      padding: 0 0 0 0;\n",
              "      width: 32px;\n",
              "    }\n",
              "\n",
              "    .colab-df-convert:hover {\n",
              "      background-color: #E2EBFA;\n",
              "      box-shadow: 0px 1px 2px rgba(60, 64, 67, 0.3), 0px 1px 3px 1px rgba(60, 64, 67, 0.15);\n",
              "      fill: #174EA6;\n",
              "    }\n",
              "\n",
              "    [theme=dark] .colab-df-convert {\n",
              "      background-color: #3B4455;\n",
              "      fill: #D2E3FC;\n",
              "    }\n",
              "\n",
              "    [theme=dark] .colab-df-convert:hover {\n",
              "      background-color: #434B5C;\n",
              "      box-shadow: 0px 1px 3px 1px rgba(0, 0, 0, 0.15);\n",
              "      filter: drop-shadow(0px 1px 2px rgba(0, 0, 0, 0.3));\n",
              "      fill: #FFFFFF;\n",
              "    }\n",
              "  </style>\n",
              "\n",
              "      <script>\n",
              "        const buttonEl =\n",
              "          document.querySelector('#df-8d067bee-1188-43e9-95e7-6f2af3cfe1f6 button.colab-df-convert');\n",
              "        buttonEl.style.display =\n",
              "          google.colab.kernel.accessAllowed ? 'block' : 'none';\n",
              "\n",
              "        async function convertToInteractive(key) {\n",
              "          const element = document.querySelector('#df-8d067bee-1188-43e9-95e7-6f2af3cfe1f6');\n",
              "          const dataTable =\n",
              "            await google.colab.kernel.invokeFunction('convertToInteractive',\n",
              "                                                     [key], {});\n",
              "          if (!dataTable) return;\n",
              "\n",
              "          const docLinkHtml = 'Like what you see? Visit the ' +\n",
              "            '<a target=\"_blank\" href=https://colab.research.google.com/notebooks/data_table.ipynb>data table notebook</a>'\n",
              "            + ' to learn more about interactive tables.';\n",
              "          element.innerHTML = '';\n",
              "          dataTable['output_type'] = 'display_data';\n",
              "          await google.colab.output.renderOutput(dataTable, element);\n",
              "          const docLink = document.createElement('div');\n",
              "          docLink.innerHTML = docLinkHtml;\n",
              "          element.appendChild(docLink);\n",
              "        }\n",
              "      </script>\n",
              "    </div>\n",
              "  </div>\n",
              "  "
            ]
          },
          "metadata": {},
          "execution_count": 9
        }
      ]
    },
    {
      "cell_type": "code",
      "source": [
        "final_deaths_data = final_deaths_data.drop('2019 Population ', axis = 1)\n",
        "final_deaths_data.head(5)"
      ],
      "metadata": {
        "colab": {
          "base_uri": "https://localhost:8080/",
          "height": 206
        },
        "id": "ObDtBM_huUwc",
        "outputId": "01006868-79b8-4e7a-ad01-4b00607157de"
      },
      "execution_count": null,
      "outputs": [
        {
          "output_type": "execute_result",
          "data": {
            "text/plain": [
              "         Date  Cum_deaths  7-day Average New Deaths  New Deaths Rate  \\\n",
              "0  01/01/2021         388                     426.8           122.58   \n",
              "1  01/01/2022         268                     225.0            81.99   \n",
              "2  01/02/2021         372                     421.6           126.34   \n",
              "3  01/02/2022         230                     225.2            59.94   \n",
              "4  01/03/2021         352                     411.9           129.85   \n",
              "\n",
              "   7-day Average New Death Rate  Total Death Rate  \n",
              "0                        154.40           9306.47  \n",
              "1                         86.44          23791.81  \n",
              "2                        151.59           9432.78  \n",
              "3                         79.70          23851.80  \n",
              "4                        145.23           9562.64  "
            ],
            "text/html": [
              "\n",
              "  <div id=\"df-aa34f320-fb9b-43c9-97bb-d04c756f7376\">\n",
              "    <div class=\"colab-df-container\">\n",
              "      <div>\n",
              "<style scoped>\n",
              "    .dataframe tbody tr th:only-of-type {\n",
              "        vertical-align: middle;\n",
              "    }\n",
              "\n",
              "    .dataframe tbody tr th {\n",
              "        vertical-align: top;\n",
              "    }\n",
              "\n",
              "    .dataframe thead th {\n",
              "        text-align: right;\n",
              "    }\n",
              "</style>\n",
              "<table border=\"1\" class=\"dataframe\">\n",
              "  <thead>\n",
              "    <tr style=\"text-align: right;\">\n",
              "      <th></th>\n",
              "      <th>Date</th>\n",
              "      <th>Cum_deaths</th>\n",
              "      <th>7-day Average New Deaths</th>\n",
              "      <th>New Deaths Rate</th>\n",
              "      <th>7-day Average New Death Rate</th>\n",
              "      <th>Total Death Rate</th>\n",
              "    </tr>\n",
              "  </thead>\n",
              "  <tbody>\n",
              "    <tr>\n",
              "      <th>0</th>\n",
              "      <td>01/01/2021</td>\n",
              "      <td>388</td>\n",
              "      <td>426.8</td>\n",
              "      <td>122.58</td>\n",
              "      <td>154.40</td>\n",
              "      <td>9306.47</td>\n",
              "    </tr>\n",
              "    <tr>\n",
              "      <th>1</th>\n",
              "      <td>01/01/2022</td>\n",
              "      <td>268</td>\n",
              "      <td>225.0</td>\n",
              "      <td>81.99</td>\n",
              "      <td>86.44</td>\n",
              "      <td>23791.81</td>\n",
              "    </tr>\n",
              "    <tr>\n",
              "      <th>2</th>\n",
              "      <td>01/02/2021</td>\n",
              "      <td>372</td>\n",
              "      <td>421.6</td>\n",
              "      <td>126.34</td>\n",
              "      <td>151.59</td>\n",
              "      <td>9432.78</td>\n",
              "    </tr>\n",
              "    <tr>\n",
              "      <th>3</th>\n",
              "      <td>01/02/2022</td>\n",
              "      <td>230</td>\n",
              "      <td>225.2</td>\n",
              "      <td>59.94</td>\n",
              "      <td>79.70</td>\n",
              "      <td>23851.80</td>\n",
              "    </tr>\n",
              "    <tr>\n",
              "      <th>4</th>\n",
              "      <td>01/03/2021</td>\n",
              "      <td>352</td>\n",
              "      <td>411.9</td>\n",
              "      <td>129.85</td>\n",
              "      <td>145.23</td>\n",
              "      <td>9562.64</td>\n",
              "    </tr>\n",
              "  </tbody>\n",
              "</table>\n",
              "</div>\n",
              "      <button class=\"colab-df-convert\" onclick=\"convertToInteractive('df-aa34f320-fb9b-43c9-97bb-d04c756f7376')\"\n",
              "              title=\"Convert this dataframe to an interactive table.\"\n",
              "              style=\"display:none;\">\n",
              "        \n",
              "  <svg xmlns=\"http://www.w3.org/2000/svg\" height=\"24px\"viewBox=\"0 0 24 24\"\n",
              "       width=\"24px\">\n",
              "    <path d=\"M0 0h24v24H0V0z\" fill=\"none\"/>\n",
              "    <path d=\"M18.56 5.44l.94 2.06.94-2.06 2.06-.94-2.06-.94-.94-2.06-.94 2.06-2.06.94zm-11 1L8.5 8.5l.94-2.06 2.06-.94-2.06-.94L8.5 2.5l-.94 2.06-2.06.94zm10 10l.94 2.06.94-2.06 2.06-.94-2.06-.94-.94-2.06-.94 2.06-2.06.94z\"/><path d=\"M17.41 7.96l-1.37-1.37c-.4-.4-.92-.59-1.43-.59-.52 0-1.04.2-1.43.59L10.3 9.45l-7.72 7.72c-.78.78-.78 2.05 0 2.83L4 21.41c.39.39.9.59 1.41.59.51 0 1.02-.2 1.41-.59l7.78-7.78 2.81-2.81c.8-.78.8-2.07 0-2.86zM5.41 20L4 18.59l7.72-7.72 1.47 1.35L5.41 20z\"/>\n",
              "  </svg>\n",
              "      </button>\n",
              "      \n",
              "  <style>\n",
              "    .colab-df-container {\n",
              "      display:flex;\n",
              "      flex-wrap:wrap;\n",
              "      gap: 12px;\n",
              "    }\n",
              "\n",
              "    .colab-df-convert {\n",
              "      background-color: #E8F0FE;\n",
              "      border: none;\n",
              "      border-radius: 50%;\n",
              "      cursor: pointer;\n",
              "      display: none;\n",
              "      fill: #1967D2;\n",
              "      height: 32px;\n",
              "      padding: 0 0 0 0;\n",
              "      width: 32px;\n",
              "    }\n",
              "\n",
              "    .colab-df-convert:hover {\n",
              "      background-color: #E2EBFA;\n",
              "      box-shadow: 0px 1px 2px rgba(60, 64, 67, 0.3), 0px 1px 3px 1px rgba(60, 64, 67, 0.15);\n",
              "      fill: #174EA6;\n",
              "    }\n",
              "\n",
              "    [theme=dark] .colab-df-convert {\n",
              "      background-color: #3B4455;\n",
              "      fill: #D2E3FC;\n",
              "    }\n",
              "\n",
              "    [theme=dark] .colab-df-convert:hover {\n",
              "      background-color: #434B5C;\n",
              "      box-shadow: 0px 1px 3px 1px rgba(0, 0, 0, 0.15);\n",
              "      filter: drop-shadow(0px 1px 2px rgba(0, 0, 0, 0.3));\n",
              "      fill: #FFFFFF;\n",
              "    }\n",
              "  </style>\n",
              "\n",
              "      <script>\n",
              "        const buttonEl =\n",
              "          document.querySelector('#df-aa34f320-fb9b-43c9-97bb-d04c756f7376 button.colab-df-convert');\n",
              "        buttonEl.style.display =\n",
              "          google.colab.kernel.accessAllowed ? 'block' : 'none';\n",
              "\n",
              "        async function convertToInteractive(key) {\n",
              "          const element = document.querySelector('#df-aa34f320-fb9b-43c9-97bb-d04c756f7376');\n",
              "          const dataTable =\n",
              "            await google.colab.kernel.invokeFunction('convertToInteractive',\n",
              "                                                     [key], {});\n",
              "          if (!dataTable) return;\n",
              "\n",
              "          const docLinkHtml = 'Like what you see? Visit the ' +\n",
              "            '<a target=\"_blank\" href=https://colab.research.google.com/notebooks/data_table.ipynb>data table notebook</a>'\n",
              "            + ' to learn more about interactive tables.';\n",
              "          element.innerHTML = '';\n",
              "          dataTable['output_type'] = 'display_data';\n",
              "          await google.colab.output.renderOutput(dataTable, element);\n",
              "          const docLink = document.createElement('div');\n",
              "          docLink.innerHTML = docLinkHtml;\n",
              "          element.appendChild(docLink);\n",
              "        }\n",
              "      </script>\n",
              "    </div>\n",
              "  </div>\n",
              "  "
            ]
          },
          "metadata": {},
          "execution_count": 10
        }
      ]
    },
    {
      "cell_type": "code",
      "source": [
        ""
      ],
      "metadata": {
        "id": "FtsK4tiisASm"
      },
      "execution_count": null,
      "outputs": []
    },
    {
      "cell_type": "code",
      "source": [
        "final_deaths_data['Date'] = pd.to_datetime(final_deaths_data['Date'])"
      ],
      "metadata": {
        "id": "oHROQjh-0-IA"
      },
      "execution_count": null,
      "outputs": []
    },
    {
      "cell_type": "code",
      "source": [
        "final_deaths_data.info()"
      ],
      "metadata": {
        "colab": {
          "base_uri": "https://localhost:8080/"
        },
        "id": "TbFF-o5Uz5wA",
        "outputId": "167bc073-475a-41ca-e8a8-859cf1e14e69"
      },
      "execution_count": null,
      "outputs": [
        {
          "output_type": "stream",
          "name": "stdout",
          "text": [
            "<class 'pandas.core.frame.DataFrame'>\n",
            "RangeIndex: 764 entries, 0 to 763\n",
            "Data columns (total 6 columns):\n",
            " #   Column                        Non-Null Count  Dtype         \n",
            "---  ------                        --------------  -----         \n",
            " 0   Date                          764 non-null    datetime64[ns]\n",
            " 1   Cum_deaths                    764 non-null    int64         \n",
            " 2   7-day Average New Deaths      764 non-null    float64       \n",
            " 3   New Deaths Rate               764 non-null    float64       \n",
            " 4   7-day Average New Death Rate  764 non-null    float64       \n",
            " 5   Total Death Rate              764 non-null    float64       \n",
            "dtypes: datetime64[ns](1), float64(4), int64(1)\n",
            "memory usage: 35.9 KB\n"
          ]
        }
      ]
    },
    {
      "cell_type": "code",
      "source": [
        "#Export Dataset to csv\n",
        "#final_deaths_data.to_csv('final_deaths_data.csv')\n",
        "#final_data2.to_csv('final_data2.csv')"
      ],
      "metadata": {
        "id": "csdR6dvrE-wt",
        "colab": {
          "base_uri": "https://localhost:8080/",
          "height": 200
        },
        "outputId": "06f14a35-dbfe-4c64-f05d-a3b9cc4fdb89"
      },
      "execution_count": null,
      "outputs": [
        {
          "output_type": "error",
          "ename": "NameError",
          "evalue": "ignored",
          "traceback": [
            "\u001b[0;31m---------------------------------------------------------------------------\u001b[0m",
            "\u001b[0;31mNameError\u001b[0m                                 Traceback (most recent call last)",
            "\u001b[0;32m<ipython-input-13-81a39d94e57f>\u001b[0m in \u001b[0;36m<module>\u001b[0;34m()\u001b[0m\n\u001b[1;32m      1\u001b[0m \u001b[0;31m#Export Dataset to csv\u001b[0m\u001b[0;34m\u001b[0m\u001b[0;34m\u001b[0m\u001b[0;34m\u001b[0m\u001b[0m\n\u001b[1;32m      2\u001b[0m \u001b[0;31m#final_deaths_data.to_csv('final_deaths_data.csv')\u001b[0m\u001b[0;34m\u001b[0m\u001b[0;34m\u001b[0m\u001b[0;34m\u001b[0m\u001b[0m\n\u001b[0;32m----> 3\u001b[0;31m \u001b[0mfinal_data2\u001b[0m\u001b[0;34m.\u001b[0m\u001b[0mto_csv\u001b[0m\u001b[0;34m(\u001b[0m\u001b[0;34m'final_data2.csv'\u001b[0m\u001b[0;34m)\u001b[0m\u001b[0;34m\u001b[0m\u001b[0;34m\u001b[0m\u001b[0m\n\u001b[0m",
            "\u001b[0;31mNameError\u001b[0m: name 'final_data2' is not defined"
          ]
        }
      ]
    },
    {
      "cell_type": "code",
      "source": [
        "final_data2 = pd.merge(left = final_data, right = final_deaths_data, how = 'outer', on = 'Date')\n",
        "final_data2.head(5)"
      ],
      "metadata": {
        "colab": {
          "base_uri": "https://localhost:8080/",
          "height": 456
        },
        "id": "4SfKQMC4zAJm",
        "outputId": "93ef1e2d-9b54-4fea-b735-8731a66ad9da"
      },
      "execution_count": null,
      "outputs": [
        {
          "output_type": "execute_result",
          "data": {
            "text/plain": [
              "        Date  New Cases  7-day Average New Cases  Cum_cases  \\\n",
              "0 2021-08-23     3085.0                   2657.6  1288443.0   \n",
              "1 2021-08-24     3692.0                   2865.8  1292135.0   \n",
              "2 2021-08-25     3248.0                   2764.2  1295383.0   \n",
              "3 2021-08-26     3966.0                   2972.8  1299349.0   \n",
              "4 2021-08-27     3858.0                   3123.1  1303207.0   \n",
              "\n",
              "   Population (2019)  New Case Rate  7-Day Average New Case Rate  \\\n",
              "0         12801989.0         1691.8                       1335.8   \n",
              "1         12801989.0         1913.3                       1446.7   \n",
              "2         12801989.0         1650.1                       1411.5   \n",
              "3         12801989.0         2258.5                       1564.4   \n",
              "4         12801989.0         2005.5                       1647.5   \n",
              "\n",
              "   Cumulative Case Rate  percent_test_results_reported_positive_last_7_days  \\\n",
              "0              673516.3                                           7.788507    \n",
              "1              675430.5                                           8.070000    \n",
              "2              677080.3                                           8.288060    \n",
              "3              679338.5                                           8.549403    \n",
              "4              681344.4                                           9.145672    \n",
              "\n",
              "   community_transmission_level  ...  Administered_Dose1_Pop_Pct  \\\n",
              "0                           3.0  ...                        68.4   \n",
              "1                           3.0  ...                        68.5   \n",
              "2                           3.0  ...                        68.6   \n",
              "3                           3.0  ...                        68.7   \n",
              "4                           3.0  ...                        68.9   \n",
              "\n",
              "   Series_Complete_Yes  Series_Complete_Pop_Pct  Additional_Doses  \\\n",
              "0            6954691.0                     54.3               0.0   \n",
              "1            6962263.0                     54.4               0.0   \n",
              "2            6974946.0                     54.5               0.0   \n",
              "3            6989211.0                     54.6               0.0   \n",
              "4            7004761.0                     54.7               0.0   \n",
              "\n",
              "   Additional_Doses_Vax_Pct  Cum_deaths  7-day Average New Deaths  \\\n",
              "0                       0.0        60.0                      41.0   \n",
              "1                       0.0        52.0                      45.7   \n",
              "2                       0.0        44.0                      46.4   \n",
              "3                       0.0        56.0                      48.6   \n",
              "4                       0.0        48.0                      48.4   \n",
              "\n",
              "   New Deaths Rate  7-day Average New Death Rate  Total Death Rate  \n",
              "0            20.97                         14.83          15752.10  \n",
              "1            16.23                         15.32          15768.35  \n",
              "2            11.87                         15.31          15780.21  \n",
              "3            14.05                         14.94          15794.27  \n",
              "4            24.84                         15.44          15819.12  \n",
              "\n",
              "[5 rows x 23 columns]"
            ],
            "text/html": [
              "\n",
              "  <div id=\"df-e9fc4ee7-c207-4b50-87fa-8b37a1e865ad\">\n",
              "    <div class=\"colab-df-container\">\n",
              "      <div>\n",
              "<style scoped>\n",
              "    .dataframe tbody tr th:only-of-type {\n",
              "        vertical-align: middle;\n",
              "    }\n",
              "\n",
              "    .dataframe tbody tr th {\n",
              "        vertical-align: top;\n",
              "    }\n",
              "\n",
              "    .dataframe thead th {\n",
              "        text-align: right;\n",
              "    }\n",
              "</style>\n",
              "<table border=\"1\" class=\"dataframe\">\n",
              "  <thead>\n",
              "    <tr style=\"text-align: right;\">\n",
              "      <th></th>\n",
              "      <th>Date</th>\n",
              "      <th>New Cases</th>\n",
              "      <th>7-day Average New Cases</th>\n",
              "      <th>Cum_cases</th>\n",
              "      <th>Population (2019)</th>\n",
              "      <th>New Case Rate</th>\n",
              "      <th>7-Day Average New Case Rate</th>\n",
              "      <th>Cumulative Case Rate</th>\n",
              "      <th>percent_test_results_reported_positive_last_7_days</th>\n",
              "      <th>community_transmission_level</th>\n",
              "      <th>...</th>\n",
              "      <th>Administered_Dose1_Pop_Pct</th>\n",
              "      <th>Series_Complete_Yes</th>\n",
              "      <th>Series_Complete_Pop_Pct</th>\n",
              "      <th>Additional_Doses</th>\n",
              "      <th>Additional_Doses_Vax_Pct</th>\n",
              "      <th>Cum_deaths</th>\n",
              "      <th>7-day Average New Deaths</th>\n",
              "      <th>New Deaths Rate</th>\n",
              "      <th>7-day Average New Death Rate</th>\n",
              "      <th>Total Death Rate</th>\n",
              "    </tr>\n",
              "  </thead>\n",
              "  <tbody>\n",
              "    <tr>\n",
              "      <th>0</th>\n",
              "      <td>2021-08-23</td>\n",
              "      <td>3085.0</td>\n",
              "      <td>2657.6</td>\n",
              "      <td>1288443.0</td>\n",
              "      <td>12801989.0</td>\n",
              "      <td>1691.8</td>\n",
              "      <td>1335.8</td>\n",
              "      <td>673516.3</td>\n",
              "      <td>7.788507</td>\n",
              "      <td>3.0</td>\n",
              "      <td>...</td>\n",
              "      <td>68.4</td>\n",
              "      <td>6954691.0</td>\n",
              "      <td>54.3</td>\n",
              "      <td>0.0</td>\n",
              "      <td>0.0</td>\n",
              "      <td>60.0</td>\n",
              "      <td>41.0</td>\n",
              "      <td>20.97</td>\n",
              "      <td>14.83</td>\n",
              "      <td>15752.10</td>\n",
              "    </tr>\n",
              "    <tr>\n",
              "      <th>1</th>\n",
              "      <td>2021-08-24</td>\n",
              "      <td>3692.0</td>\n",
              "      <td>2865.8</td>\n",
              "      <td>1292135.0</td>\n",
              "      <td>12801989.0</td>\n",
              "      <td>1913.3</td>\n",
              "      <td>1446.7</td>\n",
              "      <td>675430.5</td>\n",
              "      <td>8.070000</td>\n",
              "      <td>3.0</td>\n",
              "      <td>...</td>\n",
              "      <td>68.5</td>\n",
              "      <td>6962263.0</td>\n",
              "      <td>54.4</td>\n",
              "      <td>0.0</td>\n",
              "      <td>0.0</td>\n",
              "      <td>52.0</td>\n",
              "      <td>45.7</td>\n",
              "      <td>16.23</td>\n",
              "      <td>15.32</td>\n",
              "      <td>15768.35</td>\n",
              "    </tr>\n",
              "    <tr>\n",
              "      <th>2</th>\n",
              "      <td>2021-08-25</td>\n",
              "      <td>3248.0</td>\n",
              "      <td>2764.2</td>\n",
              "      <td>1295383.0</td>\n",
              "      <td>12801989.0</td>\n",
              "      <td>1650.1</td>\n",
              "      <td>1411.5</td>\n",
              "      <td>677080.3</td>\n",
              "      <td>8.288060</td>\n",
              "      <td>3.0</td>\n",
              "      <td>...</td>\n",
              "      <td>68.6</td>\n",
              "      <td>6974946.0</td>\n",
              "      <td>54.5</td>\n",
              "      <td>0.0</td>\n",
              "      <td>0.0</td>\n",
              "      <td>44.0</td>\n",
              "      <td>46.4</td>\n",
              "      <td>11.87</td>\n",
              "      <td>15.31</td>\n",
              "      <td>15780.21</td>\n",
              "    </tr>\n",
              "    <tr>\n",
              "      <th>3</th>\n",
              "      <td>2021-08-26</td>\n",
              "      <td>3966.0</td>\n",
              "      <td>2972.8</td>\n",
              "      <td>1299349.0</td>\n",
              "      <td>12801989.0</td>\n",
              "      <td>2258.5</td>\n",
              "      <td>1564.4</td>\n",
              "      <td>679338.5</td>\n",
              "      <td>8.549403</td>\n",
              "      <td>3.0</td>\n",
              "      <td>...</td>\n",
              "      <td>68.7</td>\n",
              "      <td>6989211.0</td>\n",
              "      <td>54.6</td>\n",
              "      <td>0.0</td>\n",
              "      <td>0.0</td>\n",
              "      <td>56.0</td>\n",
              "      <td>48.6</td>\n",
              "      <td>14.05</td>\n",
              "      <td>14.94</td>\n",
              "      <td>15794.27</td>\n",
              "    </tr>\n",
              "    <tr>\n",
              "      <th>4</th>\n",
              "      <td>2021-08-27</td>\n",
              "      <td>3858.0</td>\n",
              "      <td>3123.1</td>\n",
              "      <td>1303207.0</td>\n",
              "      <td>12801989.0</td>\n",
              "      <td>2005.5</td>\n",
              "      <td>1647.5</td>\n",
              "      <td>681344.4</td>\n",
              "      <td>9.145672</td>\n",
              "      <td>3.0</td>\n",
              "      <td>...</td>\n",
              "      <td>68.9</td>\n",
              "      <td>7004761.0</td>\n",
              "      <td>54.7</td>\n",
              "      <td>0.0</td>\n",
              "      <td>0.0</td>\n",
              "      <td>48.0</td>\n",
              "      <td>48.4</td>\n",
              "      <td>24.84</td>\n",
              "      <td>15.44</td>\n",
              "      <td>15819.12</td>\n",
              "    </tr>\n",
              "  </tbody>\n",
              "</table>\n",
              "<p>5 rows × 23 columns</p>\n",
              "</div>\n",
              "      <button class=\"colab-df-convert\" onclick=\"convertToInteractive('df-e9fc4ee7-c207-4b50-87fa-8b37a1e865ad')\"\n",
              "              title=\"Convert this dataframe to an interactive table.\"\n",
              "              style=\"display:none;\">\n",
              "        \n",
              "  <svg xmlns=\"http://www.w3.org/2000/svg\" height=\"24px\"viewBox=\"0 0 24 24\"\n",
              "       width=\"24px\">\n",
              "    <path d=\"M0 0h24v24H0V0z\" fill=\"none\"/>\n",
              "    <path d=\"M18.56 5.44l.94 2.06.94-2.06 2.06-.94-2.06-.94-.94-2.06-.94 2.06-2.06.94zm-11 1L8.5 8.5l.94-2.06 2.06-.94-2.06-.94L8.5 2.5l-.94 2.06-2.06.94zm10 10l.94 2.06.94-2.06 2.06-.94-2.06-.94-.94-2.06-.94 2.06-2.06.94z\"/><path d=\"M17.41 7.96l-1.37-1.37c-.4-.4-.92-.59-1.43-.59-.52 0-1.04.2-1.43.59L10.3 9.45l-7.72 7.72c-.78.78-.78 2.05 0 2.83L4 21.41c.39.39.9.59 1.41.59.51 0 1.02-.2 1.41-.59l7.78-7.78 2.81-2.81c.8-.78.8-2.07 0-2.86zM5.41 20L4 18.59l7.72-7.72 1.47 1.35L5.41 20z\"/>\n",
              "  </svg>\n",
              "      </button>\n",
              "      \n",
              "  <style>\n",
              "    .colab-df-container {\n",
              "      display:flex;\n",
              "      flex-wrap:wrap;\n",
              "      gap: 12px;\n",
              "    }\n",
              "\n",
              "    .colab-df-convert {\n",
              "      background-color: #E8F0FE;\n",
              "      border: none;\n",
              "      border-radius: 50%;\n",
              "      cursor: pointer;\n",
              "      display: none;\n",
              "      fill: #1967D2;\n",
              "      height: 32px;\n",
              "      padding: 0 0 0 0;\n",
              "      width: 32px;\n",
              "    }\n",
              "\n",
              "    .colab-df-convert:hover {\n",
              "      background-color: #E2EBFA;\n",
              "      box-shadow: 0px 1px 2px rgba(60, 64, 67, 0.3), 0px 1px 3px 1px rgba(60, 64, 67, 0.15);\n",
              "      fill: #174EA6;\n",
              "    }\n",
              "\n",
              "    [theme=dark] .colab-df-convert {\n",
              "      background-color: #3B4455;\n",
              "      fill: #D2E3FC;\n",
              "    }\n",
              "\n",
              "    [theme=dark] .colab-df-convert:hover {\n",
              "      background-color: #434B5C;\n",
              "      box-shadow: 0px 1px 3px 1px rgba(0, 0, 0, 0.15);\n",
              "      filter: drop-shadow(0px 1px 2px rgba(0, 0, 0, 0.3));\n",
              "      fill: #FFFFFF;\n",
              "    }\n",
              "  </style>\n",
              "\n",
              "      <script>\n",
              "        const buttonEl =\n",
              "          document.querySelector('#df-e9fc4ee7-c207-4b50-87fa-8b37a1e865ad button.colab-df-convert');\n",
              "        buttonEl.style.display =\n",
              "          google.colab.kernel.accessAllowed ? 'block' : 'none';\n",
              "\n",
              "        async function convertToInteractive(key) {\n",
              "          const element = document.querySelector('#df-e9fc4ee7-c207-4b50-87fa-8b37a1e865ad');\n",
              "          const dataTable =\n",
              "            await google.colab.kernel.invokeFunction('convertToInteractive',\n",
              "                                                     [key], {});\n",
              "          if (!dataTable) return;\n",
              "\n",
              "          const docLinkHtml = 'Like what you see? Visit the ' +\n",
              "            '<a target=\"_blank\" href=https://colab.research.google.com/notebooks/data_table.ipynb>data table notebook</a>'\n",
              "            + ' to learn more about interactive tables.';\n",
              "          element.innerHTML = '';\n",
              "          dataTable['output_type'] = 'display_data';\n",
              "          await google.colab.output.renderOutput(dataTable, element);\n",
              "          const docLink = document.createElement('div');\n",
              "          docLink.innerHTML = docLinkHtml;\n",
              "          element.appendChild(docLink);\n",
              "        }\n",
              "      </script>\n",
              "    </div>\n",
              "  </div>\n",
              "  "
            ]
          },
          "metadata": {},
          "execution_count": 14
        }
      ]
    },
    {
      "cell_type": "code",
      "source": [
        "#Splitting the data into test and train\n",
        "\n",
        "GithubUrl = \"https://github.com/IvanVoinovGitHub/Covid19-Analysis-Modeling/raw/main/Model_Data/PA_Modeldata.csv\"\n",
        "GithubUrl2 = \"https://github.com/IvanVoinovGitHub/Covid19-Analysis-Modeling/raw/main/Data/final_data2.csv\"\n",
        "data = pd.read_csv(GithubUrl)\n",
        "data2 = pd.read_csv(GithubUrl2)\n",
        "\n",
        "training_data = data2.sample(frac=0.8, random_state=25)\n",
        "testing_data = data2.drop(training_data.index)\n",
        "\n",
        "print(f\"No. of training examples: {training_data.shape[0]}\")\n",
        "print(f\"No. of testing examples: {testing_data.shape[0]}\")\n",
        "print(\"Dates go from\", min(training_data['Date']), \"to day\", max(training_data['Date']), \", a total of\", training_data['Date'].nunique(), \"days of observed Covid data\")"
      ],
      "metadata": {
        "colab": {
          "base_uri": "https://localhost:8080/"
        },
        "id": "0cVO4KRmbPC3",
        "outputId": "f4dd3a11-e872-4b33-e2c9-dd20e35f823b"
      },
      "execution_count": null,
      "outputs": [
        {
          "output_type": "stream",
          "name": "stdout",
          "text": [
            "No. of training examples: 611\n",
            "No. of testing examples: 153\n",
            "Dates go from 2020-03-18 to day 2022-04-20 , a total of 611 days of observed Covid data\n"
          ]
        }
      ]
    },
    {
      "cell_type": "code",
      "source": [
        "data2.info()"
      ],
      "metadata": {
        "colab": {
          "base_uri": "https://localhost:8080/"
        },
        "id": "rDZW3hSlp2X9",
        "outputId": "a98b2eae-777d-4857-c2dd-13391a2c8d30"
      },
      "execution_count": null,
      "outputs": [
        {
          "output_type": "stream",
          "name": "stdout",
          "text": [
            "<class 'pandas.core.frame.DataFrame'>\n",
            "RangeIndex: 764 entries, 0 to 763\n",
            "Data columns (total 24 columns):\n",
            " #   Column                                              Non-Null Count  Dtype  \n",
            "---  ------                                              --------------  -----  \n",
            " 0   Unnamed: 0                                          764 non-null    int64  \n",
            " 1   Date                                                764 non-null    object \n",
            " 2   New Cases                                           226 non-null    float64\n",
            " 3   7-day Average New Cases                             226 non-null    float64\n",
            " 4   Cum_cases                                           226 non-null    float64\n",
            " 5   Population (2019)                                   226 non-null    float64\n",
            " 6   New Case Rate                                       226 non-null    float64\n",
            " 7   7-Day Average New Case Rate                         226 non-null    float64\n",
            " 8   Cumulative Case Rate                                226 non-null    float64\n",
            " 9   percent_test_results_reported_positive_last_7_days  226 non-null    float64\n",
            " 10  community_transmission_level                        226 non-null    float64\n",
            " 11  Distributed                                         226 non-null    float64\n",
            " 12  Administered                                        226 non-null    float64\n",
            " 13  Administered_Dose1_Recip                            226 non-null    float64\n",
            " 14  Administered_Dose1_Pop_Pct                          226 non-null    float64\n",
            " 15  Series_Complete_Yes                                 226 non-null    float64\n",
            " 16  Series_Complete_Pop_Pct                             226 non-null    float64\n",
            " 17  Additional_Doses                                    226 non-null    float64\n",
            " 18  Additional_Doses_Vax_Pct                            226 non-null    float64\n",
            " 19  Cum_deaths                                          764 non-null    int64  \n",
            " 20  7-day Average New Deaths                            764 non-null    float64\n",
            " 21  New Deaths Rate                                     764 non-null    float64\n",
            " 22  7-day Average New Death Rate                        764 non-null    float64\n",
            " 23  Total Death Rate                                    764 non-null    float64\n",
            "dtypes: float64(21), int64(2), object(1)\n",
            "memory usage: 143.4+ KB\n"
          ]
        }
      ]
    },
    {
      "cell_type": "code",
      "source": [
        "import matplotlib.pyplot as plt\n",
        "data2.plot(x=\"Date\", y=[\"Cum_cases\"])\n",
        "plt.show()"
      ],
      "metadata": {
        "colab": {
          "base_uri": "https://localhost:8080/",
          "height": 290
        },
        "id": "ojo8KhC8ckzb",
        "outputId": "abb331fe-3bec-40a3-eed3-c5a74e316601"
      },
      "execution_count": null,
      "outputs": [
        {
          "output_type": "display_data",
          "data": {
            "text/plain": [
              "<Figure size 432x288 with 1 Axes>"
            ],
            "image/png": "[encoded data removed]"
          },
          "metadata": {
            "needs_background": "light"
          }
        }
      ]
    },
    {
      "cell_type": "code",
      "source": [
        "data2.plot(x=\"Date\", y=[\"Cum_deaths\"])\n",
        "plt.show()"
      ],
      "metadata": {
        "colab": {
          "base_uri": "https://localhost:8080/",
          "height": 280
        },
        "id": "QwjUvOtY46E3",
        "outputId": "bc47c17d-1634-48ce-b3b0-cc8588064a06"
      },
      "execution_count": null,
      "outputs": [
        {
          "output_type": "display_data",
          "data": {
            "text/plain": [
              "<Figure size 432x288 with 1 Axes>"
            ],
            "image/png": "[encoded data removed]"
          },
          "metadata": {
            "needs_background": "light"
          }
        }
      ]
    },
    {
      "cell_type": "markdown",
      "metadata": {
        "id": "pCBhQv0rxkF2"
      },
      "source": [
        "# 2. SIR model <a id=\"section2\"></a>\n",
        "\n",
        "We have seen some general behavior of the virus in agregated data, for the country where the coronavirus was originated and for four other interesting countries. There's a lot of information to be extracted from this data; for example, we haven't analyzed the effects of long/lat of countries. However, since our main purpose is to develop a predective model in order to understand the key factors that impact the COVID-19 transmission, I'll move on to one of the most famous epidemiologic models: SIR. \n",
        "\n",
        "SIR is a simple model that considers a population that belongs to one of the following states:\n",
        "1. **Susceptible (S)**. The individual hasn't contracted the disease, but she can be infected due to transmisison from infected people\n",
        "2. **Infected (I)**. This person has contracted the disease\n",
        "3. **Recovered/Deceased (R)**. The disease may lead to one of two destinies: either the person survives, hence developing inmunity to the disease, or the person is deceased. \n",
        "\n",
        "<img src=\"https://www.lewuathe.com/assets/img/posts/2020-03-11-covid-19-dynamics-with-sir-model/sir.png\" width=\"500px\">\n",
        "Image by Kai Sasaki from [lewuathe.com](https://www.lewuathe.com/covid-19-dynamics-with-sir-model.html)\n",
        "\n",
        "There are many versions of this model, considering birth and death (SIRD with demography), with intermediate states, etc. However, since we are in the early stages of the COVID-19 expansion and our interest is focused in the short term, we will consider that people develops immunity (in the long term, immunity may be lost and the COVID-19 may come back within a certain seasonality like the common flu) and there is no transition from recovered to the remaining two states. With this, the differential equations that govern the system are:\n",
        "\n",
        "$$ {dS \\over dt} = - {\\beta S I \\over N} $$\n",
        "\n",
        "$$ {dI \\over dt} = {\\beta S I \\over N} - \\gamma I$$\n",
        "\n",
        "$$ {dR \\over dt} = \\gamma I$$\n",
        "\n",
        "Where $\\beta$ is the contagion rate of the pathogen and $\\gamma$ is the recovery rate."
      ]
    },
    {
      "cell_type": "markdown",
      "metadata": {
        "id": "DNN5OmJkxkF2"
      },
      "source": [
        "## 2.1. Implementing the SIR model <a id=\"section21\"></a>\n",
        "\n",
        "SIR model can be implemented in many ways: from the differential equations governing the system, within a mean field approximation or running the dynamics in a social network (graph). For the sake of simplicity, I'vem chosen the first option, and we will simply run a numerical method (Runge-Kutta) to solve the differential equations system. \n",
        "\n",
        "The functions governing the dif.eqs. are:"
      ]
    },
    {
      "cell_type": "code",
      "execution_count": null,
      "metadata": {
        "id": "uZNXINpjxkF3"
      },
      "outputs": [],
      "source": [
        "# Susceptible equation\n",
        "def fa(N, a, b, beta):\n",
        "    fa = -beta*a*b\n",
        "    return fa\n",
        "\n",
        "# Infected equation\n",
        "def fb(N, a, b, beta, gamma):\n",
        "    fb = beta*a*b - gamma*b\n",
        "    return fb\n",
        "\n",
        "# Recovered/deceased equation\n",
        "def fc(N, b, gamma):\n",
        "    fc = gamma*b\n",
        "    return fc"
      ]
    },
    {
      "cell_type": "markdown",
      "metadata": {
        "id": "oZWM4TsjxkF3"
      },
      "source": [
        "In order to solve the differential equations system, we develop a  4rth order [Runge-Kutta](https://en.wikipedia.org/wiki/Runge%E2%80%93Kutta_methods) method:"
      ]
    },
    {
      "cell_type": "code",
      "execution_count": null,
      "metadata": {
        "id": "D0q37o0ixkF3"
      },
      "outputs": [],
      "source": [
        "# Runge-Kutta method of 4rth order for 3 dimensions (susceptible a, infected b and recovered r)\n",
        "def rK4(N, a, b, c, fa, fb, fc, beta, gamma, hs):\n",
        "    a1 = fa(N, a, b, beta)*hs\n",
        "    b1 = fb(N, a, b, beta, gamma)*hs\n",
        "    c1 = fc(N, b, gamma)*hs\n",
        "    ak = a + a1*0.5\n",
        "    bk = b + b1*0.5\n",
        "    ck = c + c1*0.5\n",
        "    a2 = fa(N, ak, bk, beta)*hs\n",
        "    b2 = fb(N, ak, bk, beta, gamma)*hs\n",
        "    c2 = fc(N, bk, gamma)*hs\n",
        "    ak = a + a2*0.5\n",
        "    bk = b + b2*0.5\n",
        "    ck = c + c2*0.5\n",
        "    a3 = fa(N, ak, bk, beta)*hs\n",
        "    b3 = fb(N, ak, bk, beta, gamma)*hs\n",
        "    c3 = fc(N, bk, gamma)*hs\n",
        "    ak = a + a3\n",
        "    bk = b + b3\n",
        "    ck = c + c3\n",
        "    a4 = fa(N, ak, bk, beta)*hs\n",
        "    b4 = fb(N, ak, bk, beta, gamma)*hs\n",
        "    c4 = fc(N, bk, gamma)*hs\n",
        "    a = a + (a1 + 2*(a2 + a3) + a4)/6\n",
        "    b = b + (b1 + 2*(b2 + b3) + b4)/6\n",
        "    c = c + (c1 + 2*(c2 + c3) + c4)/6\n",
        "    return a, b, c"
      ]
    },
    {
      "cell_type": "markdown",
      "metadata": {
        "id": "oLvLS7e5xkF3"
      },
      "source": [
        "And finally, to obtain the evolution of the disease we simply define the initial conditions and call the rk4 method:"
      ]
    },
    {
      "cell_type": "code",
      "execution_count": null,
      "metadata": {
        "id": "_Puy0UG3xkF3"
      },
      "outputs": [],
      "source": [
        "def SIR(N, b0, beta, gamma, hs):\n",
        "    \n",
        "    \"\"\"\n",
        "    N = total number of population\n",
        "    beta = transition rate S->I\n",
        "    gamma = transition rate I->R\n",
        "    k =  denotes the constant degree distribution of the network (average value for networks in which \n",
        "    the probability of finding a node with a different connectivity decays exponentially fast\n",
        "    hs = jump step of the numerical integration\n",
        "    \"\"\"\n",
        "    \n",
        "    # Initial condition\n",
        "    a = float(N-1)/N -b0\n",
        "    b = float(1)/N +b0\n",
        "    c = 0.\n",
        "\n",
        "    sus, inf, rec= [],[],[]\n",
        "    for i in range(10000): # Run for a certain number of time-steps\n",
        "        sus.append(a)\n",
        "        inf.append(b)\n",
        "        rec.append(c)\n",
        "        a,b,c = rK4(N, a, b, c, fa, fb, fc, beta, gamma, hs)\n",
        "\n",
        "    return sus, inf, rec"
      ]
    },
    {
      "cell_type": "markdown",
      "metadata": {
        "id": "k0GvbIQtxkF4"
      },
      "source": [
        "Results obtained for N=world population, only one initial infected case, $\\beta=0.3$, $\\gamma=0.5$ and a leap pass $h_s = 0.1$ are shown below:"
      ]
    },
    {
      "cell_type": "code",
      "execution_count": null,
      "metadata": {
        "id": "8qgqwmOSxkF4",
        "outputId": "4c3a5faa-ed5a-4c11-a004-f3b4e5bb1096",
        "colab": {
          "base_uri": "https://localhost:8080/",
          "height": 350
        }
      },
      "outputs": [
        {
          "output_type": "display_data",
          "data": {
            "text/plain": [
              "<Figure size 576x360 with 1 Axes>"
            ],
            "image/png": "[encoded data removed]"
          },
          "metadata": {
            "needs_background": "light"
          }
        }
      ],
      "source": [
        "# Parameters of the model\n",
        "N = 7800*(10**6)\n",
        "b0 = 0\n",
        "beta = 0.7\n",
        "gamma = 0.2\n",
        "hs = 0.1\n",
        "\n",
        "sus, inf, rec = SIR(N, b0, beta, gamma, hs)\n",
        "\n",
        "f = plt.figure(figsize=(8,5)) \n",
        "plt.plot(sus, 'b.', label='susceptible');\n",
        "plt.plot(inf, 'r.', label='infected');\n",
        "plt.plot(rec, 'c.', label='recovered/deceased');\n",
        "plt.title(\"SIR model\")\n",
        "plt.xlabel(\"time\", fontsize=10);\n",
        "plt.ylabel(\"Fraction of population\", fontsize=10);\n",
        "plt.legend(loc='best')\n",
        "plt.xlim(0,1000)\n",
        "plt.savefig('SIR_example.png')\n",
        "plt.show()"
      ]
    },
    {
      "cell_type": "markdown",
      "metadata": {
        "id": "S1oUNlUlxkF4"
      },
      "source": [
        "**Observations**: \n",
        "* The number of infected cases increases for a certain time period, and then eventually decreases given that individuals recover/decease from the disease\n",
        "* The susceptible fraction of population decreases as the virus is transmited, to eventually drop to the absorbent state 0\n",
        "* The oposite happens for the recovered/deceased case\n",
        "\n",
        "Notice that different initial conditions and parameter values will lead to other scenarios, feel free to play with these numbers to study the system."
      ]
    },
    {
      "cell_type": "markdown",
      "metadata": {
        "id": "pqai8J8_xkF4"
      },
      "source": [
        "## 2.2. Fit SIR parameters to real data <a id=\"section22\"></a>\n",
        "\n",
        "The SIR model is purely theoretical, and we are interested into a real approximation of the COVID-19 expansion in order to extract insights and understand the transmission of the virus. Hence, we need to extract the $\\beta$ and $\\gamma$ paramaters for each case if we hope to be able to predict the evolution of the system."
      ]
    },
    {
      "cell_type": "code",
      "execution_count": null,
      "metadata": {
        "id": "JdPeKYQXxkF4",
        "outputId": "785be474-c656-4d1f-986a-c0da49616460",
        "colab": {
          "base_uri": "https://localhost:8080/",
          "height": 312
        }
      },
      "outputs": [
        {
          "output_type": "display_data",
          "data": {
            "text/plain": [
              "<Figure size 432x288 with 1 Axes>"
            ],
            "image/png": "[encoded data removed]"
          },
          "metadata": {
            "needs_background": "light"
          }
        },
        {
          "output_type": "stream",
          "name": "stdout",
          "text": [
            "Optimal parameters: beta = 0.009175795656106472  and gamma =  0.0033098926678261933\n"
          ]
        }
      ],
      "source": [
        "population = float(12801989)\n",
        "cases = data['Cum_cases']\n",
        "data['day_count'] = list(range(1,len(data)+1))\n",
        "\n",
        "\n",
        "ydata = [i for i in data.Cum_cases]\n",
        "xdata = data.day_count\n",
        "ydata = np.array(ydata, dtype=float)\n",
        "xdata = np.array(xdata, dtype=float)\n",
        "\n",
        "N = population\n",
        "inf0 = ydata[0]\n",
        "sus0 = N - inf0\n",
        "rec0 = 0.0\n",
        "\n",
        "def sir_model(y, x, beta, gamma):\n",
        "    sus = -beta * y[0] * y[1] / N\n",
        "    rec = gamma * y[1]\n",
        "    inf = -(sus + rec)\n",
        "    return sus, inf, rec\n",
        "\n",
        "def fit_odeint(x, beta, gamma):\n",
        "    return integrate.odeint(sir_model, (sus0, inf0, rec0), x, args=(beta, gamma))[:,1]\n",
        "\n",
        "popt, pcov = optimize.curve_fit(fit_odeint, xdata, ydata)\n",
        "fitted = fit_odeint(xdata, *popt)\n",
        "\n",
        "plt.plot(xdata, ydata, 'o')\n",
        "plt.plot(xdata, fitted)\n",
        "plt.title(\"Fit of SIR model for PA infected cases\")\n",
        "plt.ylabel(\"Population infected\")\n",
        "plt.xlabel(\"Days\")\n",
        "plt.show()\n",
        "print(\"Optimal parameters: beta =\", popt[0], \" and gamma = \", popt[1])"
      ]
    },
    {
      "cell_type": "code",
      "source": [
        "population = float(12801989)\n",
        "cases = data2['Cum_deaths']\n",
        "data2['day_count'] = list(range(1,len(data2)+1))\n",
        "\n",
        "\n",
        "ydata = [i for i in data2.Cum_deaths]\n",
        "xdata = data2.day_count\n",
        "ydata = np.array(ydata, dtype=float)\n",
        "xdata = np.array(xdata, dtype=float)\n",
        "\n",
        "N = population\n",
        "inf0 = ydata[0]\n",
        "sus0 = N - inf0\n",
        "rec0 = 0.0\n",
        "\n",
        "def sir_model(y, x, beta, gamma):\n",
        "    sus = -beta * y[0] * y[1] / N\n",
        "    rec = gamma * y[1]\n",
        "    inf = -(sus + rec)\n",
        "    return sus, inf, rec\n",
        "\n",
        "def fit_odeint(x, beta, gamma):\n",
        "    return integrate.odeint(sir_model, (sus0, inf0, rec0), x, args=(beta, gamma))[:,1]\n",
        "\n",
        "popt, pcov = optimize.curve_fit(fit_odeint, xdata, ydata)\n",
        "fitted = fit_odeint(xdata, *popt)\n",
        "\n",
        "plt.plot(xdata, ydata, 'o')\n",
        "plt.plot(xdata, fitted)\n",
        "plt.title(\"Fit of SIR model for PA deaths\")\n",
        "plt.ylabel(\"Population infected\")\n",
        "plt.xlabel(\"Days\")\n",
        "plt.show()\n",
        "print(\"Optimal parameters: beta =\", popt[0], \" and gamma = \", popt[1])"
      ],
      "metadata": {
        "colab": {
          "base_uri": "https://localhost:8080/",
          "height": 312
        },
        "id": "WDK01zF95grr",
        "outputId": "9494e5cd-87b5-4725-e41b-90f32337fd6d"
      },
      "execution_count": null,
      "outputs": [
        {
          "output_type": "display_data",
          "data": {
            "text/plain": [
              "<Figure size 432x288 with 1 Axes>"
            ],
            "image/png": "[encoded data removed]"
          },
          "metadata": {
            "needs_background": "light"
          }
        },
        {
          "output_type": "stream",
          "name": "stdout",
          "text": [
            "Optimal parameters: beta = 0.010225140368737503  and gamma =  0.009086012458743705\n"
          ]
        }
      ]
    },
    {
      "cell_type": "code",
      "source": [
        "data3.info()"
      ],
      "metadata": {
        "id": "8THLwXhd2Lja"
      },
      "execution_count": null,
      "outputs": []
    },
    {
      "cell_type": "code",
      "source": [
        "data3.columns[data3.isna().any()].tolist()"
      ],
      "metadata": {
        "id": "vHNkl04JYodK"
      },
      "execution_count": null,
      "outputs": []
    },
    {
      "cell_type": "code",
      "source": [
        "data3 = data2.copy()\n",
        "drop_cols = ['Administered_Dose1_Recip','Administered_Dose1_Pop_Pct','Population (2019)']\n",
        "data3 = data3.drop(drop_cols, axis = 1)"
      ],
      "metadata": {
        "id": "InVr7ybXZjdP"
      },
      "execution_count": null,
      "outputs": []
    },
    {
      "cell_type": "code",
      "source": [
        "data3['Cum_cases'] = data3['Cum_cases'].fillna(0)\n",
        "data3['New Case Rate'] = data3['New Case Rate'].fillna(0)\n",
        "data3['7-Day Average New Case Rate'] = data3['7-Day Average New Case Rate'].fillna(0)\n",
        "data3['Cumulative Case Rate'] = data3['Cumulative Case Rate'].fillna(0)\n",
        "data3['New Cases'] = data3['New Cases'].fillna(0)\n",
        "data3['7-day Average New Cases'] = data3['7-day Average New Cases'].fillna(0)"
      ],
      "metadata": {
        "id": "moVaQ2g0cLqf"
      },
      "execution_count": null,
      "outputs": []
    },
    {
      "cell_type": "code",
      "source": [
        "data3[\"Id\"] = data3.index + 1"
      ],
      "metadata": {
        "id": "o1-Saq-Qh_U2"
      },
      "execution_count": null,
      "outputs": []
    },
    {
      "cell_type": "code",
      "source": [
        "data3 = data3.dropna()"
      ],
      "metadata": {
        "id": "wnZOO_a0tVZ_"
      },
      "execution_count": null,
      "outputs": []
    },
    {
      "cell_type": "code",
      "source": [
        "data3.info()"
      ],
      "metadata": {
        "colab": {
          "base_uri": "https://localhost:8080/"
        },
        "id": "hZoqQ2b9tbl6",
        "outputId": "c6698d45-cd6a-4fed-c521-54b45d519182"
      },
      "execution_count": null,
      "outputs": [
        {
          "output_type": "stream",
          "name": "stdout",
          "text": [
            "<class 'pandas.core.frame.DataFrame'>\n",
            "Int64Index: 226 entries, 0 to 225\n",
            "Data columns (total 23 columns):\n",
            " #   Column                                              Non-Null Count  Dtype  \n",
            "---  ------                                              --------------  -----  \n",
            " 0   Unnamed: 0                                          226 non-null    int64  \n",
            " 1   Date                                                226 non-null    object \n",
            " 2   New Cases                                           226 non-null    float64\n",
            " 3   7-day Average New Cases                             226 non-null    float64\n",
            " 4   Cum_cases                                           226 non-null    float64\n",
            " 5   New Case Rate                                       226 non-null    float64\n",
            " 6   7-Day Average New Case Rate                         226 non-null    float64\n",
            " 7   Cumulative Case Rate                                226 non-null    float64\n",
            " 8   percent_test_results_reported_positive_last_7_days  226 non-null    float64\n",
            " 9   community_transmission_level                        226 non-null    float64\n",
            " 10  Distributed                                         226 non-null    float64\n",
            " 11  Administered                                        226 non-null    float64\n",
            " 12  Series_Complete_Yes                                 226 non-null    float64\n",
            " 13  Series_Complete_Pop_Pct                             226 non-null    float64\n",
            " 14  Additional_Doses                                    226 non-null    float64\n",
            " 15  Additional_Doses_Vax_Pct                            226 non-null    float64\n",
            " 16  Cum_deaths                                          226 non-null    int64  \n",
            " 17  7-day Average New Deaths                            226 non-null    float64\n",
            " 18  New Deaths Rate                                     226 non-null    float64\n",
            " 19  7-day Average New Death Rate                        226 non-null    float64\n",
            " 20  Total Death Rate                                    226 non-null    float64\n",
            " 21  day_count                                           226 non-null    int64  \n",
            " 22  Id                                                  226 non-null    int64  \n",
            "dtypes: float64(18), int64(4), object(1)\n",
            "memory usage: 42.4+ KB\n"
          ]
        }
      ]
    },
    {
      "cell_type": "markdown",
      "metadata": {
        "id": "sF0NHa2UxkF4"
      },
      "source": [
        "**I'm not happy with the fit of parameters** and I want to work more on this, since I'm not properly reproducing the curves. I'll keep working on this for curiosity, but in the meanwhile I'll develop a data-centric approach to the prediction.\n",
        "\n",
        "> Indented block\n",
        "\n",
        "> Indented block\n",
        "\n",
        "\n",
        "\n"
      ]
    },
    {
      "cell_type": "markdown",
      "source": [
        "# 3. Data enrichment <a id=\"section3\"></a>\n",
        "\n",
        "Analyzing SIR simulations was meant to understand a model that approximately resembles the transmission mechanism of many virus, including the COVID-19. However, there are alternative methods that may prove being equally useful both to predict and to understand the pandemic evolution. Many of these methods rely on having rich data to extract conclusions and allow algorithms to extrapolate patterns in data, and that is exactly what we are going to do. \n",
        "\n",
        "Main workflow of this section:\n",
        "1. Join data, filter dates and clean missings\n",
        "2. Compute lags and trends\n",
        "3. Add country details"
      ],
      "metadata": {
        "id": "OVPOkLl6ys7v"
      }
    },
    {
      "cell_type": "markdown",
      "source": [
        "## 3.1. Join data, filter dates and clean missings <a id=\"section31\"></a>\n",
        "\n",
        "First of all, we perform some pre-processing prepare the dataset, consisting on:\n",
        "\n",
        "* **Join data**. Join train/test to facilitate data transformations\n",
        "* **Filter dates**. According to the challenge conditions, remove ConfirmedCases and Fatalities post 2020-03-12. Create additional date columns\n",
        "* **Missings**. Analyze and fix missing values"
      ],
      "metadata": {
        "id": "0Q5juQXQyz8d"
      }
    },
    {
      "cell_type": "code",
      "source": [
        "# Merge train and test, exclude overlap\n",
        "#dates_overlap = ['2020-04-01', '2020-04-02', '2020-04-03', '2020-04-04', '2020-04-05', '2020-04-06', '2020-04-07', '2020-04-08',\n",
        "                 #'2020-04-09', '2020-04-10', '2020-04-11', '2020-04-12', '2020-04-13', '2020-04-14']\n",
        "#train2 = train.loc[~train['Date'].isin(dates_overlap)]\n",
        "#all_data = pd.concat([train2, test], axis = 0, sort=False)\n",
        "\n",
        "# Double check that there are no informed ConfirmedCases and Fatalities after 2020-03-11\n",
        "#all_data.loc[all_data['Date'] >= '2020-04-01', 'ConfirmedCases'] = 0\n",
        "#all_data.loc[all_data['Date'] >= '2020-04-01', 'Fatalities'] = 0\n",
        "data['Date'] = pd.to_datetime(data['Date'])\n",
        "\n",
        "# Create date columns\n",
        "le = preprocessing.LabelEncoder()\n",
        "data2['Day_num'] = le.fit_transform(data2.Date)\n",
        "data2['Day'] = data2['Date'].dt.day\n",
        "data2['Month'] = data2['Date'].dt.month\n",
        "data2['Year'] = data2['Date'].dt.year\n",
        "\n",
        "#Fill null values given that we merged train-test datasets\n",
        "data2['New_deaths'].fillna(0, inplace=True)\n",
        "\n",
        "display(data2)\n",
        "#display(data2.loc[data['Date'] == '2020-04-01'])"
      ],
      "metadata": {
        "id": "aQzYDSUw0dd7"
      },
      "execution_count": null,
      "outputs": []
    },
    {
      "cell_type": "markdown",
      "source": [
        "**Observations**: \n",
        "* \"ConfirmedCases\" and \"Fatalities\" are now only informed for dates previous to 2020-03-12\n",
        "* The dataset includes all countries and dates, which is required for the lag/trend step\n",
        "* Missing values for \"ConfirmedCases\" and \"Fatalities\" have been replaced by 0, which may be dangerous if we do not remember it at the end of the process. However, since we will train only on dates previous to 2020-03-12, this won't impact our prediction algorithm\n",
        "* A new column \"Day\" has been created, as a day counter starting from the first date\n",
        "\n",
        "Double-check that there are no remaining missing values:"
      ],
      "metadata": {
        "id": "RK5ZjVd_0lKl"
      }
    },
    {
      "cell_type": "code",
      "source": [
        "missings_count = {col:data3[col].isnull().sum() for col in data3.columns}\n",
        "missings = pd.DataFrame.from_dict(missings_count, orient='index')\n",
        "print(missings.nlargest(30, 0))"
      ],
      "metadata": {
        "colab": {
          "base_uri": "https://localhost:8080/"
        },
        "id": "qGzBv0ID0mNp",
        "outputId": "642f5be5-dc7c-4c13-c302-0648e41612db"
      },
      "execution_count": null,
      "outputs": [
        {
          "output_type": "stream",
          "name": "stdout",
          "text": [
            "                                                    0\n",
            "Unnamed: 0                                          0\n",
            "Series_Complete_Yes                                 0\n",
            "day_count                                           0\n",
            "Total Death Rate                                    0\n",
            "7-day Average New Death Rate                        0\n",
            "New Deaths Rate                                     0\n",
            "7-day Average New Deaths                            0\n",
            "Cum_deaths                                          0\n",
            "Additional_Doses_Vax_Pct                            0\n",
            "Additional_Doses                                    0\n",
            "Series_Complete_Pop_Pct                             0\n",
            "Administered                                        0\n",
            "Date                                                0\n",
            "Distributed                                         0\n",
            "community_transmission_level                        0\n",
            "percent_test_results_reported_positive_last_7_days  0\n",
            "Cumulative Case Rate                                0\n",
            "7-Day Average New Case Rate                         0\n",
            "New Case Rate                                       0\n",
            "Cum_cases                                           0\n",
            "7-day Average New Cases                             0\n",
            "New Cases                                           0\n",
            "Id                                                  0\n"
          ]
        }
      ]
    },
    {
      "cell_type": "code",
      "source": [
        "data3['Cum_cases'].fillna(0, inplace=True)"
      ],
      "metadata": {
        "id": "7cmyjQ-9Us4k"
      },
      "execution_count": null,
      "outputs": []
    },
    {
      "cell_type": "markdown",
      "metadata": {
        "id": "ZMCyNOiUxkF5"
      },
      "source": [
        "## 3.2. Compute lags and trends <a id=\"section32\"></a>\n",
        "\n",
        "Enriching a dataset is key to obtain good results. In this case we will apply 2 different transformations:\n",
        "\n",
        "**Lag**. Lags are a way to compute the previous value of a column, so that the lag 1 for ConfirmedCases would inform the this column from the previous day. The lag 3 of a feature X is simply:\n",
        "$$X_{lag3}(t) = X(t-3)$$\n",
        "\n",
        "\n",
        "**Trend**. Transformig a column into its trend gives the natural tendency of this column, which is different from the raw value. The definition of trend I will apply is: \n",
        "$$Trend_{X} = {X(t) - X(t-1) \\over X(t-1)}$$\n",
        "\n",
        "The backlog of lags I'll apply is 14 days, while for trends is 7 days.  For ConfirmedCases and Fatalities:"
      ]
    },
    {
      "cell_type": "code",
      "execution_count": null,
      "metadata": {
        "id": "mkHAXyeaxkF5",
        "outputId": "fee750c2-f838-4201-985e-e53d1d70a674",
        "colab": {
          "base_uri": "https://localhost:8080/"
        }
      },
      "outputs": [
        {
          "output_type": "stream",
          "name": "stdout",
          "text": [
            "Time spent:  0.022472381591796875\n"
          ]
        }
      ],
      "source": [
        "def calculate_lag(df, lag_list, column):\n",
        "    for lag in lag_list:\n",
        "        column_lag = column + \"_\" + str(lag)\n",
        "        df[column_lag] = df[column].shift(lag, fill_value=0)\n",
        "    return df\n",
        "\n",
        "def calculate_trend(df, lag_list, column):\n",
        "    for lag in lag_list:\n",
        "        trend_column_lag = \"Trend_\" + column + \"_\" + str(lag)\n",
        "        df[trend_column_lag] = (df[column].shift(0, fill_value=0) - \n",
        "                                df[column].shift(lag, fill_value=0))/df[column].shift(lag, fill_value=0.001)\n",
        "    return df\n",
        "\n",
        "\n",
        "ts = time.time()\n",
        "data3 = calculate_lag(data3.reset_index(), range(1,7), 'Cum_cases')\n",
        "data3 = calculate_lag(data3, range(1,7), 'Cum_deaths')\n",
        "data3 = calculate_trend(data3, range(1,7), 'Cum_cases')\n",
        "data3 = calculate_trend(data3, range(1,7), 'Cum_deaths')\n",
        "data3.replace([np.inf, -np.inf], 0, inplace=True)\n",
        "data3.fillna(0, inplace=True)\n",
        "print(\"Time spent: \", time.time()-ts)"
      ]
    },
    {
      "cell_type": "markdown",
      "metadata": {
        "id": "HWMWyGG_xkF6"
      },
      "source": [
        "As you see, the process is really fast. An example of some of the lag/trend columns for Spain:"
      ]
    },
    {
      "cell_type": "markdown",
      "metadata": {
        "id": "AhFlOypuxkF6"
      },
      "source": [
        "# 4. Predictions for the early stages of the transmission <a id=\"section4\"></a>\n",
        "\n",
        "Our obective in this section consists on  predicting the evolution of the expansion from a data-centric perspective, like any other regression problem. To do so, remember that the challenge specifies that submissions on the public LB shouldn only contain data previous to 2020-03-26.\n",
        "\n",
        "Models to apply:\n",
        "1. Linear Regression for one country\n",
        "2. Linear Regression for all countries (method 1)\n",
        "3. Linear Regression for all countries (method 2)"
      ]
    },
    {
      "cell_type": "markdown",
      "metadata": {
        "id": "D0ww7zB0xkF6"
      },
      "source": [
        "## 4.1. Linear Regression for one country <a id=\"section41\"></a>\n",
        "\n",
        "Since we are interested into predicting the future time evolution of the pandemic, our first approach consists on a simple Linear Regression. However, remind that **the evolution is** not linear but **exponential** (only in the beginning of the infection), so that a preliminar log transformation is needed. \n",
        "\n",
        "Visual comparison of both cases for Spain and with data from last 10 days informed, starting on March 1st:"
      ]
    },
    {
      "cell_type": "code",
      "execution_count": null,
      "metadata": {
        "id": "13e1HbGNxkF7",
        "colab": {
          "base_uri": "https://localhost:8080/",
          "height": 421
        },
        "outputId": "7f74b4de-01b1-47e8-e285-59f1925ca1ce"
      },
      "outputs": [
        {
          "output_type": "execute_result",
          "data": {
            "text/plain": [
              "Text(0, 0.5, 'Deaths')"
            ]
          },
          "metadata": {},
          "execution_count": 32
        },
        {
          "output_type": "display_data",
          "data": {
            "text/plain": [
              "<Figure size 1080x432 with 2 Axes>"
            ],
            "image/png": "[encoded data removed]"
          },
          "metadata": {
            "needs_background": "light"
          }
        }
      ],
      "source": [
        "fig, (ax1, ax2) = plt.subplots(1, 2, figsize=(15,6))\n",
        "\n",
        "# Day_num = 38 is March 1st\n",
        "y1 = data2['Cum_cases']\n",
        "x1 = range(0, len(y1))\n",
        "ax1.plot(x1, y1, 'bo--')\n",
        "ax1.set_title(\"PA Confirmed Cases\")\n",
        "ax1.set_xlabel(\"Days\")\n",
        "ax1.set_ylabel(\"Cases\")\n",
        "\n",
        "y2 = data2['Cum_deaths']\n",
        "x2 = range(0, len(y2))\n",
        "ax2.plot(x2, y2, 'bo--')\n",
        "ax2.set_title(\"PA Confirmed Deaths\")\n",
        "ax2.set_xlabel(\"Days\")\n",
        "ax2.set_ylabel(\"Deaths\")"
      ]
    },
    {
      "cell_type": "markdown",
      "metadata": {
        "id": "tddsHU71xkF8"
      },
      "source": [
        "As you see, the log transformation results in a fancy straight-like line, which is awesome for Linear Regression. However, let me clarify two important points:\n",
        "\n",
        "* This \"roughly **exponential behavior**\" **is only true for the initial infection stages of the pandemic** (the initial increasing of infections on the SIR model), but that's exactly the point where most countries are at the moment.\n",
        "\n",
        "* Why do I only extract the last 10 days of data? For three reasons:\n",
        "    1. In order to capture exactly the very short term component of the evolution\n",
        "    2. To prevent the effects of certain variables that have been impacting the transmition speed (quarantine vs free circulation)\n",
        "    3. To prevent differences on criteria when confirming cases (remember that weird slope on the China plot?)"
      ]
    },
    {
      "cell_type": "markdown",
      "metadata": {
        "id": "dF8ebjNrxkF8"
      },
      "source": [
        "This first model is very simple, and only elemental features will be considered: Country/Region, date information, Long and Lat. Lags. Engineered columns like lags, trends and country details are not introduced as an input. Finally, the workflow for the Basic Linear Regression model is:\n",
        "1. **Features**. Select features\n",
        "2. **Dates**. Filter train data from 2020-03-01 to 2020-03-18\n",
        "2. **Log transformation**. Apply log transformation to ConfirmedCases and Fatalities\n",
        "3. **Infinites**. Replace infinites from the logarithm with 0. Given the asymptotic behavior of the logarithm for log(0),this implies that when applying the inverse transformation (exponential) a 1 will be returned instead of a 0. This problem does not impact many countries, but still needs to be tackled sooner or later in order to obtain a clean solution.\n",
        "4. **Train/test split**. Split into train/valid/test\n",
        "5. **Prediction**. Linear Regression, training country by country and joining data\n",
        "6. **Submit**. Submit results in the correct format, and applying exponential to reverse log transformation "
      ]
    },
    {
      "cell_type": "code",
      "source": [
        "#import train data for real\n",
        "url4 = \"/content/train.csv\"\n",
        "train_real = pd.read_csv(url4)"
      ],
      "metadata": {
        "id": "uRkinIXWpnsi"
      },
      "execution_count": null,
      "outputs": []
    },
    {
      "cell_type": "code",
      "execution_count": null,
      "metadata": {
        "id": "IJ6eF19jxkF9"
      },
      "outputs": [],
      "source": [
        "# Filter selected features\n",
        "data = data3.copy()\n",
        "features = ['Id', 'New Cases', 'Cum_cases', 'Cum_deaths', \n",
        "       'day_count']\n",
        "data = data[features]\n",
        "\n",
        "# Apply log transformation to all ConfirmedCases and Fatalities columns, except for trends\n",
        "data[['Cum_cases', 'Cum_deaths']] = data[['Cum_cases', 'Cum_deaths']].astype('float64')\n",
        "data[['Cum_cases', 'Cum_deaths']] = data[['Cum_cases', 'Cum_deaths']].apply(lambda x: np.log1p(x))\n",
        "\n",
        "# Replace infinites\n",
        "data.replace([np.inf, -np.inf], 0, inplace=True)\n",
        "\n",
        "# Split data into train/test\n",
        "def split_data(df, train_lim, test_lim):\n",
        "    \n",
        "    df.loc[df['day_count']<=train_lim]\n",
        "    df = df[df['day_count']<=test_lim]\n",
        "    \n",
        "    # Train set\n",
        "    x_train = df.drop(['Cum_cases', 'Cum_deaths'], axis=1)\n",
        "    y_train_1 = df['Cum_cases']\n",
        "    y_train_2 = df['Cum_deaths']\n",
        "\n",
        "    # Test set\n",
        "    x_test = df.drop(['Cum_cases', 'Cum_deaths'], axis=1)\n",
        "\n",
        "    # Clean Id columns and keep ForecastId as index\n",
        "    x_train.drop('Id', inplace=True, errors='ignore', axis=1)\n",
        "    #x_train.drop('ForecastId', inplace=True, errors='ignore', axis=1)\n",
        "    x_test.drop('Id', inplace=True, errors='ignore', axis=1)\n",
        "    #x_test.drop('ForecastId', inplace=True, errors='ignore', axis=1)\n",
        "    \n",
        "    return x_train, y_train_1, y_train_2, x_test\n",
        "\n",
        "\n",
        "# Linear regression model\n",
        "def lin_reg(X_train, Y_train, X_test):\n",
        "    # Create linear regression object\n",
        "    regr = linear_model.LinearRegression()\n",
        "\n",
        "    # Train the model using the training sets\n",
        "    regr.fit(X_train, Y_train)\n",
        "\n",
        "    # Make predictions using the testing set\n",
        "    y_pred = regr.predict(X_test)\n",
        "    \n",
        "    return regr, y_pred\n",
        "\n",
        "\n",
        "# Submission function\n",
        "def get_submission(df, target1, target2):\n",
        "    \n",
        "    prediction_1 = df[target1]\n",
        "    prediction_2 = df[target2]\n",
        "\n",
        "    # Submit predictions\n",
        "    prediction_1 = [int(item) for item in list(map(round, prediction_1))]\n",
        "    prediction_2 = [int(item) for item in list(map(round, prediction_2))]\n",
        "    \n",
        "    submission = pd.DataFrame({\n",
        "        \"Id\": df['Id'].astype('int32'), \n",
        "        \"Cum_cases\": prediction_1, \n",
        "        \"Cum_deaths\": prediction_2\n",
        "    })\n",
        "    submission.to_csv('submission.csv', index=False)"
      ]
    },
    {
      "cell_type": "markdown",
      "metadata": {
        "id": "QVcC32iPxkF9"
      },
      "source": [
        "Let's try to see results when training with a single country:\n",
        "\n",
        "* **Spain**"
      ]
    },
    {
      "cell_type": "code",
      "source": [
        "data3.head(3)"
      ],
      "metadata": {
        "colab": {
          "base_uri": "https://localhost:8080/",
          "height": 358
        },
        "id": "ceJQsDwPjozD",
        "outputId": "7c0b47bf-d04e-4b78-9192-a766a737de4f"
      },
      "execution_count": null,
      "outputs": [
        {
          "output_type": "execute_result",
          "data": {
            "text/plain": [
              "   index  Unnamed: 0        Date  New Cases  7-day Average New Cases  \\\n",
              "0      0           0  2021-08-23     3085.0                   2657.6   \n",
              "1      1           1  2021-08-24     3692.0                   2865.8   \n",
              "2      2           2  2021-08-25     3248.0                   2764.2   \n",
              "\n",
              "   Cum_cases  New Case Rate  7-Day Average New Case Rate  \\\n",
              "0  1288443.0         1691.8                       1335.8   \n",
              "1  1292135.0         1913.3                       1446.7   \n",
              "2  1295383.0         1650.1                       1411.5   \n",
              "\n",
              "   Cumulative Case Rate  Cum_deaths  ...  Trend_Cum_cases_3  \\\n",
              "0              673516.5          60  ...       1.288443e+09   \n",
              "1              675430.6          52  ...       1.292135e+09   \n",
              "2              677080.4          44  ...       1.295383e+09   \n",
              "\n",
              "   Trend_Cum_cases_4  Trend_Cum_cases_5  Trend_Cum_cases_6  \\\n",
              "0       1.288443e+09       1.288443e+09       1.288443e+09   \n",
              "1       1.292135e+09       1.292135e+09       1.292135e+09   \n",
              "2       1.295383e+09       1.295383e+09       1.295383e+09   \n",
              "\n",
              "   Trend_Cum_deaths_1  Trend_Cum_deaths_2  Trend_Cum_deaths_3  \\\n",
              "0        60000.000000        60000.000000             60000.0   \n",
              "1           -0.133333        52000.000000             52000.0   \n",
              "2           -0.153846           -0.266667             44000.0   \n",
              "\n",
              "   Trend_Cum_deaths_4  Trend_Cum_deaths_5  Trend_Cum_deaths_6  \n",
              "0             60000.0             60000.0             60000.0  \n",
              "1             52000.0             52000.0             52000.0  \n",
              "2             44000.0             44000.0             44000.0  \n",
              "\n",
              "[3 rows x 40 columns]"
            ],
            "text/html": [
              "\n",
              "  <div id=\"df-49ef7164-fc78-41fb-9479-692846b3c047\">\n",
              "    <div class=\"colab-df-container\">\n",
              "      <div>\n",
              "<style scoped>\n",
              "    .dataframe tbody tr th:only-of-type {\n",
              "        vertical-align: middle;\n",
              "    }\n",
              "\n",
              "    .dataframe tbody tr th {\n",
              "        vertical-align: top;\n",
              "    }\n",
              "\n",
              "    .dataframe thead th {\n",
              "        text-align: right;\n",
              "    }\n",
              "</style>\n",
              "<table border=\"1\" class=\"dataframe\">\n",
              "  <thead>\n",
              "    <tr style=\"text-align: right;\">\n",
              "      <th></th>\n",
              "      <th>index</th>\n",
              "      <th>Unnamed: 0</th>\n",
              "      <th>Date</th>\n",
              "      <th>New Cases</th>\n",
              "      <th>7-day Average New Cases</th>\n",
              "      <th>Cum_cases</th>\n",
              "      <th>New Case Rate</th>\n",
              "      <th>7-Day Average New Case Rate</th>\n",
              "      <th>Cumulative Case Rate</th>\n",
              "      <th>Cum_deaths</th>\n",
              "      <th>...</th>\n",
              "      <th>Trend_Cum_cases_3</th>\n",
              "      <th>Trend_Cum_cases_4</th>\n",
              "      <th>Trend_Cum_cases_5</th>\n",
              "      <th>Trend_Cum_cases_6</th>\n",
              "      <th>Trend_Cum_deaths_1</th>\n",
              "      <th>Trend_Cum_deaths_2</th>\n",
              "      <th>Trend_Cum_deaths_3</th>\n",
              "      <th>Trend_Cum_deaths_4</th>\n",
              "      <th>Trend_Cum_deaths_5</th>\n",
              "      <th>Trend_Cum_deaths_6</th>\n",
              "    </tr>\n",
              "  </thead>\n",
              "  <tbody>\n",
              "    <tr>\n",
              "      <th>0</th>\n",
              "      <td>0</td>\n",
              "      <td>0</td>\n",
              "      <td>2021-08-23</td>\n",
              "      <td>3085.0</td>\n",
              "      <td>2657.6</td>\n",
              "      <td>1288443.0</td>\n",
              "      <td>1691.8</td>\n",
              "      <td>1335.8</td>\n",
              "      <td>673516.5</td>\n",
              "      <td>60</td>\n",
              "      <td>...</td>\n",
              "      <td>1.288443e+09</td>\n",
              "      <td>1.288443e+09</td>\n",
              "      <td>1.288443e+09</td>\n",
              "      <td>1.288443e+09</td>\n",
              "      <td>60000.000000</td>\n",
              "      <td>60000.000000</td>\n",
              "      <td>60000.0</td>\n",
              "      <td>60000.0</td>\n",
              "      <td>60000.0</td>\n",
              "      <td>60000.0</td>\n",
              "    </tr>\n",
              "    <tr>\n",
              "      <th>1</th>\n",
              "      <td>1</td>\n",
              "      <td>1</td>\n",
              "      <td>2021-08-24</td>\n",
              "      <td>3692.0</td>\n",
              "      <td>2865.8</td>\n",
              "      <td>1292135.0</td>\n",
              "      <td>1913.3</td>\n",
              "      <td>1446.7</td>\n",
              "      <td>675430.6</td>\n",
              "      <td>52</td>\n",
              "      <td>...</td>\n",
              "      <td>1.292135e+09</td>\n",
              "      <td>1.292135e+09</td>\n",
              "      <td>1.292135e+09</td>\n",
              "      <td>1.292135e+09</td>\n",
              "      <td>-0.133333</td>\n",
              "      <td>52000.000000</td>\n",
              "      <td>52000.0</td>\n",
              "      <td>52000.0</td>\n",
              "      <td>52000.0</td>\n",
              "      <td>52000.0</td>\n",
              "    </tr>\n",
              "    <tr>\n",
              "      <th>2</th>\n",
              "      <td>2</td>\n",
              "      <td>2</td>\n",
              "      <td>2021-08-25</td>\n",
              "      <td>3248.0</td>\n",
              "      <td>2764.2</td>\n",
              "      <td>1295383.0</td>\n",
              "      <td>1650.1</td>\n",
              "      <td>1411.5</td>\n",
              "      <td>677080.4</td>\n",
              "      <td>44</td>\n",
              "      <td>...</td>\n",
              "      <td>1.295383e+09</td>\n",
              "      <td>1.295383e+09</td>\n",
              "      <td>1.295383e+09</td>\n",
              "      <td>1.295383e+09</td>\n",
              "      <td>-0.153846</td>\n",
              "      <td>-0.266667</td>\n",
              "      <td>44000.0</td>\n",
              "      <td>44000.0</td>\n",
              "      <td>44000.0</td>\n",
              "      <td>44000.0</td>\n",
              "    </tr>\n",
              "  </tbody>\n",
              "</table>\n",
              "<p>3 rows × 40 columns</p>\n",
              "</div>\n",
              "      <button class=\"colab-df-convert\" onclick=\"convertToInteractive('df-49ef7164-fc78-41fb-9479-692846b3c047')\"\n",
              "              title=\"Convert this dataframe to an interactive table.\"\n",
              "              style=\"display:none;\">\n",
              "        \n",
              "  <svg xmlns=\"http://www.w3.org/2000/svg\" height=\"24px\"viewBox=\"0 0 24 24\"\n",
              "       width=\"24px\">\n",
              "    <path d=\"M0 0h24v24H0V0z\" fill=\"none\"/>\n",
              "    <path d=\"M18.56 5.44l.94 2.06.94-2.06 2.06-.94-2.06-.94-.94-2.06-.94 2.06-2.06.94zm-11 1L8.5 8.5l.94-2.06 2.06-.94-2.06-.94L8.5 2.5l-.94 2.06-2.06.94zm10 10l.94 2.06.94-2.06 2.06-.94-2.06-.94-.94-2.06-.94 2.06-2.06.94z\"/><path d=\"M17.41 7.96l-1.37-1.37c-.4-.4-.92-.59-1.43-.59-.52 0-1.04.2-1.43.59L10.3 9.45l-7.72 7.72c-.78.78-.78 2.05 0 2.83L4 21.41c.39.39.9.59 1.41.59.51 0 1.02-.2 1.41-.59l7.78-7.78 2.81-2.81c.8-.78.8-2.07 0-2.86zM5.41 20L4 18.59l7.72-7.72 1.47 1.35L5.41 20z\"/>\n",
              "  </svg>\n",
              "      </button>\n",
              "      \n",
              "  <style>\n",
              "    .colab-df-container {\n",
              "      display:flex;\n",
              "      flex-wrap:wrap;\n",
              "      gap: 12px;\n",
              "    }\n",
              "\n",
              "    .colab-df-convert {\n",
              "      background-color: #E8F0FE;\n",
              "      border: none;\n",
              "      border-radius: 50%;\n",
              "      cursor: pointer;\n",
              "      display: none;\n",
              "      fill: #1967D2;\n",
              "      height: 32px;\n",
              "      padding: 0 0 0 0;\n",
              "      width: 32px;\n",
              "    }\n",
              "\n",
              "    .colab-df-convert:hover {\n",
              "      background-color: #E2EBFA;\n",
              "      box-shadow: 0px 1px 2px rgba(60, 64, 67, 0.3), 0px 1px 3px 1px rgba(60, 64, 67, 0.15);\n",
              "      fill: #174EA6;\n",
              "    }\n",
              "\n",
              "    [theme=dark] .colab-df-convert {\n",
              "      background-color: #3B4455;\n",
              "      fill: #D2E3FC;\n",
              "    }\n",
              "\n",
              "    [theme=dark] .colab-df-convert:hover {\n",
              "      background-color: #434B5C;\n",
              "      box-shadow: 0px 1px 3px 1px rgba(0, 0, 0, 0.15);\n",
              "      filter: drop-shadow(0px 1px 2px rgba(0, 0, 0, 0.3));\n",
              "      fill: #FFFFFF;\n",
              "    }\n",
              "  </style>\n",
              "\n",
              "      <script>\n",
              "        const buttonEl =\n",
              "          document.querySelector('#df-49ef7164-fc78-41fb-9479-692846b3c047 button.colab-df-convert');\n",
              "        buttonEl.style.display =\n",
              "          google.colab.kernel.accessAllowed ? 'block' : 'none';\n",
              "\n",
              "        async function convertToInteractive(key) {\n",
              "          const element = document.querySelector('#df-49ef7164-fc78-41fb-9479-692846b3c047');\n",
              "          const dataTable =\n",
              "            await google.colab.kernel.invokeFunction('convertToInteractive',\n",
              "                                                     [key], {});\n",
              "          if (!dataTable) return;\n",
              "\n",
              "          const docLinkHtml = 'Like what you see? Visit the ' +\n",
              "            '<a target=\"_blank\" href=https://colab.research.google.com/notebooks/data_table.ipynb>data table notebook</a>'\n",
              "            + ' to learn more about interactive tables.';\n",
              "          element.innerHTML = '';\n",
              "          dataTable['output_type'] = 'display_data';\n",
              "          await google.colab.output.renderOutput(dataTable, element);\n",
              "          const docLink = document.createElement('div');\n",
              "          docLink.innerHTML = docLinkHtml;\n",
              "          element.appendChild(docLink);\n",
              "        }\n",
              "      </script>\n",
              "    </div>\n",
              "  </div>\n",
              "  "
            ]
          },
          "metadata": {},
          "execution_count": 45
        }
      ]
    },
    {
      "cell_type": "code",
      "execution_count": null,
      "metadata": {
        "id": "QnmEYzqTxkF9"
      },
      "outputs": [],
      "source": [
        "# Select train (real) data from March 1 to last day updated\n",
        "dates_list = ['2020-03-01', '2020-03-02', '2020-03-03', '2020-03-04', '2020-03-05', '2020-03-06', '2020-03-07', '2020-03-08', '2020-03-09', \n",
        "                 '2020-03-10', '2020-03-11','2020-03-12','2020-03-13','2020-03-14','2020-03-15','2020-03-16','2020-03-17','2020-03-18',\n",
        "                 '2020-03-19','2020-03-20','2020-03-21','2020-03-22','2020-03-23', '2020-03-24', '2020-03-25', '2020-03-26', '2020-03-27', \n",
        "                 '2020-03-28', '2020-03-29', '2020-03-30', '2020-03-31', '2020-04-01', '2020-04-02', '2020-04-03', '2020-04-04', '2020-04-05', \n",
        "                 '2020-04-06', '2020-04-07', '2020-04-08', '2020-04-09', '2020-04-10', '2020-04-11', '2020-04-12', '2020-04-13', '2020-04-14']"
      ]
    },
    {
      "cell_type": "code",
      "execution_count": null,
      "metadata": {
        "id": "sx7949J-xkF9"
      },
      "outputs": [],
      "source": [
        "def plot_linreg_basic_country(data, country_name, dates_list, day_start, shift, train_lim, test_lim):\n",
        "    \n",
        "    data = data.loc[data['day_count']>=day_start]\n",
        "    X_train, Y_train_1, Y_train_2, X_test = split_data(data, train_lim, test_lim)\n",
        "    model, pred = lin_reg(X_train, Y_train_1, X_test)\n",
        "\n",
        "    # Create a df with both real cases and predictions (predictions starting on March 12th)\n",
        "    X_train_check = X_train.copy()\n",
        "    X_train_check['Target'] = Y_train_1\n",
        "\n",
        "    X_test_check = X_test.copy()\n",
        "    X_test_check['Target'] = pred\n",
        "\n",
        "    X_final_check = pd.concat([X_train_check, X_test_check])\n",
        "\n",
        "    # Select predictions from March 1st to March 25th\n",
        "    predicted_data = X_final_check.loc[(X_final_check['day_count'].isin(list(range(day_start, day_start+len(dates_list)))))].Target\n",
        "    real_data = train_real.loc[(train_real['Country_Region']==country_name) & (train_real['Date'].isin(dates_list))]['ConfirmedCases']\n",
        "    dates_list_num = list(range(0,len(dates_list)))\n",
        "\n",
        "    return X_final_check \n",
        "\n",
        "    # Plot results\n",
        "    '''\n",
        "    fig, (ax1, ax2) = plt.subplots(1, 2, figsize=(15,6))\n",
        "\n",
        "    ax1.plot(dates_list_num, np.expm1(predicted_data))\n",
        "    ax1.plot(dates_list_num, real_data)\n",
        "    ax1.axvline(30-shift, linewidth=2, ls = ':', color='grey', alpha=0.5)\n",
        "    ax1.legend(['Predicted cases', 'Actual cases', 'Train-test split'], loc='upper left')\n",
        "    ax1.set_xlabel(\"Day count (from March \" + str(1+shift) + \" to March 25th)\")\n",
        "    ax1.set_ylabel(\"Confirmed Cases\")\n",
        "\n",
        "    ax2.plot(dates_list_num, predicted_data)\n",
        "    ax2.plot(dates_list_num, np.log1p(real_data))\n",
        "    ax2.axvline(30-shift, linewidth=2, ls = ':', color='grey', alpha=0.5)\n",
        "    ax2.legend(['Predicted cases', 'Actual cases', 'Train-test split'], loc='upper left')\n",
        "    ax2.set_xlabel(\"Day count (from March \" + str(1+shift) + \" to March 30th)\")\n",
        "    ax2.set_ylabel(\"Log Confirmed Cases\")\n",
        "\n",
        "    plt.suptitle((\"ConfirmedCases predictions based on Log-Lineal Regression for \"+country_name))\n",
        "    '''\n",
        "    \n",
        "    \n",
        "# Filter Spain, run the Linear Regression workflow\n",
        "country_name = \"US\"\n",
        "march_day = 10\n",
        "day_start = 39+march_day\n",
        "dates_list2 = dates_list[march_day:]\n",
        "train_lim, test_lim = 69, 112\n",
        "test1 = plot_linreg_basic_country(data, country_name, dates_list2, day_start, march_day, train_lim, test_lim)"
      ]
    },
    {
      "cell_type": "markdown",
      "source": [
        "# 5. Multivariable Linear Regression model <a id=\"section4\"></a>"
      ],
      "metadata": {
        "id": "obXTbYNHczVW"
      }
    },
    {
      "cell_type": "code",
      "source": [
        "data = data3.copy()\n",
        "features = ['Id', 'New Cases', 'Cum_cases', 'Cum_deaths', \n",
        "       'day_count']\n",
        "data = data[features]\n",
        "\n",
        "# Apply log transformation to all ConfirmedCases and Fatalities columns, except for trends\n",
        "data[['Cum_cases', 'Cum_deaths']] = data[['Cum_cases', 'Cum_deaths']].astype('float64')\n",
        "data[['Cum_cases', 'Cum_deaths']] = data[['Cum_cases', 'Cum_deaths']].apply(lambda x: np.log1p(x))\n",
        "\n",
        "# Replace infinites\n",
        "data.replace([np.inf, -np.inf], 0, inplace=True)"
      ],
      "metadata": {
        "id": "vzQ9FWUjyje-"
      },
      "execution_count": null,
      "outputs": []
    },
    {
      "cell_type": "code",
      "source": [
        "data_t = data3.copy()\n",
        "\n",
        "sns.distplot(data_t['Cum_cases'], norm_hist = True)\n",
        "fig = plt.figure()"
      ],
      "metadata": {
        "colab": {
          "base_uri": "https://localhost:8080/",
          "height": 308
        },
        "id": "5HQ4l677WPI9",
        "outputId": "85f7350f-16d2-4704-c104-14e446bec73d"
      },
      "execution_count": null,
      "outputs": [
        {
          "output_type": "display_data",
          "data": {
            "text/plain": [
              "<Figure size 432x288 with 1 Axes>"
            ],
            "image/png": "[encoded data removed]"
          },
          "metadata": {
            "needs_background": "light"
          }
        },
        {
          "output_type": "display_data",
          "data": {
            "text/plain": [
              "<Figure size 432x288 with 0 Axes>"
            ]
          },
          "metadata": {}
        }
      ]
    },
    {
      "cell_type": "code",
      "source": [
        "sns.distplot(data_t['Cum_deaths'], norm_hist = True)\n",
        "fig = plt.figure()"
      ],
      "metadata": {
        "colab": {
          "base_uri": "https://localhost:8080/",
          "height": 297
        },
        "id": "C17d3mq8XDJq",
        "outputId": "e5f1c430-e152-4b79-c752-065cecfb4c50"
      },
      "execution_count": null,
      "outputs": [
        {
          "output_type": "display_data",
          "data": {
            "text/plain": [
              "<Figure size 432x288 with 1 Axes>"
            ],
            "image/png": "[encoded data removed]"
          },
          "metadata": {
            "needs_background": "light"
          }
        },
        {
          "output_type": "display_data",
          "data": {
            "text/plain": [
              "<Figure size 432x288 with 0 Axes>"
            ]
          },
          "metadata": {}
        }
      ]
    },
    {
      "cell_type": "code",
      "source": [
        "data_t[['Cum_cases', 'Cum_deaths']] = data_t[['Cum_cases', 'Cum_deaths']].apply(lambda x: np.log1p(x))\n",
        "sns.distplot(data_t['Cum_cases'], norm_hist = True)\n",
        "sns.distplot(data_t['Cum_deaths'], norm_hist = True)\n",
        "fig = plt.figure()"
      ],
      "metadata": {
        "colab": {
          "base_uri": "https://localhost:8080/",
          "height": 298
        },
        "id": "besgeVbcRO69",
        "outputId": "727ccaa3-c433-4d68-dbc3-306c96feac28"
      },
      "execution_count": null,
      "outputs": [
        {
          "output_type": "display_data",
          "data": {
            "text/plain": [
              "<Figure size 432x288 with 1 Axes>"
            ],
            "image/png": "[encoded data removed]"
          },
          "metadata": {
            "needs_background": "light"
          }
        },
        {
          "output_type": "display_data",
          "data": {
            "text/plain": [
              "<Figure size 432x288 with 0 Axes>"
            ]
          },
          "metadata": {}
        }
      ]
    },
    {
      "cell_type": "code",
      "source": [
        "data3_c = data3.loc[(data3['Cum_cases']!=0)]\n",
        "data3_c.info()"
      ],
      "metadata": {
        "colab": {
          "base_uri": "https://localhost:8080/"
        },
        "id": "IStm9T3TowDV",
        "outputId": "f7b2aaf2-9a8e-409a-f89e-3243369dcd4b"
      },
      "execution_count": null,
      "outputs": [
        {
          "output_type": "stream",
          "name": "stdout",
          "text": [
            "<class 'pandas.core.frame.DataFrame'>\n",
            "Int64Index: 226 entries, 0 to 225\n",
            "Data columns (total 23 columns):\n",
            " #   Column                                              Non-Null Count  Dtype  \n",
            "---  ------                                              --------------  -----  \n",
            " 0   Unnamed: 0                                          226 non-null    int64  \n",
            " 1   Date                                                226 non-null    object \n",
            " 2   New Cases                                           226 non-null    float64\n",
            " 3   7-day Average New Cases                             226 non-null    float64\n",
            " 4   Cum_cases                                           226 non-null    float64\n",
            " 5   New Case Rate                                       226 non-null    float64\n",
            " 6   7-Day Average New Case Rate                         226 non-null    float64\n",
            " 7   Cumulative Case Rate                                226 non-null    float64\n",
            " 8   percent_test_results_reported_positive_last_7_days  226 non-null    float64\n",
            " 9   community_transmission_level                        226 non-null    float64\n",
            " 10  Distributed                                         226 non-null    float64\n",
            " 11  Administered                                        226 non-null    float64\n",
            " 12  Series_Complete_Yes                                 226 non-null    float64\n",
            " 13  Series_Complete_Pop_Pct                             226 non-null    float64\n",
            " 14  Additional_Doses                                    226 non-null    float64\n",
            " 15  Additional_Doses_Vax_Pct                            226 non-null    float64\n",
            " 16  Cum_deaths                                          226 non-null    int64  \n",
            " 17  7-day Average New Deaths                            226 non-null    float64\n",
            " 18  New Deaths Rate                                     226 non-null    float64\n",
            " 19  7-day Average New Death Rate                        226 non-null    float64\n",
            " 20  Total Death Rate                                    226 non-null    float64\n",
            " 21  day_count                                           226 non-null    int64  \n",
            " 22  Id                                                  226 non-null    int64  \n",
            "dtypes: float64(18), int64(4), object(1)\n",
            "memory usage: 42.4+ KB\n"
          ]
        }
      ]
    },
    {
      "cell_type": "code",
      "source": [
        "drop_cols = ['Cumulative Case Rate','New Case Rate','7-Day Average New Case Rate', '7-day Average New Cases', 'Cum_deaths', '7-day Average New Deaths', 'New Cases']\n",
        "data3 = data3.drop(drop_cols, axis = 1)"
      ],
      "metadata": {
        "id": "LTdwtYJ564Ws"
      },
      "execution_count": null,
      "outputs": []
    },
    {
      "cell_type": "code",
      "source": [
        "col_list = list(data3)\n",
        "col_list = col_list[2:len(col_list)-2]\n",
        "col_list"
      ],
      "metadata": {
        "id": "Y65eJGfWufTt"
      },
      "execution_count": null,
      "outputs": []
    },
    {
      "cell_type": "markdown",
      "source": [
        "Columns:\n",
        "\n",
        "1. **Distributed** - Total number of distributed doses\n",
        "\n",
        "2. **Administered** - Total number of administered vaccines based on state where administered\n",
        "\n",
        "3. **Series_Complete_Yes** - Total number of people who are fully vaccinated (have second dose of a two-dose vaccine or one dose of a single-dose vaccine) based on the jurisdiction where recipient lives\n",
        "\n",
        "4. **Series_Complete_Pop_Pct** - Percent of people who are fully vaccinated (have second dose of a two-dose vaccine or one dose of a single-dose vaccine) based on the jurisdiction where recipient lives\n",
        "\n",
        "5. **Additional_Doses** - Total number of people who are fully vaccinated and have received a booster (or additional) dose.\n",
        "\n",
        "6. **Additional_Doses_Vax_Pct** - Percent of people who are fully vaccinated and have received a booster (or additional) dose."
      ],
      "metadata": {
        "id": "-7ohfOPUEzAg"
      }
    },
    {
      "cell_type": "code",
      "source": [
        "#find column correlations\n",
        "for i in col_list:\n",
        "  correlation = data3['Cum_cases']. corr(data3[i])\n",
        "  print(i, correlation)"
      ],
      "metadata": {
        "colab": {
          "base_uri": "https://localhost:8080/"
        },
        "id": "3xBe53DSa-Nc",
        "outputId": "aea3dd0b-c881-47c9-c763-9f835ed135ac"
      },
      "execution_count": null,
      "outputs": [
        {
          "output_type": "stream",
          "name": "stdout",
          "text": [
            "Cum_cases 1.0\n",
            "percent_test_results_reported_positive_last_7_days -0.07194950925445984\n",
            "community_transmission_level -0.2659770632028278\n",
            "Distributed 0.9690662279054542\n",
            "Administered 0.9768363302279771\n",
            "Series_Complete_Yes 0.9627127559202826\n",
            "Series_Complete_Pop_Pct 0.9625953589175111\n",
            "Additional_Doses 0.9831236502266456\n",
            "Additional_Doses_Vax_Pct 0.977016455118134\n",
            "New Deaths Rate -0.3085326743116472\n",
            "7-day Average New Death Rate -0.26157515277697574\n",
            "Total Death Rate 0.9862167743941979\n"
          ]
        }
      ]
    },
    {
      "cell_type": "code",
      "source": [
        "#import modules\n",
        "from sklearn.model_selection import train_test_split\n",
        "from sklearn.linear_model import LinearRegression\n",
        "from sklearn import metrics"
      ],
      "metadata": {
        "id": "Aq0rcRBcdUsa"
      },
      "execution_count": null,
      "outputs": []
    },
    {
      "cell_type": "code",
      "source": [
        "# Input dataset\n",
        "X1 = data3[['percent_test_results_reported_positive_last_7_days', 'community_transmission_level', 'Distributed', 'Administered',\n",
        "           'Series_Complete_Yes', 'Series_Complete_Pop_Pct', 'Additional_Doses', 'Additional_Doses_Vax_Pct', 'New Deaths Rate',\n",
        "           '7-day Average New Death Rate', 'Total Death Rate']]\n",
        "print(X1)\n",
        "# Output or Predicted Value of data\n",
        "y1 = data3['Cum_cases']\n",
        "\n",
        "X1_train, X1_test, Y1_train, Y1_test = train_test_split(X1, y1, test_size=0.2, random_state= 42)"
      ],
      "metadata": {
        "id": "OFr3apsPYb3Z"
      },
      "execution_count": null,
      "outputs": []
    },
    {
      "cell_type": "code",
      "source": [
        "# Input dataset\n",
        "X2 = data3[['New Deaths Rate', '7-day Average New Death Rate', 'Total Death Rate']]\n",
        "print(X2)\n",
        "# Output or Predicted Value of data\n",
        "y2 = data3['Cum_cases']\n",
        "\n",
        "X2_train, X2_test, Y2_train, Y2_test = train_test_split(X2, y2, test_size=0.2, random_state= 42)"
      ],
      "metadata": {
        "id": "IPZ8NUnUDqDC"
      },
      "execution_count": null,
      "outputs": []
    },
    {
      "cell_type": "code",
      "source": [
        "y_pred1= LinearRegression()\n",
        "y_pred1.fit(X1_train,Y1_train)\n",
        "\n",
        "y_pred2= LinearRegression()\n",
        "y_pred2.fit(X2_train,Y2_train)"
      ],
      "metadata": {
        "colab": {
          "base_uri": "https://localhost:8080/"
        },
        "id": "oXHH8racb-hB",
        "outputId": "af59b134-b78e-4369-969d-f1f75d179290"
      },
      "execution_count": null,
      "outputs": [
        {
          "output_type": "execute_result",
          "data": {
            "text/plain": [
              "LinearRegression()"
            ]
          },
          "metadata": {},
          "execution_count": 205
        }
      ]
    },
    {
      "cell_type": "code",
      "source": [
        "print('Stats for model 1:')\n",
        "print(\"Intercept value of Model is \" ,y_pred1.intercept_)\n",
        "print(\"Co-efficient Value of Model is : \", y_pred1.coef_)\n",
        "\n",
        "print('Stats for model 2:')\n",
        "print(\"Intercept value of Model is \" ,y_pred2.intercept_)\n",
        "print(\"Co-efficient Value of Model is : \", y_pred2.coef_)"
      ],
      "metadata": {
        "colab": {
          "base_uri": "https://localhost:8080/"
        },
        "id": "xzxOrl5ZdeRP",
        "outputId": "d6f2e9ee-6a54-4999-dd11-a75d858caea2"
      },
      "execution_count": null,
      "outputs": [
        {
          "output_type": "stream",
          "name": "stdout",
          "text": [
            "Stats for model 1:\n",
            "Intercept value of Model is  -243516.8482786375\n",
            "Co-efficient Value of Model is :  [ 1.11844960e+04 -1.07248440e+03 -5.47023125e-02  7.66052071e-02\n",
            "  1.21914800e+00 -1.83241382e+05  1.76383608e+00 -1.55086785e+05\n",
            "  6.17617874e+01 -4.73992053e+02  1.73838950e+02]\n",
            "Stats for model 2:\n",
            "Intercept value of Model is  -660940.1563241789\n",
            "Co-efficient Value of Model is :  [ -213.6830022  -1572.70875447   125.96527748]\n"
          ]
        }
      ]
    },
    {
      "cell_type": "code",
      "source": [
        "X2_train"
      ],
      "metadata": {
        "id": "XwXIBGRVn8x7"
      },
      "execution_count": null,
      "outputs": []
    },
    {
      "cell_type": "code",
      "source": [
        "from sklearn.metrics import r2_score\n",
        "from sklearn.metrics import mean_squared_error\n",
        "# predicting the accuracy score for model 1\n",
        "score=r2_score(Y1_test, y_pred1.predict(X1_test))\n",
        "print('Accuracy stats for model 1:')\n",
        "print('r2 socre is',score)\n",
        "print('mean_sqrd_error is=',mean_squared_error(Y1_test,y_pred1.predict(X1_test)))\n",
        "print('root_mean_squared error of is=',np.sqrt(mean_squared_error(Y1_test,y_pred1.predict(X1_test))))"
      ],
      "metadata": {
        "colab": {
          "base_uri": "https://localhost:8080/"
        },
        "id": "dPCAece9d95J",
        "outputId": "ab94014d-310d-411a-ae5c-4c573f4bcf63"
      },
      "execution_count": null,
      "outputs": [
        {
          "output_type": "stream",
          "name": "stdout",
          "text": [
            "Accuracy stats for model 1:\n",
            "r2 socre is 0.9978189032777611\n",
            "mean_sqrd_error is= 662036735.2752587\n",
            "root_mean_squared error of is= 25730.0745291431\n"
          ]
        }
      ]
    },
    {
      "cell_type": "code",
      "source": [
        "score=r2_score(Y2_test, y_pred2.predict(X2_test))\n",
        "print('Accuracy stats for model 2:')\n",
        "print('r2 socre is',score)\n",
        "print('mean_sqrd_error is=',mean_squared_error(Y2_test,y_pred2.predict(X2_test)))\n",
        "print('root_mean_squared error of is=',np.sqrt(mean_squared_error(Y2_test,y_pred2.predict(X2_test))))"
      ],
      "metadata": {
        "colab": {
          "base_uri": "https://localhost:8080/"
        },
        "id": "vIZvmjR_IE21",
        "outputId": "0a9972a4-0a45-4cad-f663-3b41144f7d74"
      },
      "execution_count": null,
      "outputs": [
        {
          "output_type": "stream",
          "name": "stdout",
          "text": [
            "Accuracy stats for model 2:\n",
            "r2 socre is 0.9761414188849111\n",
            "mean_sqrd_error is= 7241887527.811943\n",
            "root_mean_squared error of is= 85099.28041888452\n"
          ]
        }
      ]
    },
    {
      "cell_type": "code",
      "source": [
        "Y2_test = np.array(Y2_test)\n",
        "y2_pred2 = np.array(y_pred2.predict(X2_test))\n",
        "pmsh_pf_2 = pd.DataFrame({'Actual':Y2_test.flatten(), 'Predict': y2_pred2.flatten()})\n",
        "pmsh_pf_2"
      ],
      "metadata": {
        "id": "qN0Iqi85pptX"
      },
      "execution_count": null,
      "outputs": []
    },
    {
      "cell_type": "code",
      "source": [
        "final_g2 = pd.merge(left = pmsh_pf_2, right = data3, how = 'inner', left_on = 'Actual', right_on='Cum_cases')\n",
        "final_g2.groupby('Date').head(10)"
      ],
      "metadata": {
        "id": "NnCboYkQrsjE"
      },
      "execution_count": null,
      "outputs": []
    },
    {
      "cell_type": "code",
      "source": [
        "plt.rcParams[\"figure.figsize\"] = [10.50, 4.50]\n",
        "plt.scatter(final_g2['Date'], final_g2['Actual'], color = \"green\", label='Actual')\n",
        "plt.plot(final_g2['Date'], final_g2['Predict'], color = \"red\", label='Predicted')\n",
        "plt.title(\"Cumulative Cases vs Date\")\n",
        "plt.xlabel(\"Date\")\n",
        "plt.ylabel(\"Cumulative Cases\")\n",
        "plt.xticks(rotation = 90)\n",
        "spacing = 0.1\n",
        "plt.subplots_adjust(bottom=spacing)\n",
        "plt.text(0.8, 0.35, '$y = %.2f x_1 %.2f x_2 + %.2f x_3 - %.2f $' % (y_pred2.coef_[0], y_pred2.coef_[1], y_pred2.coef_[2], abs(y_pred2.intercept_)), fontsize=10, transform=ax.transAxes)\n",
        "plt.show()"
      ],
      "metadata": {
        "colab": {
          "base_uri": "https://localhost:8080/",
          "height": 524
        },
        "id": "RoQpTvDDi2Br",
        "outputId": "cb2dbb7b-7cf9-4904-e247-3e37dc1db8ad"
      },
      "execution_count": null,
      "outputs": [
        {
          "output_type": "display_data",
          "data": {
            "text/plain": [
              "<Figure size 1050x450 with 1 Axes>"
            ],
            "image/png": "[encoded data removed]"
          },
          "metadata": {}
        }
      ]
    },
    {
      "cell_type": "code",
      "source": [
        "plt.style.use('default')\n",
        "plt.style.use('ggplot')\n",
        "\n",
        "fig, ax = plt.subplots(figsize=(7, 3.5))\n",
        "\n",
        "ax.plot(final_g2['Actual'], final_g2['Predict'], color='k', label='Regression model')\n",
        "#ax.scatter(X2, y2, edgecolor='k', facecolor='grey', alpha=0.7, label='Sample data')\n",
        "ax.set_ylabel('Cumulative cases', fontsize=14)\n",
        "ax.set_xlabel('Date', fontsize=14)\n",
        "ax.legend(facecolor='white', fontsize=11)\n",
        "#ax.text(0.55, 0.15, '$y = %.2f x_1 - %.2f $' % (y_pred2.coef_[0], abs(y_pred2.intercept_)), fontsize=17, transform=ax.transAxes)\n",
        "\n",
        "fig.tight_layout()"
      ],
      "metadata": {
        "colab": {
          "base_uri": "https://localhost:8080/",
          "height": 357
        },
        "id": "6f9cMvcMuC6b",
        "outputId": "52565e6a-4a91-4fcb-e7e8-e5a8c6d7893b"
      },
      "execution_count": null,
      "outputs": [
        {
          "output_type": "display_data",
          "data": {
            "text/plain": [
              "<Figure size 700x350 with 1 Axes>"
            ],
            "image/png": "[encoded data removed]"
          },
          "metadata": {}
        }
      ]
    },
    {
      "cell_type": "code",
      "source": [
        "plt.scatter(pmsh_pf_2['Actual'], pmsh_pf_2['Predict'], color = \"green\")\n",
        "plt.title(\"Cumulative Cases vs Death Rates (Training set)\")\n",
        "plt.xlabel(\"Total Death Rate\")\n",
        "plt.ylabel(\"Cumulative Cases\")\n",
        "plt.show()"
      ],
      "metadata": {
        "colab": {
          "base_uri": "https://localhost:8080/",
          "height": 295
        },
        "id": "ysVeqjOvrHml",
        "outputId": "306401d4-520b-4974-bdd1-491082a15d94"
      },
      "execution_count": null,
      "outputs": [
        {
          "output_type": "display_data",
          "data": {
            "text/plain": [
              "<Figure size 432x288 with 1 Axes>"
            ],
            "image/png": "[encoded data removed]"
          },
          "metadata": {
            "needs_background": "light"
          }
        }
      ]
    },
    {
      "cell_type": "code",
      "source": [
        "plt.scatter(X2_test['Total Death Rate'], Y2_test, color = \"red\")\n",
        "plt.plot(pmsh_pf_2['Actual'], pmsh_pf_2['Predict'], color = \"green\")\n",
        "plt.title(\"Cumulative Cases vs Death Rates (Training set)\")\n",
        "plt.xlabel(\"Total Death Rate\")\n",
        "plt.ylabel(\"Cumulative Cases\")\n",
        "plt.show()"
      ],
      "metadata": {
        "colab": {
          "base_uri": "https://localhost:8080/",
          "height": 295
        },
        "id": "PiVOuEtQcP9-",
        "outputId": "755fe777-00f9-49da-bd99-db47a0df7df5"
      },
      "execution_count": null,
      "outputs": [
        {
          "output_type": "display_data",
          "data": {
            "text/plain": [
              "<Figure size 432x288 with 1 Axes>"
            ],
            "image/png": "[encoded data removed]"
          },
          "metadata": {
            "needs_background": "light"
          }
        }
      ]
    },
    {
      "cell_type": "code",
      "source": [
        "y_pred1.predict(X1_test)"
      ],
      "metadata": {
        "colab": {
          "base_uri": "https://localhost:8080/"
        },
        "id": "-WwYNHIKzNQB",
        "outputId": "786bfc33-3273-41e3-8de6-86ff99d2c400"
      },
      "execution_count": null,
      "outputs": [
        {
          "output_type": "execute_result",
          "data": {
            "text/plain": [
              "array([1341236.47435711, 2740524.29243085, 2193746.48047918,\n",
              "       2785594.39892248, 2641173.69363308, 2809104.58679912,\n",
              "       2743567.79992071, 1724306.29682313, 2761481.95564386,\n",
              "       2747447.6838396 , 1612740.95369079, 1354505.05298987,\n",
              "       2784308.63256104, 1361063.99153482, 1390266.91576493,\n",
              "       1545910.93216053, 1576094.72564532, 2745969.32055332,\n",
              "       1881763.25021894, 2711003.00588733, 1640643.7564589 ,\n",
              "       1353043.80323774, 2707008.23607652, 2673033.74992848,\n",
              "       1844831.67382465, 1681116.54251873, 2767371.3523719 ,\n",
              "       2737955.13740816, 2813802.74236209, 1924532.65348948,\n",
              "       2127848.74011681, 1690870.96092818, 1344959.3996784 ,\n",
              "       2778055.89839759, 2778749.21754362, 2084951.40056263,\n",
              "       2770772.05196016, 2016900.36165856, 1945925.37893929,\n",
              "       2619268.20357725, 2570632.19373977, 2799021.51183215,\n",
              "       2593165.82316644, 2837615.27549585, 2606181.62916767,\n",
              "       2711849.32612301])"
            ]
          },
          "metadata": {},
          "execution_count": 194
        }
      ]
    },
    {
      "cell_type": "code",
      "execution_count": null,
      "metadata": {
        "id": "CxNJXy06xkF9"
      },
      "outputs": [],
      "source": [
        "# Filter Spain, run the Linear Regression workflow\n",
        "march_day = 21\n",
        "day_start = 39+march_day\n",
        "dates_list2 = dates_list[march_day:]\n",
        "plot_linreg_basic_country(data, dates_list2, day_start, march_day, train_lim, test_lim)"
      ]
    },
    {
      "cell_type": "markdown",
      "metadata": {
        "id": "4QDQuHCxxkF-"
      },
      "source": [
        "* **Italy**"
      ]
    },
    {
      "cell_type": "code",
      "execution_count": null,
      "metadata": {
        "id": "RWo9z3FWxkF-"
      },
      "outputs": [],
      "source": [
        "# Filter Italy, run the Linear Regression workflow\n",
        "country_name = \"Italy\"\n",
        "march_day = 10\n",
        "day_start = 39+march_day\n",
        "dates_list2 = dates_list[march_day:]\n",
        "plot_linreg_basic_country(data, country_name, dates_list2, day_start, march_day, train_lim, test_lim)"
      ]
    },
    {
      "cell_type": "code",
      "execution_count": null,
      "metadata": {
        "id": "ILeUZoZexkF-"
      },
      "outputs": [],
      "source": [
        "# Filter Italy, run the Linear Regression workflow\n",
        "country_name = \"Italy\"\n",
        "march_day = 21\n",
        "day_start = 39+march_day\n",
        "dates_list2 = dates_list[march_day:]\n",
        "plot_linreg_basic_country(data, country_name, dates_list2, day_start, march_day, train_lim, test_lim)"
      ]
    },
    {
      "cell_type": "markdown",
      "metadata": {
        "id": "rCI42vfcxkF-"
      },
      "source": [
        "* **Germany**"
      ]
    },
    {
      "cell_type": "code",
      "execution_count": null,
      "metadata": {
        "id": "Jy0p_vpSxkF-"
      },
      "outputs": [],
      "source": [
        "# Filter Germany, run the Linear Regression workflow\n",
        "country_name = \"Germany\"\n",
        "march_day = 10\n",
        "day_start = 39+march_day\n",
        "dates_list2 = dates_list[march_day:]\n",
        "plot_linreg_basic_country(data, country_name, dates_list2, day_start, march_day, train_lim, test_lim)"
      ]
    },
    {
      "cell_type": "code",
      "execution_count": null,
      "metadata": {
        "id": "l6GJCbwNxkF-"
      },
      "outputs": [],
      "source": [
        "# Filter Germany, run the Linear Regression workflow\n",
        "country_name = \"Germany\"\n",
        "march_day = 21\n",
        "day_start = 39+march_day\n",
        "dates_list2 = dates_list[march_day:]\n",
        "plot_linreg_basic_country(data, country_name, dates_list2, day_start, march_day, train_lim, test_lim)"
      ]
    },
    {
      "cell_type": "markdown",
      "metadata": {
        "id": "ktHUhJD9xkF-"
      },
      "source": [
        "* **Albania**"
      ]
    },
    {
      "cell_type": "code",
      "execution_count": null,
      "metadata": {
        "id": "55jw7AX9xkF_"
      },
      "outputs": [],
      "source": [
        "# Filter Albania, run the Linear Regression workflow\n",
        "country_name = \"Albania\"\n",
        "march_day = 10\n",
        "day_start = 39+march_day\n",
        "dates_list2 = dates_list[march_day:]\n",
        "plot_linreg_basic_country(data, country_name, dates_list2, day_start, march_day, train_lim, test_lim)"
      ]
    },
    {
      "cell_type": "code",
      "execution_count": null,
      "metadata": {
        "id": "Zudn7Q85xkF_"
      },
      "outputs": [],
      "source": [
        "# Filter Albania, run the Linear Regression workflow\n",
        "country_name = \"Albania\"\n",
        "march_day = 21\n",
        "day_start = 39+march_day\n",
        "dates_list2 = dates_list[march_day:]\n",
        "plot_linreg_basic_country(data, country_name, dates_list2, day_start, march_day, train_lim, test_lim)"
      ]
    },
    {
      "cell_type": "markdown",
      "metadata": {
        "id": "qe9E9Y8RxkF_"
      },
      "source": [
        "* **Andorra**"
      ]
    },
    {
      "cell_type": "code",
      "execution_count": null,
      "metadata": {
        "id": "085jVGhsxkF_"
      },
      "outputs": [],
      "source": [
        "# Filter Andorra, run the Linear Regression workflow\n",
        "country_name = \"Andorra\"\n",
        "shift = 10\n",
        "day_start = 39+shift\n",
        "dates_list2 = dates_list[shift:]\n",
        "plot_linreg_basic_country(data, country_name, dates_list2, day_start, shift, train_lim, test_lim)"
      ]
    },
    {
      "cell_type": "code",
      "execution_count": null,
      "metadata": {
        "id": "ahcYvwYWxkF_"
      },
      "outputs": [],
      "source": [
        "# Filter Andorra, run the Linear Regression workflow\n",
        "country_name = \"Andorra\"\n",
        "shift = 21\n",
        "day_start = 39+shift\n",
        "dates_list2 = dates_list[shift:]\n",
        "plot_linreg_basic_country(data, country_name, dates_list2, day_start, shift, train_lim, test_lim)"
      ]
    },
    {
      "cell_type": "markdown",
      "metadata": {
        "id": "bwv2kr6WxkF_"
      },
      "source": [
        "**Observations**:\n",
        "\n",
        "* The general evolution is captured despite the simplicity of the model\n",
        "* The cumulative infected cases has been changing in March, so that using thw whole month data for training results in overestimated predictions. When reducing the training set to only a few days prior the testing region, results are better. This is capturing the problem of the exponential behavior, that is only true for the early stages of the spreading. Now the behavior is more complex, and in order to predict the evolution with large portions of the historic evolution, alternative models are required (sigmoid, ARIMA...)\n",
        "* Estimations are increasingly worse as time passes (harder to extrapolate)\n",
        "* Countries that recently confirmed their first contagions are difficult to predict (less data points) \n",
        "* Countries with 0 cases in the whole training dataset are predicted as non-infected (no datapoints)\n",
        "\n",
        "** Questions to tackle in next subsections**:\n",
        "* How to obtain the full submission set? \n",
        "* What to do for countries with different Provinces/State informed?\n",
        "* Is there any alternative to manually setting the size of the train data? "
      ]
    },
    {
      "cell_type": "markdown",
      "metadata": {
        "id": "gFY9qZTqxkF_"
      },
      "source": [
        "## 4.2 Linear Regression for all countries (method 1) <a id=\"section42\"></a>\n",
        "\n",
        "We've recently discovered that when fitting only with 10 historical datapoints some problematic scenarios appear, that impact the performance of our Linear Regressor. Let's generalize the model for all countries to verify if it's an unavoidable problem. Steps to run for all countries:\n",
        "\n",
        "1. Loop for each country\n",
        "2. Compute provinces list\n",
        "3. If there are provinces, run the Linear Regressor for each of them\n",
        "4. Otherwise just run the Linear Regressor"
      ]
    },
    {
      "cell_type": "code",
      "execution_count": null,
      "metadata": {
        "id": "V7iXrtn-xkF_"
      },
      "outputs": [],
      "source": [
        "ts = time.time()\n",
        "\n",
        "def linreg_basic_all_countries(data, day_start, train_lim, test_lim):\n",
        "    \n",
        "    data2 = data.loc[data.Day_num >= day_start]\n",
        "\n",
        "    # Set the dataframe where we will update the predictions\n",
        "    data_pred = data[data.ForecastId != -1][['Country_Region', 'Province_State', 'Day_num', 'ForecastId']]\n",
        "    data_pred = data_pred.loc[data_pred['Day_num']>=day_start]\n",
        "    data_pred['Predicted_ConfirmedCases'] = [0]*len(data_pred)\n",
        "    data_pred['Predicted_Fatalities'] = [0]*len(data_pred)\n",
        "\n",
        "    print(\"Currently running Linear Regression for all countries\")\n",
        "\n",
        "    # Main loop for countries\n",
        "    for c in data2['Country_Region'].unique():\n",
        "\n",
        "        # List of provinces\n",
        "        provinces_list = data2[data2['Country_Region']==c]['Province_State'].unique()\n",
        "\n",
        "        # If the country has several Province/State informed\n",
        "        if len(provinces_list)>1:\n",
        "            for p in provinces_list:\n",
        "                data_cp = data2[(data2['Country_Region']==c) & (data2['Province_State']==p)]\n",
        "                X_train, Y_train_1, Y_train_2, X_test = split_data(data_cp, train_lim, test_lim)\n",
        "                model_1, pred_1 = lin_reg(X_train, Y_train_1, X_test)\n",
        "                model_2, pred_2 = lin_reg(X_train, Y_train_2, X_test)\n",
        "                data_pred.loc[((data_pred['Country_Region']==c) & (data2['Province_State']==p)), 'Predicted_ConfirmedCases'] = pred_1\n",
        "                data_pred.loc[((data_pred['Country_Region']==c) & (data2['Province_State']==p)), 'Predicted_Fatalities'] = pred_2\n",
        "\n",
        "        # No Province/State informed\n",
        "        else:\n",
        "            data_c = data2[(data2['Country_Region']==c)]\n",
        "            X_train, Y_train_1, Y_train_2, X_test = split_data(data_c, train_lim, test_lim)\n",
        "            model_1, pred_1 = lin_reg(X_train, Y_train_1, X_test)\n",
        "            model_2, pred_2 = lin_reg(X_train, Y_train_2, X_test)\n",
        "            data_pred.loc[(data_pred['Country_Region']==c), 'Predicted_ConfirmedCases'] = pred_1\n",
        "            data_pred.loc[(data_pred['Country_Region']==c), 'Predicted_Fatalities'] = pred_2\n",
        "\n",
        "    # Apply exponential transf. and clean potential infinites due to final numerical precision\n",
        "    data_pred[['Predicted_ConfirmedCases', 'Predicted_Fatalities']] = data_pred[['Predicted_ConfirmedCases', 'Predicted_Fatalities']].apply(lambda x: np.expm1(x))\n",
        "    data_pred.replace([np.inf, -np.inf], 0, inplace=True) \n",
        "    \n",
        "    return data_pred\n",
        "\n",
        "\n",
        "day_start = 65\n",
        "#data_pred = linreg_basic_all_countries(data, day_start, train_lim, test_lim)\n",
        "#get_submission(data_pred, 'Predicted_ConfirmedCases', 'Predicted_Fatalities')\n",
        "\n",
        "print(\"Process finished in \", round(time.time() - ts, 2), \" seconds\")"
      ]
    },
    {
      "cell_type": "markdown",
      "metadata": {
        "id": "BHtfw_o6xkGA"
      },
      "source": [
        "Final [LMSE score](https://medium.com/analytics-vidhya/root-mean-square-log-error-rmse-vs-rmlse-935c6cc1802a) for week 2, with training data prior to 2020-03-19 and measures on date 2020-04-01: \n",
        "\n",
        "**1.19681**"
      ]
    },
    {
      "cell_type": "markdown",
      "metadata": {
        "id": "ojneQbt9xkGA"
      },
      "source": [
        "## 4.3 Linear Regression for all countries (method 2) <a id=\"section43\"></a>\n",
        "\n",
        "An alternative method to setting the number of days for the training step is to simply keep all data for each country since the first case was confirmed. However, since there are certain countries were the initial outbreak was very smooth (i.e. in Spain there was only one confirmed case for 7 days in a row), predictions may be biased by these initial periods."
      ]
    },
    {
      "cell_type": "code",
      "execution_count": null,
      "metadata": {
        "id": "VPYzxWPaxkGA"
      },
      "outputs": [],
      "source": [
        "ts = time.time()\n",
        "\n",
        "# Set the dataframe where we will update the predictions\n",
        "day_start = 65\n",
        "data2 = data.loc[data.Day_num >= day_start]\n",
        "data_pred3 = data2[data2.ForecastId != -1][['Country_Region', 'Province_State', 'Day_num', 'ForecastId']]\n",
        "data_pred3['Predicted_ConfirmedCases'] = [0]*len(data_pred3)\n",
        "data_pred3['Predicted_Fatalities'] = [0]*len(data_pred3)\n",
        "how_many_days = test.Date.nunique()\n",
        "    \n",
        "print(\"Currently running Linear Regression for all countries\")\n",
        "\n",
        "# Main loop for countries\n",
        "for c in data['Country_Region'].unique():\n",
        "    \n",
        "    # List of provinces\n",
        "    provinces_list = data2[data2['Country_Region']==c]['Province_State'].unique()\n",
        "        \n",
        "    # If the country has several Province/State informed\n",
        "    if len(provinces_list)>1:\n",
        "        \n",
        "        for p in provinces_list:\n",
        "            # Only fit starting from the first confirmed case in the country\n",
        "            train_countries_no0 = data.loc[(data['Country_Region']==c) & (data['Province_State']==p) & (data.ConfirmedCases!=0) & (data.ForecastId==-1)]\n",
        "            test_countries_no0 = data.loc[(data['Country_Region']==c) & (data['Province_State']==p) &  (data.ForecastId!=-1)]\n",
        "            data2 = pd.concat([train_countries_no0, test_countries_no0])\n",
        "\n",
        "            # If there are no previous cases, predict 0\n",
        "            if len(train_countries_no0) == 0:\n",
        "                data_pred3.loc[((data_pred2['Country_Region']==c) & (data_pred3['Province_State']==p)), 'Predicted_ConfirmedCases'] = [0]*how_many_days\n",
        "                data_pred3.loc[((data_pred2['Country_Region']==c) & (data_pred3['Province_State']==p)), 'Predicted_Fatalities'] = [0]*how_many_days\n",
        "                \n",
        "            # Else run LinReg\n",
        "            else: \n",
        "                data_cp = data2[(data2['Country_Region']==c) & (data2['Province_State']==p)]\n",
        "                X_train, Y_train_1, Y_train_2, X_test = split_data(data_cp, train_lim, test_lim)\n",
        "                model_1, pred_1 = lin_reg(X_train, Y_train_1, X_test)\n",
        "                model_2, pred_2 = lin_reg(X_train, Y_train_2, X_test)\n",
        "                data_pred3.loc[((data_pred3['Country_Region']==c) & (data_pred3['Province_State']==p)), 'Predicted_ConfirmedCases'] = pred_1\n",
        "                data_pred3.loc[((data_pred3['Country_Region']==c) & (data_pred3['Province_State']==p)), 'Predicted_Fatalities'] = pred_2\n",
        "\n",
        "    # No Province/State informed\n",
        "    else:\n",
        "        # Only fit starting from the first confirmed case in the country\n",
        "        train_countries_no0 = data.loc[(data['Country_Region']==c) & (data.ConfirmedCases!=0) & (data.ForecastId==-1)]\n",
        "        test_countries_no0 = data.loc[(data['Country_Region']==c) &  (data.ForecastId!=-1)]\n",
        "        data2 = pd.concat([train_countries_no0, test_countries_no0])\n",
        "\n",
        "        # If there are no previous cases, predict 0\n",
        "        if len(train_countries_no0) == 0:\n",
        "            data_pred3.loc[((data_pred3['Country_Region']==c)), 'Predicted_ConfirmedCases'] = [0]*how_many_days\n",
        "            data_pred3.loc[((data_pred3['Country_Region']==c)), 'Predicted_Fatalities'] = [0]*how_many_days\n",
        "        \n",
        "        # Else, run LinReg\n",
        "        else:\n",
        "            data_c = data2[(data2['Country_Region']==c)]\n",
        "            X_train, Y_train_1, Y_train_2, X_test = split_data(data_c, train_lim, test_lim)\n",
        "            model_1, pred_1 = lin_reg(X_train, Y_train_1, X_test)\n",
        "            model_2, pred_2 = lin_reg(X_train, Y_train_2, X_test)\n",
        "            data_pred3.loc[(data_pred3['Country_Region']==c), 'Predicted_ConfirmedCases'] = pred_1\n",
        "            data_pred3.loc[(data_pred3['Country_Region']==c), 'Predicted_Fatalities'] = pred_2\n",
        "\n",
        "# Aplly exponential transf. and clean potential infinites due to final numerical precision\n",
        "#data_pred3[['Predicted_ConfirmedCases', 'Predicted_Fatalities']] = data_pred3[['Predicted_ConfirmedCases', 'Predicted_Fatalities']].apply(lambda x: np.expm1(x))\n",
        "#data_pred3.replace([np.inf, -np.inf], 0, inplace=True) \n",
        "\n",
        "#get_submission(data_pred3, 'Predicted_ConfirmedCases', 'Predicted_Fatalities')\n",
        "\n",
        "print(\"Process finished in \", round(time.time() - ts, 2), \" seconds\")"
      ]
    },
    {
      "cell_type": "markdown",
      "metadata": {
        "id": "a_PSepQ6xkGA"
      },
      "source": [
        "From my experiments, this apporach is not suitable for our linear regression model. In many cases there are strong transitional periods at the beginning, which frequently biases the regression. Hence, I will not apply this method on following sections, but you are welcome to use it for any other purposes.\n",
        "\n",
        "Final [LMSE score](https://medium.com/analytics-vidhya/root-mean-square-log-error-rmse-vs-rmlse-935c6cc1802a) for week 2, with training data prior to 2020-03-19 and measures on date 2020-04-01: \n",
        "\n",
        "**1.62190**"
      ]
    },
    {
      "cell_type": "markdown",
      "metadata": {
        "id": "mBjRY8_QxkGA"
      },
      "source": [
        "## 4.4. Linear regression with lags <a id=\"section44\"></a>\n",
        "\n",
        "With all the previous results in mind, I quite believe that Linear Regression is a good approach for the early stages of the COVID-19 spread. Of course, this is only true for the initial outbreak we are analysing, and there's no way our model could predict when the number of new infections is going to decrease. But for short-term prediction purposes everything is fine, and we are in disposition to try to improve the results.\n",
        "\n",
        "Remember those lagged variables we computed some sections before? Now it's time to use them, but first there's a problem to solve. If we use our dataset to predict the next following days of contagions, for the first day all the lags will be reported (from the previous days), but what about the next days? **Many of the lags will be unknown** (flagged as 0), since the number of ConfirmedCases is only known for the train subset. The most simple approach to overcome this is:\n",
        "\n",
        "1. Begin with the train dataset, with all cases and lags reported\n",
        "2. Forecast only the following day, through the Linear Regression\n",
        "3. Set the new prediction as a confirmed case\n",
        "4. Recompute lags\n",
        "5. Repeat from step 2 to step 4 for all remaining days\n",
        "\n",
        "As usual, I'll start training on single countries in order to analyze the behavior of the model with these new features."
      ]
    },
    {
      "cell_type": "code",
      "execution_count": null,
      "metadata": {
        "id": "0c9rqqFixkGA"
      },
      "outputs": [],
      "source": [
        "# New split function, for one forecast day\n",
        "def split_data_one_day(df, d, train_lim, test_lim):\n",
        "    \n",
        "    df.loc[df['Day_num']<=train_lim , 'ForecastId'] = -1\n",
        "    df = df[df['Day_num']<=test_lim]\n",
        "    \n",
        "    #Train\n",
        "    x_train = df[df.Day_num<d]\n",
        "    y_train_1 = x_train.ConfirmedCases\n",
        "    y_train_2 = x_train.Fatalities\n",
        "    x_train.drop(['ConfirmedCases', 'Fatalities'], axis=1, inplace=True)\n",
        "    \n",
        "    #Test\n",
        "    x_test = df[df.Day_num==d]\n",
        "    x_test.drop(['ConfirmedCases', 'Fatalities'], axis=1, inplace=True)\n",
        "    \n",
        "    # Clean Id columns and keep ForecastId as index\n",
        "    x_train.drop('Id', inplace=True, errors='ignore', axis=1)\n",
        "    x_train.drop('ForecastId', inplace=True, errors='ignore', axis=1)\n",
        "    x_test.drop('Id', inplace=True, errors='ignore', axis=1)\n",
        "    x_test.drop('ForecastId', inplace=True, errors='ignore', axis=1)\n",
        "    \n",
        "    return x_train, y_train_1, y_train_2, x_test\n",
        "\n",
        "\n",
        "def plot_real_vs_prediction_country(data, train, country_name, day_start, dates_list, march_day):\n",
        "\n",
        "    # Select predictions from March 1st to March 25th\n",
        "    predicted_data = data.loc[(data['Day_num'].isin(list(range(day_start, day_start+len(dates_list)))))].ConfirmedCases\n",
        "    real_data = train.loc[(train['Country_Region']==country_name) & (train['Date'].isin(dates_list))]['ConfirmedCases']\n",
        "    dates_list_num = list(range(0,len(dates_list)))\n",
        "\n",
        "    # Plot results\n",
        "    fig, (ax1, ax2) = plt.subplots(1, 2, figsize=(15,6))\n",
        "\n",
        "    ax1.plot(dates_list_num, np.expm1(predicted_data))\n",
        "    ax1.plot(dates_list_num, real_data)\n",
        "    ax1.axvline(30-march_day, linewidth=2, ls = ':', color='grey', alpha=0.5)\n",
        "    ax1.legend(['Predicted cases', 'Actual cases', 'Train-test split'], loc='upper left')\n",
        "    ax1.set_xlabel(\"Day count (starting on March \" + str(march_day) + \"))\")\n",
        "    ax1.set_ylabel(\"Confirmed Cases\")\n",
        "\n",
        "    ax2.plot(dates_list_num, predicted_data)\n",
        "    ax2.plot(dates_list_num, np.log1p(real_data))\n",
        "    ax2.axvline(30-march_day, linewidth=2, ls = ':', color='grey', alpha=0.5)\n",
        "    ax2.legend(['Predicted cases', 'Actual cases', 'Train-test split'], loc='upper left')\n",
        "    ax2.set_xlabel(\"Day count (starting on March \" + str(march_day) + \")\")\n",
        "    ax2.set_ylabel(\"Log Confirmed Cases\")\n",
        "\n",
        "    plt.suptitle((\"ConfirmedCases predictions based on Log-Lineal Regression for \"+country_name))\n",
        "    \n",
        "    \n",
        "def plot_real_vs_prediction_country_fatalities(data, train, country_name, day_start, dates_list, march_day):\n",
        "\n",
        "    # Select predictions from March 1st to March 25th\n",
        "    predicted_data = data.loc[(data['Day_num'].isin(list(range(day_start, day_start+len(dates_list)))))].Fatalities\n",
        "    real_data = train.loc[(train['Country_Region']==country_name) & (train['Date'].isin(dates_list))]['Fatalities']\n",
        "    dates_list_num = list(range(0,len(dates_list)))\n",
        "\n",
        "    # Plot results\n",
        "    fig, (ax1, ax2) = plt.subplots(1, 2, figsize=(15,6))\n",
        "\n",
        "    ax1.plot(dates_list_num, np.expm1(predicted_data))\n",
        "    ax1.plot(dates_list_num, real_data)\n",
        "    ax1.axvline(30-march_day, linewidth=2, ls = ':', color='grey', alpha=0.5)\n",
        "    ax1.legend(['Predicted cases', 'Actual cases', 'Train-test split'], loc='upper left')\n",
        "    ax1.set_xlabel(\"Day count (starting on March \" + str(march_day) + \")\")\n",
        "    ax1.set_ylabel(\"Fatalities Cases\")\n",
        "\n",
        "    ax2.plot(dates_list_num, predicted_data)\n",
        "    ax2.plot(dates_list_num, np.log1p(real_data))\n",
        "    ax2.axvline(30-march_day, linewidth=2, ls = ':', color='grey', alpha=0.5)\n",
        "    ax2.legend(['Predicted cases', 'Actual cases', 'Train-test split'], loc='upper left')\n",
        "    ax2.set_xlabel(\"Day count (starting on March \" + str(march_day) + \")\")\n",
        "    ax2.set_ylabel(\"Log Fatalities Cases\")\n",
        "\n",
        "    plt.suptitle((\"Fatalities predictions based on Log-Lineal Regression for \"+country_name))"
      ]
    },
    {
      "cell_type": "markdown",
      "metadata": {
        "id": "va_cbMSgxkGB"
      },
      "source": [
        "* **Spain**"
      ]
    },
    {
      "cell_type": "code",
      "execution_count": null,
      "metadata": {
        "id": "PNI52_APxkGB"
      },
      "outputs": [],
      "source": [
        "# Function to compute the Linear Regression predictions with lags, for a certain Country/Region\n",
        "def lin_reg_with_lags_country(all_data, country_name, day_start, lag_size, country_dict, train_lim, test_lim):\n",
        "    \n",
        "    ts = time.time()\n",
        "    \n",
        "    # Filter country and features from all_data (dataset without data leaking)\n",
        "    data = all_data.copy()\n",
        "    features = ['Id', 'Province_State', 'Country_Region',\n",
        "           'ConfirmedCases', 'Fatalities', 'ForecastId', 'Day_num']\n",
        "    data = data[features]\n",
        "\n",
        "    # Select country an data start (all days)\n",
        "    data = data[data['Country_Region']==country_dict[country_name]]\n",
        "    data = data.loc[data['Day_num']>=day_start]\n",
        "\n",
        "    # Lags\n",
        "    data = calculate_lag(data, range(1,lag_size), 'ConfirmedCases')\n",
        "    data = calculate_lag(data, range(1,8), 'Fatalities')\n",
        "\n",
        "    filter_col_confirmed = [col for col in data if col.startswith('Confirmed')]\n",
        "    filter_col_fatalities= [col for col in data if col.startswith('Fataliti')]\n",
        "    filter_col = np.append(filter_col_confirmed, filter_col_fatalities)\n",
        "    \n",
        "    # Apply log transformation\n",
        "    data[filter_col] = data[filter_col].apply(lambda x: np.log1p(x))\n",
        "    data.replace([np.inf, -np.inf], 0, inplace=True)\n",
        "    data.fillna(0, inplace=True)\n",
        "\n",
        "\n",
        "    # Start/end of forecast\n",
        "    start_fcst = all_data[all_data['Id']==-1].Day_num.min()\n",
        "    end_fcst = all_data[all_data['Id']==-1].Day_num.max()\n",
        "\n",
        "    for d in list(range(start_fcst, end_fcst+1)):\n",
        "        X_train, Y_train_1, Y_train_2, X_test = split_data_one_day(data, d, train_lim, test_lim)\n",
        "        model_1, pred_1 = lin_reg(X_train, Y_train_1, X_test)\n",
        "        data.loc[(data['Country_Region']==country_dict[country_name]) \n",
        "                 & (data['Day_num']==d), 'ConfirmedCases'] = pred_1[0]\n",
        "        model_2, pred_2 = lin_reg(X_train, Y_train_2, X_test)\n",
        "        data.loc[(data['Country_Region']==country_dict[country_name]) \n",
        "                 & (data['Day_num']==d), 'Fatalities'] = pred_2[0]\n",
        "\n",
        "        # Recompute lags \n",
        "        data = calculate_lag(data, range(1,lag_size), 'ConfirmedCases')\n",
        "        data = calculate_lag(data, range(1,8), 'Fatalities')\n",
        "        data.replace([np.inf, -np.inf], 0, inplace=True)\n",
        "        data.fillna(0, inplace=True)\n",
        "\n",
        "    #print(\"Process for \", country_name, \"finished in \", round(time.time() - ts, 2), \" seconds\")\n",
        "    \n",
        "    return data\n",
        "\n",
        "\n",
        "# Function to compute the Linear Regression predictions with lags, for a certain Country/Region and State/province\n",
        "def lin_reg_with_lags_country_province(all_data, country_name, province_name, day_start, lag_size, country_dict, train_lim, test_lim):\n",
        "    \n",
        "    ts = time.time()\n",
        "    \n",
        "    # Filter country and features from all_data (dataset without data leaking)\n",
        "    data = all_data.copy()\n",
        "    features = ['Id', 'Province_State', 'Country_Region',\n",
        "           'ConfirmedCases', 'Fatalities', 'ForecastId', 'Day_num']\n",
        "    data = data[features]\n",
        "\n",
        "    # Select country an data start (all days)\n",
        "    data = data[(data['Country_Region']==country_dict[country_name]) & (data['Province_State']==province_dict[province_name])]\n",
        "    data = data.loc[data['Day_num']>=day_start]\n",
        "\n",
        "    # Lags\n",
        "    data = calculate_lag(data, range(1,lag_size), 'ConfirmedCases')\n",
        "    data = calculate_lag(data, range(1,lag_size), 'Fatalities')\n",
        "\n",
        "    # Apply log transformation\n",
        "    filter_col_confirmed = [col for col in data if col.startswith('Confirmed')]\n",
        "    filter_col_fatalities= [col for col in data if col.startswith('Fataliti')]\n",
        "    filter_col = np.append(filter_col_confirmed, filter_col_fatalities)\n",
        "    data[filter_col] = data[filter_col].apply(lambda x: np.log1p(x))\n",
        "    data.replace([np.inf, -np.inf], 0, inplace=True)\n",
        "    data.fillna(0, inplace=True)\n",
        "\n",
        "    # Start/end of forecast\n",
        "    start_fcst = all_data[all_data['Id']==-1].Day_num.min()\n",
        "    end_fcst = all_data[all_data['Id']==-1].Day_num.max()\n",
        "\n",
        "    for d in list(range(start_fcst, end_fcst+1)):\n",
        "        X_train, Y_train_1, Y_train_2, X_test = split_data_one_day(data, d, train_lim, test_lim)\n",
        "        model_1, pred_1 = lin_reg(X_train, Y_train_1, X_test)\n",
        "        data.loc[(data['Country_Region']==country_dict[country_name]) & (data['Province_State']==province_dict[province_name]) \n",
        "                 & (data['Day_num']==d), 'ConfirmedCases'] = pred_1[0]\n",
        "        model_2, pred_2 = lin_reg(X_train, Y_train_2, X_test)\n",
        "        data.loc[(data['Country_Region']==country_dict[country_name]) & (data['Province_State']==province_dict[province_name])\n",
        "                 & (data['Day_num']==d), 'Fatalities'] = pred_2[0]\n",
        "\n",
        "        # Recompute lags \n",
        "        data = calculate_lag(data, range(1,lag_size), 'ConfirmedCases')\n",
        "        data = calculate_lag(data, range(1,lag_size), 'Fatalities')\n",
        "        data.replace([np.inf, -np.inf], 0, inplace=True)\n",
        "        data.fillna(0, inplace=True)\n",
        "\n",
        "    #print(\"Process for \", country_name, \"/\", province_name, \"finished in \", round(time.time() - ts, 2), \" seconds\")\n",
        "    \n",
        "    return data\n",
        "\n",
        "\n",
        "\n",
        "# Run the model for Spain\n",
        "country_name = 'Spain'\n",
        "march_day = 10\n",
        "day_start = 39 + march_day\n",
        "dates_list2 = dates_list[march_day:]\n",
        "lag_size = 30\n",
        "\n",
        "data_c = lin_reg_with_lags_country(all_data, country_name, day_start, lag_size, country_dict, train_lim, test_lim)\n",
        "plot_real_vs_prediction_country(data_c, train, country_name, day_start, dates_list2, march_day)\n",
        "plot_real_vs_prediction_country_fatalities(data_c, train, country_name, day_start, dates_list2, march_day)"
      ]
    },
    {
      "cell_type": "markdown",
      "metadata": {
        "id": "NMk12NphxkGB"
      },
      "source": [
        "* **Italy**"
      ]
    },
    {
      "cell_type": "code",
      "execution_count": null,
      "metadata": {
        "id": "LzqHQODpxkGB"
      },
      "outputs": [],
      "source": [
        "ts = time.time()\n",
        "\n",
        "# Inputs\n",
        "country_name = \"Italy\"\n",
        "march_day = 10\n",
        "day_start = 39 + march_day\n",
        "dates_list2 = dates_list[march_day:]\n",
        "lag_size = 30\n",
        "\n",
        "data_c = lin_reg_with_lags_country(all_data, country_name, day_start, lag_size, country_dict, train_lim, test_lim)\n",
        "plot_real_vs_prediction_country(data_c, train, country_name, day_start, dates_list2, march_day)\n",
        "plot_real_vs_prediction_country_fatalities(data_c, train, country_name, day_start, dates_list2, march_day)"
      ]
    },
    {
      "cell_type": "markdown",
      "metadata": {
        "id": "WXVDW_4ExkGB"
      },
      "source": [
        "* **Germany**"
      ]
    },
    {
      "cell_type": "code",
      "execution_count": null,
      "metadata": {
        "id": "YR13UprjxkGB"
      },
      "outputs": [],
      "source": [
        "# Inputs\n",
        "country_name = \"Germany\"\n",
        "march_day = 10\n",
        "day_start = 39 + march_day\n",
        "dates_list2 = dates_list[march_day:]\n",
        "lag_size = 30\n",
        "\n",
        "data_c = lin_reg_with_lags_country(all_data, country_name, day_start, lag_size, country_dict, train_lim, test_lim)\n",
        "plot_real_vs_prediction_country(data_c, train, country_name, day_start, dates_list2, march_day)\n",
        "plot_real_vs_prediction_country_fatalities(data_c, train, country_name, day_start, dates_list2, march_day)"
      ]
    },
    {
      "cell_type": "markdown",
      "metadata": {
        "id": "Gx2InQrGxkGC"
      },
      "source": [
        "* **Albania**"
      ]
    },
    {
      "cell_type": "code",
      "execution_count": null,
      "metadata": {
        "id": "CcnFKX7oxkGC"
      },
      "outputs": [],
      "source": [
        "# Inputs\n",
        "country_name = \"Albania\"\n",
        "march_day = 10\n",
        "day_start = 39 + march_day\n",
        "dates_list2 = dates_list[march_day:]\n",
        "lag_size = 7\n",
        "\n",
        "data_c = lin_reg_with_lags_country(all_data, country_name, day_start, lag_size, country_dict, train_lim, test_lim)\n",
        "plot_real_vs_prediction_country(data_c, train, country_name, day_start, dates_list2, march_day)\n",
        "plot_real_vs_prediction_country_fatalities(data_c, train, country_name, day_start, dates_list2, march_day)"
      ]
    },
    {
      "cell_type": "markdown",
      "metadata": {
        "id": "2C3JFus1xkGC"
      },
      "source": [
        "* **Andorra**"
      ]
    },
    {
      "cell_type": "code",
      "execution_count": null,
      "metadata": {
        "id": "dYH03X53xkGC"
      },
      "outputs": [],
      "source": [
        "# Inputs\n",
        "country_name = \"Andorra\"\n",
        "march_day = 10\n",
        "day_start = 39 + march_day\n",
        "dates_list2 = dates_list[march_day:]\n",
        "lag_size = 1\n",
        "\n",
        "data_c = lin_reg_with_lags_country(all_data, country_name, day_start, lag_size, country_dict, train_lim, test_lim)\n",
        "plot_real_vs_prediction_country(data_c, train, country_name, day_start, dates_list2, march_day)\n",
        "plot_real_vs_prediction_country_fatalities(data_c, train, country_name, day_start, dates_list2, march_day)"
      ]
    },
    {
      "cell_type": "markdown",
      "metadata": {
        "id": "FfKbnsJhxkGC"
      },
      "source": [
        "**Observations**:\n",
        "* **Parameters**. Two full weeks of training used (from February 26th to March 11th), with their previous 30 lags\n",
        "* **Enough data**. (Spain, Italy, Germany). For countries with several ConfirmedCases!=0 in the train dataset (prior to March 11th), predictions are very precise and similar to actual confirmed data\n",
        "* **Poor data**. (Algeria, Andorra). Countries with a small number of datapoints in the train dataset show a potentially disastrous prediction. Given the small number of cases, the log transformation followed by a Linear Regression is not able to capture the future behavior\n",
        "* **No data**. When the number of confirmed cases in the train dataset is 0 or negligible, the model predicts always no infections"
      ]
    },
    {
      "cell_type": "markdown",
      "metadata": {
        "id": "mQYPOn7qxkGC"
      },
      "source": [
        "Let's generalize the model with lags for training each country day by day:"
      ]
    },
    {
      "cell_type": "code",
      "execution_count": null,
      "metadata": {
        "id": "c2auOpW4xkGC"
      },
      "outputs": [],
      "source": [
        "\"\"\"\n",
        "# Inputs\n",
        "day_start = 39 \n",
        "lag_size = 30\n",
        "\n",
        "train3 = train.copy()\n",
        "train3.Province_State.fillna(\"None\", inplace=True)\n",
        "\n",
        "results_df = pd.DataFrame()\n",
        "\n",
        "tp = time.time()\n",
        "\n",
        "# Main loop for countries\n",
        "for country_name in train3['Country_Region'].unique():\n",
        "\n",
        "    # List of provinces\n",
        "    provinces_list = train3[train3['Country_Region']==country_name]['Province_State'].unique()\n",
        "        \n",
        "    # If the country has several Province/State informed\n",
        "    if len(provinces_list)>1:\n",
        "        for province_name in provinces_list:\n",
        "            pred_province = lin_reg_with_lags_country_province(all_data, country_name, province_name, day_start, lag_size, country_dict, train_lim, test_lim)\n",
        "            results_df = pd.concat([results_df, pred_province])\n",
        "\n",
        "    else:\n",
        "        pred_country = lin_reg_with_lags_country(all_data, country_name, day_start, lag_size, country_dict, train_lim, test_lim)\n",
        "        results_df = pd.concat([results_df, pred_country])\n",
        "        \n",
        "results_df_submit = results_df.copy()\n",
        "results_df_submit['ConfirmedCases'] = results_df_submit['ConfirmedCases'].apply(lambda x: np.expm1(x))\n",
        "results_df_submit['Fatalities'] = results_df_submit['Fatalities'].apply(lambda x: np.expm1(x))\n",
        "        \n",
        "#get_submission(results_df_submit.loc[results_df_submit['ForecastId']!=-1], 'ConfirmedCases', 'Fatalities')\n",
        "print(\"Complete process finished in \", time.time()-tp)\n",
        "\"\"\""
      ]
    },
    {
      "cell_type": "markdown",
      "metadata": {
        "id": "XAxsvA1nxkGC"
      },
      "source": [
        "Nice, extending the model for all countries and days has been quite easy, but a tricky part needs to be addressed. As we saw when analyzing the results for certain countries, some of them have too few training datapoints different from 0, and these scenarios sometimes end up with the regression algorithm predicting absurd values.  \n",
        "\n",
        "For the sake of simplicity, my proposal to overcome this problem consists on mixing the current results with those from [section 4.2.](#section42), where we trained the model for all countries without lags. All countries with too few confirmed cases in the training dataset will be predicted with results from section 4.2."
      ]
    },
    {
      "cell_type": "code",
      "execution_count": null,
      "metadata": {
        "id": "M8d7bEY7xkGD"
      },
      "outputs": [],
      "source": [
        "\"\"\"\n",
        "results_df_2 = results_df.copy()\n",
        "\n",
        "day_start = 39\n",
        "data_pred2 = linreg_basic_all_countries(data, day_start, train_lim, test_lim)\n",
        "day_num_test = 57    # Day 2020-04-18\n",
        "\n",
        "\n",
        "# Main loop for countries\n",
        "for country_name in train3['Country_Region'].unique():\n",
        "\n",
        "    # List of provinces\n",
        "    provinces_list = train3[train3['Country_Region']==country_name]['Province_State'].unique()\n",
        "\n",
        "    # Countries with several Province_State informed\n",
        "    if len(provinces_list)>1:\n",
        "        for province_name in provinces_list:\n",
        "        \n",
        "            tmp_index = all_data.index[(all_data['Country_Region']==country_dict[country_name]) & \n",
        "                           (all_data['Province_State']==province_dict[province_name]) & \n",
        "                           (all_data['Day_num']<day_num_test) & \n",
        "                           (all_data['ConfirmedCases']!=0)]\n",
        "\n",
        "            # When there is not enough data\n",
        "            if len(tmp_index) < 30:\n",
        "                \n",
        "                # ConfirmedCases\n",
        "                results_df_2.loc[((results_df_2['Country_Region']==country_dict[country_name]) & \n",
        "                                  (results_df_2['Province_State']==province_dict[province_name]) &\n",
        "                                  (results_df_2['Day_num']>=day_num_test)), 'ConfirmedCases'] = data_pred2.loc[((data_pred2['Country_Region']==country_dict[country_name]) & \n",
        "                                  (data_pred2['Province_State']==province_dict[province_name]) & \n",
        "                                  (data_pred2['Day_num']>=day_num_test)), 'Predicted_ConfirmedCases'].apply(lambda x: np.log1p(x))\n",
        "                \n",
        "                #Fatalities\n",
        "                results_df_2.loc[((results_df_2['Country_Region']==country_dict[country_name]) & \n",
        "                                  (results_df_2['Province_State']==province_dict[province_name]) &\n",
        "                                  (results_df_2['Day_num']>=day_num_test)), 'Fatalities'] = data_pred2.loc[((data_pred2['Country_Region']==country_dict[country_name]) & \n",
        "                                  (data_pred2['Province_State']==province_dict[province_name]) & \n",
        "                                  (data_pred2['Day_num']>=day_num_test)), 'Predicted_Fatalities'].apply(lambda x: np.log1p(x))\n",
        "                \n",
        "    # Countries without Province_State\n",
        "    else:\n",
        "        tmp_index = all_data.index[(all_data['Country_Region']==country_dict[country_name]) & \n",
        "                           (all_data['Day_num']<day_num_test) & \n",
        "                           (all_data['ConfirmedCases']!=0)]\n",
        "\n",
        "        # When there is not enough data\n",
        "        if len(tmp_index) < 30:\n",
        "            \n",
        "            #Confirmed Cases\n",
        "            results_df_2.loc[((results_df_2['Country_Region']==country_dict[country_name]) & \n",
        "                            (results_df_2['Day_num']>=day_num_test)), 'ConfirmedCases'] = data_pred2.loc[((data_pred2['Country_Region']==country_dict[country_name]) & \n",
        "                            (data_pred2['Day_num']>=day_num_test)), 'Predicted_ConfirmedCases'].apply(lambda x: np.log1p(x))\n",
        "            \n",
        "            results_df_2.loc[((results_df_2['Country_Region']==country_dict[country_name]) & \n",
        "                            (results_df_2['Day_num']>=day_num_test)), 'Fatalities'] = data_pred2.loc[((data_pred2['Country_Region']==country_dict[country_name]) & \n",
        "                            (data_pred2['Day_num']>=day_num_test)), 'Predicted_Fatalities'].apply(lambda x: np.log1p(x))\n",
        "            \n",
        "results_df_2 = results_df_2.loc[results_df_2['Day_num']>=day_num_test]\n",
        "#results_df_2[['ConfirmedCases', 'Fatalities']] = results_df_2[['ConfirmedCases', 'Fatalities']].apply(lambda x: np.expm1(x))\n",
        "#get_submission(results_df_2, 'ConfirmedCases', 'Fatalities')\n",
        "\"\"\""
      ]
    },
    {
      "cell_type": "markdown",
      "metadata": {
        "id": "fmTRrXiDxkGD"
      },
      "source": [
        "# 5. Predictions for the late stages of the transmission (under construction)<a id=\"section5\"></a>\n",
        "\n",
        "As the transmission progresses, **the exponential regime is left behind** and the Linear Regressor we developed begins to predict worse results. We were aware of this limitation, and now **alternative methods are required** in order to capture the new behavior.\n",
        "\n",
        "I'd like to clarify that the aim of this section will be to predict the immediate future evolution of the number of cases, not to estimate when the peack of infections will happen or to which extent the COVID-19 will spread in each country. \n",
        "\n",
        "Models considered in this section:\n",
        "\n",
        "1. Logistic curve fit\n",
        "\n",
        "2. Logistic curve fit for all countries\n",
        "\n",
        "3. ARIMA\n"
      ]
    },
    {
      "cell_type": "markdown",
      "metadata": {
        "id": "UYhB7ntSxkGD"
      },
      "source": [
        "## 5.1. Logistic curve fit <a id=\"section51\"></a>"
      ]
    },
    {
      "cell_type": "code",
      "execution_count": null,
      "metadata": {
        "id": "MOwAtF2yxkGD"
      },
      "outputs": [],
      "source": [
        "def logistic_function(x, a, b, c, d):\n",
        "    return a / (1. + np.exp(-c * (x - d))) + b\n",
        "\n",
        "def fit_logistic(all_data, country_name, province_name, train_lim, target):\n",
        "    data_cp = all_data.loc[(all_data['Country_Region']==country_dict[country_name]) & (all_data['Province_State']==province_dict[province_name])]\n",
        "    y = data_cp.loc[(data_cp['Day_num'])<=train_lim, target].astype(np.int32)\n",
        "    x = list(range(0, len(y)))\n",
        "\n",
        "    # Initial guess\n",
        "    p0 = [0,1,1,0]\n",
        "\n",
        "    (a_, b_, c_, d_), cov = optimize.curve_fit(logistic_function, x, y, bounds=(0, [500000., 10., 1000., 1000., ]), p0=p0, maxfev=10**9)\n",
        "    y_fit = logistic_function(x, a_, b_, c_, d_)\n",
        "    \n",
        "    return x, y, y_fit, (a_, b_, c_, d_), cov\n",
        "\n",
        "def plot_logistic(x, y, y_fit, country_name, province_name, target):\n",
        "    fig, ax = plt.subplots(1, 1, figsize=(6, 4))\n",
        "    ax.plot(x, y, 'o')\n",
        "    ax.plot(x, y_fit, '-')\n",
        "    ax.set_xlabel(\"Day count (starting on January 22nd)\")\n",
        "    ax.set_ylabel(target)\n",
        "    ax.set_title(\"Fit to logistic regression for \"+ country_name+\"/\"+province_name)\n",
        "    \n",
        "\n",
        "def plot_logistic_country(all_data, train, dates_overlap, country_name, province_name, valid_num, target, x, a_, b_, c_, d_):\n",
        "    forecast = logistic_function(list(range(len(x)+60)), a_, b_, c_, d_)\n",
        "    df_train = train.loc[(train['Country_Region']==country_name) & (train['Province_State']==province_name), target]\n",
        "    df_fcst = forecast[:len(df_train)]\n",
        "    dates = list(range(0,len(df_train)))\n",
        "    \n",
        "    # Plot results\n",
        "    fig, (ax1) = plt.subplots(1, 1, figsize=(6,4))\n",
        "    ax1.plot(dates, df_fcst)\n",
        "    ax1.plot(dates, df_train)\n",
        "    ax1.axvline(len(df_train)-valid_num-1, linewidth=2, ls = ':', color='grey', alpha=0.5)\n",
        "    ax1.set_title(\"Actual ConfirmedCases vs predictions based on Logistic curve for \"+country_name + \"/\"+province_name)\n",
        "    ax1.legend(['Predicted cases', 'Actual cases', 'Train-test split'], loc='upper left')\n",
        "    ax1.set_xlabel(\"Day count starting on January 22nd\")\n",
        "    ax1.set_ylabel(\"ConfirmedCases\")\n",
        "\n",
        "\n",
        "# Fit country to logistic curve\n",
        "country_name = 'Spain'\n",
        "province_name = 'None'\n",
        "train_lim = 69\n",
        "valid_lim = 84 # needs to be changed as more days of training data are included\n",
        "test_lim = 112\n",
        "valid_num=valid_lim-train_lim \n",
        "\n",
        "x, y, y_fit, (a_, b_, c_, d_), cov = fit_logistic(all_data, country_name, province_name, train_lim, 'ConfirmedCases')\n",
        "plot_logistic(x, y, y_fit, country_name, province_name, 'ConfirmedCases')\n",
        "plot_logistic_country(all_data, train, dates_overlap, country_name, province_name, valid_num, 'ConfirmedCases', x, a_, b_, c_, d_)"
      ]
    },
    {
      "cell_type": "markdown",
      "metadata": {
        "id": "QzH_THV3xkGD"
      },
      "source": [
        "* **Italy**"
      ]
    },
    {
      "cell_type": "code",
      "execution_count": null,
      "metadata": {
        "id": "CC9lWbEAxkGD"
      },
      "outputs": [],
      "source": [
        "# Fit country to logistic curve\n",
        "country_name = 'Italy'\n",
        "province_name = 'None'\n",
        "x, y, y_fit, (a_, b_, c_, d_), cov = fit_logistic(all_data, country_name, province_name, train_lim, 'ConfirmedCases')\n",
        "plot_logistic(x, y, y_fit, country_name, province_name, 'ConfirmedCases')\n",
        "plot_logistic_country(all_data, train, dates_overlap, country_name, province_name, valid_num, 'ConfirmedCases', x, a_, b_, c_, d_)"
      ]
    },
    {
      "cell_type": "markdown",
      "metadata": {
        "id": "IC_5STUtxkGE"
      },
      "source": [
        "* **Germany**"
      ]
    },
    {
      "cell_type": "code",
      "execution_count": null,
      "metadata": {
        "id": "VCqeHKjOxkGE"
      },
      "outputs": [],
      "source": [
        "# Fit country to logistic curve\n",
        "country_name = 'Germany'\n",
        "province_name = 'None'\n",
        "x, y, y_fit, (a_, b_, c_, d_), cov = fit_logistic(all_data, country_name, province_name, train_lim, 'ConfirmedCases')\n",
        "plot_logistic(x, y, y_fit, country_name, province_name, 'ConfirmedCases')\n",
        "plot_logistic_country(all_data, train, dates_overlap, country_name, province_name, valid_num, 'ConfirmedCases', x, a_, b_, c_, d_)"
      ]
    },
    {
      "cell_type": "markdown",
      "metadata": {
        "id": "_V_F1DjuxkGE"
      },
      "source": [
        "* **Albania**"
      ]
    },
    {
      "cell_type": "code",
      "execution_count": null,
      "metadata": {
        "id": "yGaKC5dsxkGE"
      },
      "outputs": [],
      "source": [
        "# Fit country to logistic curve\n",
        "country_name = 'Albania'\n",
        "province_name = 'None'\n",
        "x, y, y_fit, (a_, b_, c_, d_), cov = fit_logistic(all_data, country_name, province_name, train_lim, 'ConfirmedCases')\n",
        "plot_logistic(x, y, y_fit, country_name, province_name, 'ConfirmedCases')\n",
        "plot_logistic_country(all_data, train, dates_overlap, country_name, province_name, valid_num, 'ConfirmedCases', x, a_, b_, c_, d_)"
      ]
    },
    {
      "cell_type": "markdown",
      "metadata": {
        "id": "xeVe6o9-xkGE"
      },
      "source": [
        "* **Andorra**"
      ]
    },
    {
      "cell_type": "code",
      "execution_count": null,
      "metadata": {
        "id": "G8SEetUrxkGE"
      },
      "outputs": [],
      "source": [
        "# Fit country to logistic curve\n",
        "country_name = 'Andorra'\n",
        "province_name = 'None'\n",
        "x, y, y_fit, (a_, b_, c_, d_), cov = fit_logistic(all_data, country_name, province_name, train_lim, 'ConfirmedCases')\n",
        "plot_logistic(x, y, y_fit, country_name, province_name, 'ConfirmedCases')\n",
        "plot_logistic_country(all_data, train, dates_overlap, country_name, province_name, valid_num, 'ConfirmedCases', x, a_, b_, c_, d_)"
      ]
    },
    {
      "cell_type": "markdown",
      "metadata": {
        "id": "cfwz6aH4xkGE"
      },
      "source": [
        "*** China/Hubei**"
      ]
    },
    {
      "cell_type": "code",
      "execution_count": null,
      "metadata": {
        "id": "nAfm8c-9xkGE"
      },
      "outputs": [],
      "source": [
        "# Fit country to logistic curve\n",
        "country_name = 'China'\n",
        "province_name = 'Hubei'\n",
        "x, y, y_fit, (a_, b_, c_, d_), cov = fit_logistic(all_data, country_name, province_name, train_lim, 'ConfirmedCases')\n",
        "plot_logistic(x, y, y_fit, country_name, province_name, 'ConfirmedCases')\n",
        "plot_logistic_country(all_data, train, dates_overlap, country_name, province_name, valid_num, 'ConfirmedCases', x, a_, b_, c_, d_)"
      ]
    },
    {
      "cell_type": "markdown",
      "metadata": {
        "id": "w2RXPxYPxkGF"
      },
      "source": [
        "## 5.2. Logistic curve fit for all countries <a id=\"section52\"></a>"
      ]
    },
    {
      "cell_type": "code",
      "execution_count": null,
      "metadata": {
        "id": "EDLkoW16xkGF"
      },
      "outputs": [],
      "source": [
        "train_lim = 69\n",
        "test_lim = 112\n",
        "\n",
        "def logistic_forecast_allcountries(all_data, train, train_lim, test_lim):\n",
        "    \n",
        "    ts = time.time()\n",
        "    data_pred = all_data[all_data.ForecastId != -1][['Country_Region', 'Province_State', 'Day_num', 'ForecastId']]\n",
        "    data_pred['Predicted_ConfirmedCases'] = [0]*len(data_pred)\n",
        "    data_pred['Predicted_Fatalities'] = [0]*len(data_pred)\n",
        "\n",
        "    # Main loop for countries\n",
        "    for country_name in train['Country_Region'].unique():\n",
        "        for province_name in train[train['Country_Region']==country_name]['Province_State'].unique():\n",
        "            \n",
        "            # ConfirmedCases\n",
        "            x, y, y_fit, (a_, b_, c_, d_), cov = fit_logistic(all_data, country_name, province_name, train_lim, 'ConfirmedCases')\n",
        "            pred_1 = [logistic_function(t, a_, b_, c_, d_) for t in list(range(train_lim+1, test_lim+1))]\n",
        "            data_pred.loc[((data_pred['Country_Region']==country_dict[country_name]) & (data_pred['Province_State']==province_dict[province_name])), 'Predicted_ConfirmedCases'] = pred_1\n",
        "\n",
        "            # Fatalities\n",
        "            x, y, y_fit, (a_, b_, c_, d_), cov = fit_logistic(all_data, country_name, province_name, train_lim, 'Fatalities')\n",
        "            pred_2 = [logistic_function(t, a_, b_, c_, d_) for t in list(range(train_lim+1, test_lim+1))]\n",
        "            data_pred.loc[((data_pred['Country_Region']==country_dict[country_name]) & (data_pred['Province_State']==province_dict[province_name])), 'Predicted_Fatalities'] = pred_2\n",
        "\n",
        "\n",
        "    print(\"Logistic function fit for all countries finished in \", round(time.time() - ts, 2), \" seconds\")\n",
        "    return data_pred\n",
        "    \n",
        "logistic_forecast = logistic_forecast_allcountries(all_data, train, train_lim, test_lim) \n",
        "get_submission(logistic_forecast, 'Predicted_ConfirmedCases', 'Predicted_Fatalities')"
      ]
    },
    {
      "cell_type": "markdown",
      "metadata": {
        "id": "jNdwvga9xkGF"
      },
      "source": [
        "## 5.3. ARIMA <a id=\"section53\"></a>\n",
        "\n",
        "Autoregressive integrated moving average (ARIMA) models are mainly used for time-series analysis, since they are capable to predict the future values of a variable based only on its historical evolution. ARIMA models can be understood by dividing them in three main concepts, each of them with a related parameter:\n",
        "* **AR**: the regression of the predicted variable is based on its previous values (lags). The $p$ parameter defines the number of these terms.\n",
        "$$\\sum_{i=1}^p \\phi_i y_{t-i}$$\n",
        "\n",
        "* **I**: data values used for the regression are differenciated until they are stationary. Instead of working with $y_t$, it uses terms of . Parameter $d$ is related to the number of differences need for stationarity.\n",
        "$$y'_t \\sim y_t-y_{t-1}$$\n",
        "\n",
        "* **MA**: the error of the regression is based on a linear combination of error terms from the past (lags of errors). Parameter $q$ is the number of lagged forecast errors in the prediction equation. \n",
        "$$\\sum_{i=1}^q \\theta_i \\epsilon_{t-i}$$\n",
        "\n",
        "In general, the model can be written as:\n",
        "$$ y_{t}' =  c + \\phi_1 y'_{t-1} + ... + \\phi_p y'_{t-p} + \\theta_1 \\epsilon_{t-1} ... + \\theta_q \\epsilon_{t-q} - \\epsilon_t $$\n",
        "\n",
        "In order to keep the notebook clean and don't overextend, I won't go into further details of the model. For a rich explanation of ARIMA models you can visit the [Monash University online textbook](https://otexts.com/fpp2/arima.html)."
      ]
    },
    {
      "cell_type": "code",
      "execution_count": null,
      "metadata": {
        "id": "8O-TWmoOxkGF"
      },
      "outputs": [],
      "source": [
        "!pip install pyramid.arima\n",
        "from pyramid.arima import auto_arima"
      ]
    },
    {
      "cell_type": "markdown",
      "metadata": {
        "id": "MH8lWevYxkGF"
      },
      "source": [
        "* **Spain**"
      ]
    },
    {
      "cell_type": "code",
      "execution_count": null,
      "metadata": {
        "id": "YyKTJr82xkGF"
      },
      "outputs": [],
      "source": [
        "# Define a general function to run ARIMA regression\n",
        "def arima_cp(all_data, country_name, province_name, target, train_lim, test_lim):\n",
        "    \n",
        "    #Select data for the Country/Region, splitting train/test days\n",
        "    data_cp = all_data.loc[(all_data['Country_Region']==country_dict[country_name]) & (all_data['Province_State']==province_dict[province_name])]\n",
        "    data_cp_train = data_cp.loc[(data_cp['Day_num'])<=train_lim, target].astype(np.int32)\n",
        "    data_cp_test = data_cp.loc[(data_cp['Day_num'])>test_lim, target].astype(np.int32)\n",
        "\n",
        "    # Set the range of parameters to use\n",
        "    stepwise_model = auto_arima(data_cp[target], start_p=1, start_q=1, max_p=30, max_q=30, \n",
        "                                start_P=0, seasonal=False, d=2, trace=False, error_action='ignore', stepwise=True)\n",
        "\n",
        "    # Train and predict\n",
        "    stepwise_model.fit(data_cp_train, start_ar_lags=2*max(30, 30))\n",
        "    forecast = stepwise_model.predict(n_periods=test_lim-train_lim)\n",
        "    return forecast\n",
        "\n",
        "\n",
        "# Plot the actual values vs predictions\n",
        "def plot_arima_country(all_data, train, forecast, dates_overlap, country_name, province_name, valid_num, target):\n",
        "    df_train = train.loc[(train['Country_Region']==country_name) & (train['Province_State']==province_name), target]\n",
        "    df_fcst = np.append(df_train[:-valid_num], forecast[:valid_num])\n",
        "    dates = list(range(0,len(df_train)))\n",
        "    \n",
        "    # Plot results\n",
        "    fig, (ax1) = plt.subplots(1, 1, figsize=(10,6))\n",
        "    ax1.plot(dates, df_fcst)\n",
        "    ax1.plot(dates, df_train)\n",
        "    ax1.axvline(len(df_train)-valid_num-1, linewidth=2, ls = ':', color='grey', alpha=0.5)\n",
        "    ax1.set_title(\"Actual ConfirmedCases vs predictions based on ARIMA for \"+country_name + \"/\"+province_name)\n",
        "    ax1.legend(['Predicted cases', 'Actual cases', 'Train-test split'], loc='upper left')\n",
        "    ax1.set_xlabel(\"Day count starting on January 22nd\")\n",
        "    ax1.set_ylabel(\"ConfirmedCases\")\n",
        "    \n",
        "    \n",
        "    \n",
        "# Inputs\n",
        "country_name = 'Spain'\n",
        "province_name = 'None'\n",
        "\n",
        "forecast = arima_cp(all_data, country_name, province_name, 'ConfirmedCases', train_lim, test_lim)\n",
        "plot_arima_country(all_data, train, forecast, dates_overlap, country_name, province_name, valid_num, 'ConfirmedCases')"
      ]
    },
    {
      "cell_type": "markdown",
      "metadata": {
        "id": "b0vNpqYWxkGF"
      },
      "source": [
        "* **Italy**"
      ]
    },
    {
      "cell_type": "code",
      "execution_count": null,
      "metadata": {
        "id": "1ggIzArAxkGG"
      },
      "outputs": [],
      "source": [
        "# Inputs\n",
        "country_name = 'Italy'\n",
        "province_name = 'None'\n",
        "\n",
        "forecast = arima_cp(all_data, country_name, province_name, 'ConfirmedCases', train_lim, test_lim)\n",
        "plot_arima_country(all_data, train, forecast, dates_overlap, country_name, province_name, valid_num, 'ConfirmedCases')"
      ]
    },
    {
      "cell_type": "markdown",
      "metadata": {
        "id": "2gbEc_uIxkGG"
      },
      "source": [
        "* **Germany**"
      ]
    },
    {
      "cell_type": "code",
      "execution_count": null,
      "metadata": {
        "id": "nXvIreSSxkGG"
      },
      "outputs": [],
      "source": [
        "# Inputs\n",
        "country_name = 'Germany'\n",
        "province_name = 'None'\n",
        "\n",
        "forecast = arima_cp(all_data, country_name, province_name, 'ConfirmedCases', train_lim, test_lim)\n",
        "plot_arima_country(all_data, train, forecast, dates_overlap, country_name, province_name, valid_num, 'ConfirmedCases')"
      ]
    },
    {
      "cell_type": "markdown",
      "metadata": {
        "id": "RKY0FDSnxkGG"
      },
      "source": [
        "* **Albania**"
      ]
    },
    {
      "cell_type": "code",
      "execution_count": null,
      "metadata": {
        "id": "Sa0pIlnBxkGG"
      },
      "outputs": [],
      "source": [
        "# Inputs\n",
        "country_name = 'Albania'\n",
        "province_name = 'None'\n",
        "\n",
        "forecast = arima_cp(all_data, country_name, province_name, 'ConfirmedCases', train_lim, test_lim)\n",
        "plot_arima_country(all_data, train, forecast, dates_overlap, country_name, province_name, valid_num, 'ConfirmedCases')"
      ]
    },
    {
      "cell_type": "markdown",
      "metadata": {
        "id": "PnoqVQDaxkGG"
      },
      "source": [
        "* **Andorra**"
      ]
    },
    {
      "cell_type": "code",
      "execution_count": null,
      "metadata": {
        "id": "QMAGpyAxxkGG"
      },
      "outputs": [],
      "source": [
        "# Inputs\n",
        "country_name = 'Andorra'\n",
        "province_name = 'None'\n",
        "\n",
        "forecast = arima_cp(all_data, country_name, province_name, 'ConfirmedCases', train_lim, test_lim)\n",
        "plot_arima_country(all_data, train, forecast, dates_overlap, country_name, province_name, valid_num, 'ConfirmedCases')"
      ]
    },
    {
      "cell_type": "markdown",
      "metadata": {
        "id": "mLDhZZ3zxkGG"
      },
      "source": [
        "* **China/Hubei**"
      ]
    },
    {
      "cell_type": "code",
      "execution_count": null,
      "metadata": {
        "id": "bFM_xBX9xkGH"
      },
      "outputs": [],
      "source": [
        "# Inputs\n",
        "country_name = 'China'\n",
        "province_name = 'Hubei'\n",
        "\n",
        "forecast = arima_cp(all_data, country_name, province_name, 'ConfirmedCases', train_lim, test_lim)\n",
        "plot_arima_country(all_data, train, forecast, dates_overlap, country_name, province_name, valid_num, 'ConfirmedCases')"
      ]
    },
    {
      "cell_type": "code",
      "execution_count": null,
      "metadata": {
        "id": "a78Aj3AgxkGH"
      },
      "outputs": [],
      "source": [
        "\"\"\"\n",
        "train_lim = 69\n",
        "test_lim = 112\n",
        "\n",
        "ARIMA_forecast = all_data[all_data.ForecastId != -1][['Country_Region', 'Province_State', 'Day_num', 'ForecastId']]\n",
        "ARIMA_forecast['Predicted_ConfirmedCases'] = [0]*len(ARIMA_forecast)\n",
        "ARIMA_forecast['Predicted_Fatalities'] = [0]*len(ARIMA_forecast)\n",
        "\n",
        "# Main loop for countries\n",
        "for c in train['Country_Region'].unique():\n",
        "        for p in train[train['Country_Region']==c]['Province_State'].unique():\n",
        "            print(c, p)\n",
        "            pred_1 = arima_cp(all_data, c, p, 'ConfirmedCases', train_lim, test_lim)\n",
        "            #pred_2 = arima_cp(all_data, c, p, 'Fatalities', train_lim, test_lim)\n",
        "            ARIMA_forecast.loc[((ARIMA_forecast['Country_Region']==country_dict[c]) & (ARIMA_forecast['Province_State']==province_dict[p])), 'Predicted_ConfirmedCases'] = pred_1\n",
        "            #ARIMA_forecast.loc[((ARIMA_forecast['Country_Region']==country_dict[c]) & (ARIMA_forecast['Province_State']==province_dict[p])), 'Predicted_Fatalities'] = pred_2\n",
        "            \n",
        "\"\"\""
      ]
    },
    {
      "cell_type": "code",
      "execution_count": null,
      "metadata": {
        "id": "k72713tkxkGH"
      },
      "outputs": [],
      "source": [
        "\"\"\" WEIRD OVERESTIMATED CASE\n",
        "# Fit country to logistic curve\n",
        "country_name = 'South Africa'\n",
        "province_name = 'None'\n",
        "target = 'ConfirmedCases'\n",
        "#target='Fatalities'\n",
        "x, y, y_fit, (a_, b_, c_, d_), cov = fit_logistic(all_data, country_name, province_name, train_lim, target)\n",
        "plot_logistic(x, y, y_fit, country_name, province_name, target)\n",
        "\n",
        "#x, y, y_fit, (a_, b_, c_, d_), cov = fit_logistic(all_data, country_name, province_name, train_lim, target)\n",
        "pred_1 = [logistic_function(t, a_, b_, c_, d_) for t in list(range(train_lim+1, test_lim+1))]\n",
        "\n",
        "pred_1\n",
        "\n",
        "logistic_forecast[(logistic_forecast['Country_Region']==66) & (logistic_forecast['Province_State']==81)]\n",
        "\"\"\""
      ]
    }
  ],
  "metadata": {
    "kernelspec": {
      "display_name": "Python 3",
      "language": "python",
      "name": "python3"
    },
    "language_info": {
      "codemirror_mode": {
        "name": "ipython",
        "version": 3
      },
      "file_extension": ".py",
      "mimetype": "text/x-python",
      "name": "python",
      "nbconvert_exporter": "python",
      "pygments_lexer": "ipython3",
      "version": "3.6.6"
    },
    "colab": {
      "name": "PAModel.ipynb",
      "provenance": [],
      "collapsed_sections": [
        "ZMCyNOiUxkF5",
        "D0ww7zB0xkF6",
        "w2RXPxYPxkGF",
        "jNdwvga9xkGF"
      ],
      "include_colab_link": true
    }
  },
  "nbformat": 4,
  "nbformat_minor": 0
}